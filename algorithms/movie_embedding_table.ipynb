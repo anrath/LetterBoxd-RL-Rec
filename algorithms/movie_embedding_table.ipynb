{
 "cells": [
  {
   "cell_type": "code",
   "execution_count": 1,
   "id": "fc5b4f28-24d1-49b2-8e4b-3dffc2cb77e7",
   "metadata": {
    "tags": []
   },
   "outputs": [],
   "source": [
    "%load_ext autoreload\n",
    "%autoreload 2"
   ]
  },
  {
   "cell_type": "code",
   "execution_count": 2,
   "id": "05be75f0-6e8b-4175-a592-ebb4c89f9b1f",
   "metadata": {
    "tags": []
   },
   "outputs": [],
   "source": [
    "import train_loop"
   ]
  },
  {
   "cell_type": "code",
   "execution_count": 30,
   "id": "336f5257-6b44-4d02-90a6-0ffc60855db3",
   "metadata": {
    "tags": []
   },
   "outputs": [],
   "source": [
    "table = train_loop.MovieEmbeddingTable(\n",
    "    \"../data/vectorizing/movie_data_vectorized.csv\",\n",
    "    \"../data/vectorizing/nlp_vectors.pt\"\n",
    ")"
   ]
  },
  {
   "cell_type": "code",
   "execution_count": 34,
   "id": "97c401ab-2625-4be7-b2e3-c3fc736f1540",
   "metadata": {
    "tags": []
   },
   "outputs": [
    {
     "data": {
      "text/plain": [
       "(torch.Size([270422, 231]),\n",
       " torch.Size([270422, 384]),\n",
       " torch.Size([270422, 384]))"
      ]
     },
     "execution_count": 34,
     "metadata": {},
     "output_type": "execute_result"
    }
   ],
   "source": [
    "table.movie_tensor.shape, table.overview_vectors.shape, table.title_vectors.shape"
   ]
  },
  {
   "cell_type": "code",
   "execution_count": 35,
   "id": "9bbce600-4006-461b-8aa6-acaa87f0d5b4",
   "metadata": {
    "tags": []
   },
   "outputs": [
    {
     "data": {
      "text/plain": [
       "torch.Size([3, 999])"
      ]
     },
     "execution_count": 35,
     "metadata": {},
     "output_type": "execute_result"
    }
   ],
   "source": [
    "table([1, 2, 3]).shape"
   ]
  },
  {
   "cell_type": "code",
   "execution_count": 8,
   "id": "59e82e1b-d8e4-465d-94f3-7f0cf0e1c96d",
   "metadata": {
    "tags": []
   },
   "outputs": [],
   "source": [
    "genres_vectorized = table.movie_metadata['genres_encoded'].map(train_loop.vectorize_string_array)"
   ]
  },
  {
   "cell_type": "code",
   "execution_count": 21,
   "id": "04be410a-802a-4910-990c-ee458d24cf61",
   "metadata": {
    "tags": []
   },
   "outputs": [
    {
     "data": {
      "text/plain": [
       "torch.Size([270422, 32])"
      ]
     },
     "execution_count": 21,
     "metadata": {},
     "output_type": "execute_result"
    }
   ],
   "source": [
    "import torch\n",
    "\n",
    "genres_tensor = torch.tensor(genres_vectorized)\n",
    "genres_tensor.shape"
   ]
  },
  {
   "cell_type": "code",
   "execution_count": 14,
   "id": "631c07a8-ab9c-4d85-b786-a7a012d60caf",
   "metadata": {
    "tags": []
   },
   "outputs": [
    {
     "data": {
      "text/plain": [
       "torch.Size([270422, 32])"
      ]
     },
     "execution_count": 14,
     "metadata": {},
     "output_type": "execute_result"
    }
   ],
   "source": []
  },
  {
   "cell_type": "code",
   "execution_count": 16,
   "id": "dce75e14-b9d6-4781-8d60-3820a2479012",
   "metadata": {
    "tags": []
   },
   "outputs": [],
   "source": [
    "countries_vectorized = table.movie_metadata['production_countries_encoded'].map(train_loop.vectorize_string_array)"
   ]
  },
  {
   "cell_type": "code",
   "execution_count": 18,
   "id": "f1232b7e-7ab1-4958-b380-12c5ba9409b8",
   "metadata": {
    "tags": []
   },
   "outputs": [
    {
     "data": {
      "text/plain": [
       "tensor([0.6000, 0.6000, 1.5680,  ..., 0.6000, 0.6000, 2.8610],\n",
       "       dtype=torch.float64)"
      ]
     },
     "execution_count": 18,
     "metadata": {},
     "output_type": "execute_result"
    }
   ],
   "source": [
    "torch.tensor(table.movie_metadata['popularity'])"
   ]
  },
  {
   "cell_type": "code",
   "execution_count": null,
   "id": "a30ee8ea-0769-49d1-a474-a7392320d04b",
   "metadata": {},
   "outputs": [],
   "source": []
  }
 ],
 "metadata": {
  "kernelspec": {
   "display_name": "rvt",
   "language": "python",
   "name": "py310"
  },
  "language_info": {
   "codemirror_mode": {
    "name": "ipython",
    "version": 3
   },
   "file_extension": ".py",
   "mimetype": "text/x-python",
   "name": "python",
   "nbconvert_exporter": "python",
   "pygments_lexer": "ipython3",
   "version": "3.10.9"
  }
 },
 "nbformat": 4,
 "nbformat_minor": 5
}
