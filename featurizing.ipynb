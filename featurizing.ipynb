{
 "cells": [
  {
   "cell_type": "code",
   "execution_count": 1,
   "metadata": {},
   "outputs": [],
   "source": [
    "import pandas as pd\n",
    "from sklearn.preprocessing import MultiLabelBinarizer, OneHotEncoder\n",
    "from sentence_transformers import SentenceTransformer\n",
    "from datetime import datetime"
   ]
  },
  {
   "cell_type": "code",
   "execution_count": 2,
   "metadata": {},
   "outputs": [
    {
     "data": {
      "text/plain": [
       "Index(['_id', 'genres', 'movie_title', 'original_language', 'overview',\n",
       "       'popularity', 'production_countries', 'release_date', 'runtime',\n",
       "       'spoken_languages', 'vote_average', 'vote_count', 'year_released'],\n",
       "      dtype='object')"
      ]
     },
     "execution_count": 2,
     "metadata": {},
     "output_type": "execute_result"
    }
   ],
   "source": [
    "df = pd.read_excel('data/movie_data.xlsx')\n",
    "df.to_pickle('data/movie_data.pkl')\n",
    "\n",
    "useful_columns = ['_id', 'genres', 'movie_title', 'original_language', 'overview', 'popularity', 'production_countries', 'release_date', 'runtime', 'spoken_languages', 'vote_average', 'vote_count', 'year_released']\n",
    "df = df[useful_columns]\n",
    "\n",
    "df.columns"
   ]
  },
  {
   "cell_type": "code",
   "execution_count": 3,
   "metadata": {},
   "outputs": [],
   "source": [
    "df = df.dropna(subset=['release_date'])\n",
    "df['release_date'] = pd.to_datetime(df['release_date'])\n",
    "df['release_date_ordinal'] = df['release_date'].apply(lambda x: x.toordinal())"
   ]
  },
  {
   "cell_type": "code",
   "execution_count": 4,
   "metadata": {},
   "outputs": [],
   "source": [
    "# Initialize the multi-label binarizer for genres, production_countries, and spoken_languages\n",
    "mlb_genres = MultiLabelBinarizer()\n",
    "mlb_countries = MultiLabelBinarizer()\n",
    "mlb_languages = MultiLabelBinarizer()\n",
    "\n",
    "# Initialize the one-hot encoder for original_language\n",
    "# ohe_language = OneHotEncoder()\n",
    "ohe_language = MultiLabelBinarizer()\n",
    "\n",
    "# Initialize the SentenceTransformer\n",
    "model = SentenceTransformer('all-MiniLM-L6-v2')\n",
    "\n",
    "# FillNaN\n",
    "df['genres'] = df['genres'].fillna('[]')\n",
    "df['production_countries'] = df['production_countries'].fillna('[]')\n",
    "df['spoken_languages'] = df['spoken_languages'].fillna('[]')\n",
    "\n",
    "# Encoding genres, production_countries, and spoken_languages\n",
    "df['genres_encoded'] = list(mlb_genres.fit_transform(df['genres']))\n",
    "df['production_countries_encoded'] = list(mlb_countries.fit_transform(df['production_countries']))\n",
    "df['spoken_languages_encoded'] = list(mlb_languages.fit_transform(df['spoken_languages']))"
   ]
  },
  {
   "cell_type": "code",
   "execution_count": 5,
   "metadata": {},
   "outputs": [],
   "source": [
    "df['original_language'] = df['original_language'].fillna('')\n",
    "df['original_language'] = list(ohe_language.fit_transform(df['original_language'].apply(lambda x: [x])))"
   ]
  },
  {
   "cell_type": "code",
   "execution_count": 6,
   "metadata": {},
   "outputs": [],
   "source": [
    "# df['original_language'] = df['original_language'].fillna('')\n",
    "# df.dropna(subset=['overview'], inplace=True)\n",
    "\n",
    "# ohe_language = OneHotEncoder(sparse_output=False)\n",
    "# inp = df['original_language'].values.reshape(-1, 1)\n",
    "# encoded_features = ohe_language.fit_transform(inp)\n",
    "# df['original_language_vector'] = encoded_features.tolist()"
   ]
  },
  {
   "cell_type": "code",
   "execution_count": 7,
   "metadata": {},
   "outputs": [],
   "source": [
    "df['overview'] = df['overview'].fillna('')\n",
    "overview_vectors = model.encode(df['overview'].tolist())\n",
    "df['overview_vectors'] = overview_vectors.tolist()"
   ]
  },
  {
   "cell_type": "code",
   "execution_count": 8,
   "metadata": {},
   "outputs": [],
   "source": [
    "df['movie_title'] = df['movie_title'].fillna('')\n",
    "df['movie_title'] = df['movie_title'].astype(str)\n",
    "title_vectors = model.encode(df['movie_title'].tolist())\n",
    "df['title_vectors'] = title_vectors.tolist()"
   ]
  },
  {
   "cell_type": "code",
   "execution_count": 9,
   "metadata": {},
   "outputs": [],
   "source": [
    "df[['overview_vectors', 'title_vectors']].to_csv('data/nlp_vectors.csv', index=False)"
   ]
  },
  {
   "cell_type": "code",
   "execution_count": 10,
   "metadata": {},
   "outputs": [],
   "source": [
    "old_cols = ['genres', 'original_language', 'production_countries', 'spoken_languages', 'release_date']"
   ]
  },
  {
   "cell_type": "code",
   "execution_count": 13,
   "metadata": {},
   "outputs": [],
   "source": [
    "df.drop(columns=old_cols + ['overview_vectors', 'title_vectors']).to_csv('data/movie_data_vectorized.csv', index=False)"
   ]
  },
  {
   "cell_type": "code",
   "execution_count": 12,
   "metadata": {},
   "outputs": [],
   "source": [
    "# Dropping original columns to keep only the features\n",
    "# df.drop(columns=old_cols).to_excel('data/movie_data_vectorized.xlsx', index=False)"
   ]
  }
 ],
 "metadata": {
  "kernelspec": {
   "display_name": "bigData",
   "language": "python",
   "name": "python3"
  },
  "language_info": {
   "codemirror_mode": {
    "name": "ipython",
    "version": 3
   },
   "file_extension": ".py",
   "mimetype": "text/x-python",
   "name": "python",
   "nbconvert_exporter": "python",
   "pygments_lexer": "ipython3",
   "version": "3.10.13"
  }
 },
 "nbformat": 4,
 "nbformat_minor": 2
}
