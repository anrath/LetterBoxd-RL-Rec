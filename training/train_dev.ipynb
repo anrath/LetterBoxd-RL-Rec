{
 "cells": [
  {
   "cell_type": "code",
   "execution_count": 4,
   "id": "a97779f9-0cdb-4fef-a5a4-5906b0db4dc5",
   "metadata": {
    "tags": []
   },
   "outputs": [
    {
     "name": "stdout",
     "output_type": "stream",
     "text": [
      "The autoreload extension is already loaded. To reload it, use:\n",
      "  %reload_ext autoreload\n"
     ]
    }
   ],
   "source": [
    "%load_ext autoreload\n",
    "%autoreload 2"
   ]
  },
  {
   "cell_type": "code",
   "execution_count": 5,
   "id": "7bf301c8-d010-4fdf-bfc5-8e1b176f39c3",
   "metadata": {
    "tags": []
   },
   "outputs": [],
   "source": [
    "import torch\n",
    "import torch.nn as nn\n",
    "import torch.nn.functional as F\n",
    "import pandas as pd\n",
    "\n",
    "from movie_metadata_table import MovieMetadataTable\n",
    "\n",
    "import sys\n",
    "sys.path.append(\"../algorithms\")\n",
    "from deepfm import DeepFM # type: ignore"
   ]
  },
  {
   "cell_type": "code",
   "execution_count": 6,
   "id": "b657abeb-9235-4923-be78-0f8a0aed7e3b",
   "metadata": {
    "tags": []
   },
   "outputs": [],
   "source": [
    "movie_metadata_table = MovieMetadataTable(\n",
    "    movie_ids_file=\"../data/movie_ids.json\",\n",
    "    movie_data_vectorized_file=\"../data/vectorizing/movie_data_vectorized.csv\",\n",
    "    nlp_vectors_file=\"../data/vectorizing/nlp_vectors.pt\",\n",
    ")"
   ]
  },
  {
   "cell_type": "code",
   "execution_count": 7,
   "id": "4c60aa91-fa52-4ae8-b08f-8ea75d975ed1",
   "metadata": {
    "tags": []
   },
   "outputs": [],
   "source": [
    "import json\n",
    "import random\n",
    "\n",
    "random.seed(8888)\n",
    "\n",
    "# get movie ids, clipping off movie ids that are not in the movie tensor\n",
    "all_movie_ids = json.load(open(\"../data/movie_ids.json\"))[:movie_metadata_table.movie_tensor.shape[0]]\n",
    "random.shuffle(all_movie_ids)\n",
    "\n",
    "ratings = pd.read_csv(\"../data/ratings_export.csv\")\n",
    "\n",
    "train_user_ids = None\n",
    "train_movie_ids = all_movie_ids[:30]\n",
    "\n",
    "if train_user_ids is not None:\n",
    "    ratings = ratings[ratings['user_id'].isin(train_user_ids)]\n",
    "\n",
    "if train_movie_ids is not None:\n",
    "    ratings = ratings[ratings['movie_id'].isin(train_movie_ids)]\n",
    "\n",
    "all_user_ids = ratings['user_id'].unique()\n",
    "all_movie_slugs = ratings['movie_id'].unique()\n",
    "\n",
    "device = \"cuda\" if torch.cuda.is_available() else \"cpu\"\n",
    "user_vector_size = 64\n",
    "user_id_to_index = {user_id: i for i, user_id in enumerate(all_user_ids)}"
   ]
  },
  {
   "cell_type": "code",
   "execution_count": 8,
   "id": "16229b9a-f043-42c0-ac04-e9c1dbe9b81f",
   "metadata": {
    "tags": []
   },
   "outputs": [
    {
     "name": "stdout",
     "output_type": "stream",
     "text": [
      "285961 torch.Size([270422, 231])\n"
     ]
    }
   ],
   "source": [
    "print(len(movie_metadata_table.movie_ids), movie_metadata_table.movie_tensor.shape)"
   ]
  },
  {
   "cell_type": "code",
   "execution_count": 9,
   "id": "a87184dc-405e-4e6e-a5c6-f5a185c10c81",
   "metadata": {
    "tags": []
   },
   "outputs": [],
   "source": [
    "user_embedding_table = nn.Embedding(len(all_user_ids), user_vector_size).to(device)\n",
    "deepfm = DeepFM(\n",
    "    movie_metadata_table.movie_vector_size,\n",
    "    user_vector_size,\n",
    "    num_dense_movie_embeddings=8,\n",
    "    num_dense_user_embeddings=4,\n",
    "    dense_embedding_size=16,\n",
    "    mlp_sizes=[16, 16, 1],\n",
    ").to(device)"
   ]
  },
  {
   "cell_type": "code",
   "execution_count": 17,
   "id": "9ec2115e-73b9-4fff-9f78-a32f948e7bd7",
   "metadata": {
    "tags": []
   },
   "outputs": [
    {
     "data": {
      "application/vnd.jupyter.widget-view+json": {
       "model_id": "14bc598febe644bb8c5753fed9291022",
       "version_major": 2,
       "version_minor": 0
      },
      "text/plain": [
       "Epoch Progress:   0%|          | 0/100 [00:00<?, ?it/s]"
      ]
     },
     "metadata": {},
     "output_type": "display_data"
    },
    {
     "name": "stdout",
     "output_type": "stream",
     "text": [
      "Epoch 1, Batch Loss: 0.2895, Accuracy: 0.7923, Baseline Accuracy: 0.7133\n",
      "Epoch 2, Batch Loss: 0.1194, Accuracy: 0.9301, Baseline Accuracy: 0.7106\n",
      "Epoch 3, Batch Loss: 0.1389, Accuracy: 0.8981, Baseline Accuracy: 0.7106\n",
      "Epoch 4, Batch Loss: 0.2580, Accuracy: 0.8223, Baseline Accuracy: 0.7106\n",
      "Epoch 5, Batch Loss: 2.9861, Accuracy: 0.6741, Baseline Accuracy: 0.7106\n",
      "Epoch 6, Batch Loss: 9.4196, Accuracy: 0.5728, Baseline Accuracy: 0.7106\n",
      "Epoch 7, Batch Loss: 1.1568, Accuracy: 0.7270, Baseline Accuracy: 0.7106\n",
      "Epoch 8, Batch Loss: 0.4404, Accuracy: 0.8125, Baseline Accuracy: 0.7106\n",
      "Epoch 9, Batch Loss: 0.0984, Accuracy: 0.9510, Baseline Accuracy: 0.7106\n",
      "Epoch 10, Batch Loss: 0.0506, Accuracy: 0.9771, Baseline Accuracy: 0.7106\n",
      "Epoch 11, Batch Loss: 0.0337, Accuracy: 0.9941, Baseline Accuracy: 0.7106\n",
      "Epoch 12, Batch Loss: 0.0284, Accuracy: 0.9967, Baseline Accuracy: 0.7106\n",
      "Epoch 13, Batch Loss: 0.0251, Accuracy: 0.9961, Baseline Accuracy: 0.7106\n",
      "Epoch 14, Batch Loss: 0.0221, Accuracy: 0.9967, Baseline Accuracy: 0.7106\n",
      "Epoch 15, Batch Loss: 0.0207, Accuracy: 0.9967, Baseline Accuracy: 0.7106\n",
      "Epoch 16, Batch Loss: 0.0190, Accuracy: 0.9967, Baseline Accuracy: 0.7106\n",
      "Epoch 17, Batch Loss: 0.0198, Accuracy: 0.9980, Baseline Accuracy: 0.7106\n",
      "Epoch 18, Batch Loss: 0.0175, Accuracy: 0.9974, Baseline Accuracy: 0.7106\n",
      "Epoch 19, Batch Loss: 0.0161, Accuracy: 0.9987, Baseline Accuracy: 0.7106\n",
      "Epoch 20, Batch Loss: 0.0141, Accuracy: 0.9987, Baseline Accuracy: 0.7106\n",
      "Epoch 21, Batch Loss: 0.0128, Accuracy: 0.9993, Baseline Accuracy: 0.7106\n",
      "Epoch 22, Batch Loss: 0.0147, Accuracy: 0.9987, Baseline Accuracy: 0.7106\n",
      "Epoch 23, Batch Loss: 0.0155, Accuracy: 0.9993, Baseline Accuracy: 0.7106\n",
      "Epoch 24, Batch Loss: 0.0254, Accuracy: 0.9954, Baseline Accuracy: 0.7106\n",
      "Epoch 25, Batch Loss: 0.0277, Accuracy: 0.9987, Baseline Accuracy: 0.7106\n",
      "Epoch 26, Batch Loss: 0.0390, Accuracy: 0.9895, Baseline Accuracy: 0.7106\n",
      "Epoch 27, Batch Loss: 0.0514, Accuracy: 0.9778, Baseline Accuracy: 0.7106\n",
      "Epoch 28, Batch Loss: 0.0531, Accuracy: 0.9811, Baseline Accuracy: 0.7106\n",
      "Epoch 29, Batch Loss: 0.0690, Accuracy: 0.9667, Baseline Accuracy: 0.7106\n",
      "Epoch 30, Batch Loss: 0.0373, Accuracy: 0.9876, Baseline Accuracy: 0.7106\n",
      "Epoch 31, Batch Loss: 0.0247, Accuracy: 0.9967, Baseline Accuracy: 0.7106\n",
      "Epoch 32, Batch Loss: 0.0168, Accuracy: 0.9993, Baseline Accuracy: 0.7106\n",
      "Epoch 33, Batch Loss: 0.0145, Accuracy: 1.0000, Baseline Accuracy: 0.7106\n",
      "Epoch 34, Batch Loss: 0.0133, Accuracy: 0.9993, Baseline Accuracy: 0.7106\n",
      "Epoch 35, Batch Loss: 0.0127, Accuracy: 0.9993, Baseline Accuracy: 0.7106\n",
      "Epoch 36, Batch Loss: 0.0144, Accuracy: 0.9993, Baseline Accuracy: 0.7106\n",
      "Epoch 37, Batch Loss: 0.0167, Accuracy: 0.9993, Baseline Accuracy: 0.7106\n",
      "Epoch 38, Batch Loss: 0.0127, Accuracy: 0.9987, Baseline Accuracy: 0.7106\n",
      "Epoch 39, Batch Loss: 0.0129, Accuracy: 0.9993, Baseline Accuracy: 0.7106\n",
      "Epoch 40, Batch Loss: 0.0146, Accuracy: 0.9993, Baseline Accuracy: 0.7106\n",
      "Epoch 41, Batch Loss: 0.0095, Accuracy: 0.9993, Baseline Accuracy: 0.7106\n",
      "Epoch 42, Batch Loss: 0.0090, Accuracy: 1.0000, Baseline Accuracy: 0.7106\n",
      "Epoch 43, Batch Loss: 0.0084, Accuracy: 1.0000, Baseline Accuracy: 0.7106\n",
      "Epoch 44, Batch Loss: 0.0093, Accuracy: 1.0000, Baseline Accuracy: 0.7106\n",
      "Epoch 45, Batch Loss: 0.0091, Accuracy: 1.0000, Baseline Accuracy: 0.7106\n",
      "Epoch 46, Batch Loss: 0.0088, Accuracy: 1.0000, Baseline Accuracy: 0.7106\n",
      "Epoch 47, Batch Loss: 0.0085, Accuracy: 1.0000, Baseline Accuracy: 0.7106\n",
      "Epoch 48, Batch Loss: 0.0089, Accuracy: 1.0000, Baseline Accuracy: 0.7106\n",
      "Epoch 49, Batch Loss: 0.0106, Accuracy: 1.0000, Baseline Accuracy: 0.7106\n",
      "Epoch 50, Batch Loss: 0.0110, Accuracy: 0.9993, Baseline Accuracy: 0.7106\n",
      "Epoch 51, Batch Loss: 0.0147, Accuracy: 1.0000, Baseline Accuracy: 0.7106\n",
      "Epoch 52, Batch Loss: 0.0192, Accuracy: 0.9980, Baseline Accuracy: 0.7106\n",
      "Epoch 53, Batch Loss: 0.0244, Accuracy: 0.9980, Baseline Accuracy: 0.7106\n",
      "Epoch 54, Batch Loss: 0.0297, Accuracy: 0.9974, Baseline Accuracy: 0.7106\n",
      "Epoch 55, Batch Loss: 0.0497, Accuracy: 0.9811, Baseline Accuracy: 0.7106\n",
      "Epoch 56, Batch Loss: 8.3725, Accuracy: 0.7949, Baseline Accuracy: 0.7106\n",
      "Epoch 57, Batch Loss: 77.4076, Accuracy: 0.5369, Baseline Accuracy: 0.7106\n",
      "Epoch 58, Batch Loss: 4.9838, Accuracy: 0.6342, Baseline Accuracy: 0.7106\n",
      "Epoch 59, Batch Loss: 2.8044, Accuracy: 0.6610, Baseline Accuracy: 0.7106\n",
      "Epoch 60, Batch Loss: 1.0410, Accuracy: 0.7329, Baseline Accuracy: 0.7106\n",
      "Epoch 61, Batch Loss: 0.1635, Accuracy: 0.8779, Baseline Accuracy: 0.7106\n",
      "Epoch 62, Batch Loss: 0.1136, Accuracy: 0.9125, Baseline Accuracy: 0.7106\n",
      "Epoch 63, Batch Loss: 0.0908, Accuracy: 0.9321, Baseline Accuracy: 0.7106\n",
      "Epoch 64, Batch Loss: 0.0795, Accuracy: 0.9445, Baseline Accuracy: 0.7106\n",
      "Epoch 65, Batch Loss: 0.0707, Accuracy: 0.9556, Baseline Accuracy: 0.7106\n",
      "Epoch 66, Batch Loss: 0.0643, Accuracy: 0.9621, Baseline Accuracy: 0.7106\n",
      "Epoch 67, Batch Loss: 0.0595, Accuracy: 0.9667, Baseline Accuracy: 0.7106\n",
      "Epoch 68, Batch Loss: 0.0558, Accuracy: 0.9732, Baseline Accuracy: 0.7106\n",
      "Epoch 69, Batch Loss: 0.0531, Accuracy: 0.9765, Baseline Accuracy: 0.7106\n",
      "Epoch 70, Batch Loss: 0.0505, Accuracy: 0.9791, Baseline Accuracy: 0.7106\n",
      "Epoch 71, Batch Loss: 0.0488, Accuracy: 0.9804, Baseline Accuracy: 0.7106\n",
      "Epoch 72, Batch Loss: 0.0482, Accuracy: 0.9811, Baseline Accuracy: 0.7106\n",
      "Epoch 73, Batch Loss: 0.0497, Accuracy: 0.9811, Baseline Accuracy: 0.7106\n",
      "Epoch 74, Batch Loss: 0.0604, Accuracy: 0.9719, Baseline Accuracy: 0.7106\n",
      "Epoch 75, Batch Loss: 0.0710, Accuracy: 0.9654, Baseline Accuracy: 0.7106\n",
      "Epoch 76, Batch Loss: 0.1123, Accuracy: 0.9393, Baseline Accuracy: 0.7106\n",
      "Epoch 77, Batch Loss: 0.1132, Accuracy: 0.9419, Baseline Accuracy: 0.7106\n",
      "Epoch 78, Batch Loss: 0.2085, Accuracy: 0.8922, Baseline Accuracy: 0.7106\n",
      "Epoch 79, Batch Loss: 0.2088, Accuracy: 0.8955, Baseline Accuracy: 0.7106\n",
      "Epoch 80, Batch Loss: 0.3562, Accuracy: 0.8295, Baseline Accuracy: 0.7106\n",
      "Epoch 81, Batch Loss: 0.6225, Accuracy: 0.7498, Baseline Accuracy: 0.7106\n",
      "Epoch 82, Batch Loss: 0.4910, Accuracy: 0.7629, Baseline Accuracy: 0.7106\n",
      "Epoch 83, Batch Loss: 0.2893, Accuracy: 0.8315, Baseline Accuracy: 0.7106\n",
      "Epoch 84, Batch Loss: 0.1536, Accuracy: 0.9105, Baseline Accuracy: 0.7106\n",
      "Epoch 85, Batch Loss: 0.1285, Accuracy: 0.9275, Baseline Accuracy: 0.7106\n",
      "Epoch 86, Batch Loss: 0.0844, Accuracy: 0.9549, Baseline Accuracy: 0.7106\n",
      "Epoch 87, Batch Loss: 0.0761, Accuracy: 0.9582, Baseline Accuracy: 0.7106\n",
      "Epoch 88, Batch Loss: 0.0906, Accuracy: 0.9504, Baseline Accuracy: 0.7106\n",
      "Epoch 89, Batch Loss: 0.0747, Accuracy: 0.9602, Baseline Accuracy: 0.7106\n",
      "Epoch 90, Batch Loss: 0.0668, Accuracy: 0.9732, Baseline Accuracy: 0.7106\n",
      "Epoch 91, Batch Loss: 0.0715, Accuracy: 0.9608, Baseline Accuracy: 0.7106\n",
      "Epoch 92, Batch Loss: 0.0762, Accuracy: 0.9647, Baseline Accuracy: 0.7106\n",
      "Epoch 93, Batch Loss: 0.0707, Accuracy: 0.9706, Baseline Accuracy: 0.7106\n",
      "Epoch 94, Batch Loss: 0.1104, Accuracy: 0.9353, Baseline Accuracy: 0.7106\n",
      "Epoch 95, Batch Loss: 0.1029, Accuracy: 0.9432, Baseline Accuracy: 0.7106\n",
      "Epoch 96, Batch Loss: 0.2242, Accuracy: 0.8681, Baseline Accuracy: 0.7106\n",
      "Epoch 97, Batch Loss: 0.1176, Accuracy: 0.9295, Baseline Accuracy: 0.7106\n",
      "Epoch 98, Batch Loss: 0.1265, Accuracy: 0.9242, Baseline Accuracy: 0.7106\n",
      "Epoch 99, Batch Loss: 0.1070, Accuracy: 0.9373, Baseline Accuracy: 0.7106\n",
      "Epoch 100, Batch Loss: 0.0816, Accuracy: 0.9608, Baseline Accuracy: 0.7106\n"
     ]
    }
   ],
   "source": [
    "import tqdm.notebook as tqdm_notebook\n",
    "\n",
    "# note: if we want to get a massive speedup,\n",
    "# we can probably use a sparse optimization scheme somehow\n",
    "optim = torch.optim.Adam([\n",
    "    *deepfm.parameters(),\n",
    "    *user_embedding_table.parameters()\n",
    "], lr=0.001)\n",
    "\n",
    "# determine how to give a reward\n",
    "# we will just give a reward if the user rated the movie >= 7/10\n",
    "\n",
    "loss_type = \"mse\"\n",
    "reward_rating_cutoff = 7\n",
    "epochs = 100\n",
    "\n",
    "avg_reward_per_movie_numer = torch.zeros(len(train_movie_ids), device=device)\n",
    "avg_reward_per_movie_denom = torch.zeros(len(train_movie_ids), device=device)\n",
    "\n",
    "# iterate over ratings in random batches\n",
    "indexes = torch.randperm(len(ratings))\n",
    "batch_size = 16\n",
    "\n",
    "for epoch in tqdm_notebook.tqdm(range(epochs), desc=\"Epoch Progress\", leave=False):\n",
    "    epoch_loss_total = 0\n",
    "    epoch_corrects = 0\n",
    "    epoch_correct_baseline = 0\n",
    "    epoch_seen = 0\n",
    "    for batch_start in range(0, len(indexes), batch_size):\n",
    "        batch = ratings.iloc[indexes[batch_start:batch_start + batch_size]]\n",
    "\n",
    "        movie_slugs = [str(x) for x in batch['movie_id'].values]\n",
    "        train_user_ids = batch['user_id'].values\n",
    "        ratings_ = batch['rating_val'].values\n",
    "\n",
    "        user_indices = torch.tensor([user_id_to_index[user_id] for user_id in train_user_ids], device=device)\n",
    "        user_vectors = user_embedding_table(user_indices)\n",
    "        movie_vectors = movie_metadata_table(movie_slugs).to(device)\n",
    "        movie_average_ratings = movie_vectors[:, 2].to(device)\n",
    "\n",
    "        predictions = deepfm(movie_vectors.float(), user_vectors.float()).squeeze(-1)\n",
    "        rewards = torch.tensor(ratings_ >= reward_rating_cutoff, device=device, dtype=torch.float32)\n",
    "\n",
    "        assert not torch.any(rewards.isnan())\n",
    "\n",
    "        if loss_type == 'mse':\n",
    "            # resembles learning q function\n",
    "            loss = F.mse_loss(predictions, rewards)\n",
    "        elif loss_type == 'binary_crossentropy':\n",
    "            # loosely resembles policy gradient\n",
    "            loss = F.binary_cross_entropy_with_logits(predictions, rewards.float())\n",
    "\n",
    "        optim.zero_grad()\n",
    "        loss.backward()\n",
    "        optim.step()\n",
    "        \n",
    "        epoch_corrects += ((predictions >= 0.5) == rewards).sum()\n",
    "        \n",
    "        movie_pos_in_tracking_vector = [train_movie_ids.index(slug) for slug in movie_slugs]\n",
    "        avg_reward_per_movie_numer[movie_pos_in_tracking_vector] += rewards\n",
    "        avg_reward_per_movie_denom[movie_pos_in_tracking_vector] += 1\n",
    "        baseline_reward_predictions = (avg_reward_per_movie_numer/avg_reward_per_movie_denom)[movie_pos_in_tracking_vector]\n",
    "        baseline_corrects = (baseline_reward_predictions >= 0.5) == rewards\n",
    "        epoch_correct_baseline += baseline_corrects.sum()\n",
    "        epoch_loss_total += loss.item() * len(user_indices)\n",
    "        epoch_seen += len(user_indices)\n",
    "\n",
    "    print(f'Epoch {epoch+1}, Batch Loss: {epoch_loss_total / epoch_seen:.4f}, Accuracy: {(epoch_corrects / epoch_seen).item():.4f}, Baseline Accuracy: {(epoch_correct_baseline / epoch_seen).item():.4f}')\n"
   ]
  }
 ],
 "metadata": {
  "kernelspec": {
   "display_name": "bigData",
   "language": "python",
   "name": "python3"
  },
  "language_info": {
   "codemirror_mode": {
    "name": "ipython",
    "version": 3
   },
   "file_extension": ".py",
   "mimetype": "text/x-python",
   "name": "python",
   "nbconvert_exporter": "python",
   "pygments_lexer": "ipython3",
   "version": "3.10.13"
  }
 },
 "nbformat": 4,
 "nbformat_minor": 5
}
