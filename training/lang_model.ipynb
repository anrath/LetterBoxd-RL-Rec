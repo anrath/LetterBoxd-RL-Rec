{
 "cells": [
  {
   "cell_type": "code",
   "execution_count": 1,
   "metadata": {},
   "outputs": [],
   "source": [
    "import pandas as pd\n",
    "import random\n",
    "import json\n",
    "from openai import OpenAI\n",
    "random.seed(8888)"
   ]
  },
  {
   "cell_type": "code",
   "execution_count": 2,
   "metadata": {},
   "outputs": [],
   "source": [
    "movie_strings = pd.read_csv('../data/movie_data.csv')\n",
    "movie_strings.dropna(subset=['year_released'], inplace=True)\n",
    "drop_cols = ['image_url', 'imdb_id', 'imdb_link', 'tmdb_id', 'tmdb_link']\n",
    "movie_strings.drop(columns=drop_cols, inplace=True)\n",
    "movie_strings['year_released'] = movie_strings['year_released'].astype('Int16')\n",
    "movie_strings['runtime'] = movie_strings['runtime'].astype('Int16', errors='ignore')"
   ]
  },
  {
   "cell_type": "code",
   "execution_count": 3,
   "metadata": {},
   "outputs": [
    {
     "data": {
      "text/html": [
       "<div>\n",
       "<style scoped>\n",
       "    .dataframe tbody tr th:only-of-type {\n",
       "        vertical-align: middle;\n",
       "    }\n",
       "\n",
       "    .dataframe tbody tr th {\n",
       "        vertical-align: top;\n",
       "    }\n",
       "\n",
       "    .dataframe thead th {\n",
       "        text-align: right;\n",
       "    }\n",
       "</style>\n",
       "<table border=\"1\" class=\"dataframe\">\n",
       "  <thead>\n",
       "    <tr style=\"text-align: right;\">\n",
       "      <th></th>\n",
       "      <th>_id</th>\n",
       "      <th>genres</th>\n",
       "      <th>movie_id</th>\n",
       "      <th>movie_title</th>\n",
       "      <th>original_language</th>\n",
       "      <th>overview</th>\n",
       "      <th>popularity</th>\n",
       "      <th>production_countries</th>\n",
       "      <th>release_date</th>\n",
       "      <th>runtime</th>\n",
       "      <th>spoken_languages</th>\n",
       "      <th>vote_average</th>\n",
       "      <th>vote_count</th>\n",
       "      <th>year_released</th>\n",
       "    </tr>\n",
       "  </thead>\n",
       "  <tbody>\n",
       "    <tr>\n",
       "      <th>0</th>\n",
       "      <td>5fc85f606758f69634496fd3</td>\n",
       "      <td>[\"Music\",\"Animation\"]</td>\n",
       "      <td>football-freaks</td>\n",
       "      <td>Football Freaks</td>\n",
       "      <td>en</td>\n",
       "      <td>Football crazy, football mad. Don’t watch this...</td>\n",
       "      <td>0.600</td>\n",
       "      <td>[\"United Kingdom\"]</td>\n",
       "      <td>12/5/1971</td>\n",
       "      <td>0.0</td>\n",
       "      <td>[]</td>\n",
       "      <td>0.0</td>\n",
       "      <td>0.0</td>\n",
       "      <td>1971</td>\n",
       "    </tr>\n",
       "    <tr>\n",
       "      <th>1</th>\n",
       "      <td>5fc85ff26758f696344ace0c</td>\n",
       "      <td>[]</td>\n",
       "      <td>aftermath-1960</td>\n",
       "      <td>Aftermath</td>\n",
       "      <td>en</td>\n",
       "      <td>Aftermath was the pilot for an unsold TV serie...</td>\n",
       "      <td>0.600</td>\n",
       "      <td>[]</td>\n",
       "      <td>4/17/1960</td>\n",
       "      <td>22.0</td>\n",
       "      <td>[]</td>\n",
       "      <td>8.0</td>\n",
       "      <td>1.0</td>\n",
       "      <td>1960</td>\n",
       "    </tr>\n",
       "    <tr>\n",
       "      <th>2</th>\n",
       "      <td>5fc85f606758f69634496fcd</td>\n",
       "      <td>[\"Drama\"]</td>\n",
       "      <td>where-chimneys-are-seen</td>\n",
       "      <td>Where Chimneys Are Seen</td>\n",
       "      <td>ja</td>\n",
       "      <td>Gosho’s most celebrated film both in Japan and...</td>\n",
       "      <td>1.568</td>\n",
       "      <td>[\"Japan\"]</td>\n",
       "      <td>3/5/1953</td>\n",
       "      <td>108.0</td>\n",
       "      <td>[\"日本語\"]</td>\n",
       "      <td>6.6</td>\n",
       "      <td>10.0</td>\n",
       "      <td>1953</td>\n",
       "    </tr>\n",
       "    <tr>\n",
       "      <th>3</th>\n",
       "      <td>5fc85f606758f69634496fd1</td>\n",
       "      <td>[\"Drama\"]</td>\n",
       "      <td>the-musicians-daughter</td>\n",
       "      <td>The Musician's Daughter</td>\n",
       "      <td>en</td>\n",
       "      <td>Carl Wagner's good wife was dying. His heart b...</td>\n",
       "      <td>0.600</td>\n",
       "      <td>[\"United States of America\"]</td>\n",
       "      <td>12/12/1911</td>\n",
       "      <td>15.0</td>\n",
       "      <td>[]</td>\n",
       "      <td>0.0</td>\n",
       "      <td>0.0</td>\n",
       "      <td>1911</td>\n",
       "    </tr>\n",
       "    <tr>\n",
       "      <th>4</th>\n",
       "      <td>5fc85f606758f69634496fd4</td>\n",
       "      <td>[\"Documentary\"]</td>\n",
       "      <td>50-years-of-fabulous</td>\n",
       "      <td>50 Years of Fabulous</td>\n",
       "      <td>en</td>\n",
       "      <td>50 Years of Fabulous recounts the rich history...</td>\n",
       "      <td>0.600</td>\n",
       "      <td>[]</td>\n",
       "      <td>5/17/2018</td>\n",
       "      <td>75.0</td>\n",
       "      <td>[]</td>\n",
       "      <td>0.0</td>\n",
       "      <td>0.0</td>\n",
       "      <td>2018</td>\n",
       "    </tr>\n",
       "  </tbody>\n",
       "</table>\n",
       "</div>"
      ],
      "text/plain": [
       "                        _id                 genres                 movie_id  \\\n",
       "0  5fc85f606758f69634496fd3  [\"Music\",\"Animation\"]          football-freaks   \n",
       "1  5fc85ff26758f696344ace0c                     []           aftermath-1960   \n",
       "2  5fc85f606758f69634496fcd              [\"Drama\"]  where-chimneys-are-seen   \n",
       "3  5fc85f606758f69634496fd1              [\"Drama\"]   the-musicians-daughter   \n",
       "4  5fc85f606758f69634496fd4        [\"Documentary\"]     50-years-of-fabulous   \n",
       "\n",
       "               movie_title original_language  \\\n",
       "0          Football Freaks                en   \n",
       "1                Aftermath                en   \n",
       "2  Where Chimneys Are Seen                ja   \n",
       "3  The Musician's Daughter                en   \n",
       "4     50 Years of Fabulous                en   \n",
       "\n",
       "                                            overview  popularity  \\\n",
       "0  Football crazy, football mad. Don’t watch this...       0.600   \n",
       "1  Aftermath was the pilot for an unsold TV serie...       0.600   \n",
       "2  Gosho’s most celebrated film both in Japan and...       1.568   \n",
       "3  Carl Wagner's good wife was dying. His heart b...       0.600   \n",
       "4  50 Years of Fabulous recounts the rich history...       0.600   \n",
       "\n",
       "           production_countries release_date  runtime spoken_languages  \\\n",
       "0            [\"United Kingdom\"]    12/5/1971      0.0               []   \n",
       "1                            []    4/17/1960     22.0               []   \n",
       "2                     [\"Japan\"]     3/5/1953    108.0          [\"日本語\"]   \n",
       "3  [\"United States of America\"]   12/12/1911     15.0               []   \n",
       "4                            []    5/17/2018     75.0               []   \n",
       "\n",
       "   vote_average  vote_count  year_released  \n",
       "0           0.0         0.0           1971  \n",
       "1           8.0         1.0           1960  \n",
       "2           6.6        10.0           1953  \n",
       "3           0.0         0.0           1911  \n",
       "4           0.0         0.0           2018  "
      ]
     },
     "execution_count": 3,
     "metadata": {},
     "output_type": "execute_result"
    }
   ],
   "source": [
    "movie_strings.head()"
   ]
  },
  {
   "cell_type": "code",
   "execution_count": 4,
   "metadata": {},
   "outputs": [
    {
     "data": {
      "text/plain": [
       "_id                                              5fc85ff26758f696344ad095\n",
       "genres                                                          [\"Drama\"]\n",
       "movie_id                                               pelican-blood-2019\n",
       "movie_title                                                 Pelican Blood\n",
       "original_language                                                      de\n",
       "overview                The horse trainer Wiebke adopts Raya from abro...\n",
       "popularity                                                          1.256\n",
       "production_countries                               [\"Bulgaria\",\"Germany\"]\n",
       "release_date                                                    9/24/2020\n",
       "runtime                                                             121.0\n",
       "spoken_languages                                     [\"Magyar\",\"Deutsch\"]\n",
       "vote_average                                                          6.3\n",
       "vote_count                                                            9.0\n",
       "year_released                                                        2019\n",
       "Name: 103, dtype: object"
      ]
     },
     "execution_count": 4,
     "metadata": {},
     "output_type": "execute_result"
    }
   ],
   "source": [
    "row = movie_strings.iloc[100]\n",
    "row"
   ]
  },
  {
   "cell_type": "code",
   "execution_count": 30,
   "metadata": {},
   "outputs": [],
   "source": [
    "def format_movie_data(movie_data):\n",
    "    \"\"\"\n",
    "    Converts a dictionary of movie data into a string format suitable for LLM fine-tuning.\n",
    "    \n",
    "    Args:\n",
    "        movie_data (dict): A dictionary containing movie attributes such as title, language,\n",
    "                           overview, and other metadata.\n",
    "    \n",
    "    Returns:\n",
    "        str: A formatted string representation of the movie data.\n",
    "    \"\"\"\n",
    "    # Define the order and the keys to include in the string\n",
    "    keys_order = [\n",
    "        \"movie_title\", \"rating_val\", \"genres\", \"year_released\", \"popularity\", \"vote_average\", \"vote_count\", \"runtime\", \"production_countries\", \"original_language\", \"spoken_languages\", \"overview\"\n",
    "    ]\n",
    "    \n",
    "    # Building the string with key-value pairs\n",
    "    formatted_string = \" | \".join(f\"{key}: {movie_data.get(key, 'N/A')}\" for key in keys_order if key in movie_data)\n",
    "    \n",
    "    return formatted_string"
   ]
  },
  {
   "cell_type": "code",
   "execution_count": 6,
   "metadata": {},
   "outputs": [
    {
     "data": {
      "text/plain": [
       "'movie_title: Pelican Blood | genres: [\"Drama\"] | year_released: 2019 | popularity: 1.256 | vote_average: 6.3 | vote_count: 9.0 | runtime: 121.0 | production_countries: [\"Bulgaria\",\"Germany\"] | original_language: de | spoken_languages: [\"Magyar\",\"Deutsch\"] | overview: The horse trainer Wiebke adopts Raya from abroad, but soon she has to learn that the girl suffers from an attachment disorder and does not build an emotional connection to anybody around her. Raya constantly puts others in great danger, especially her older adoptive sister Nicolina. After a neurologist explains that Raya will have life-long troubles and does not feel any empathy, Wiebke has to decide whether she is willing to keep her and risk Nicolina’s well-being.'"
      ]
     },
     "execution_count": 6,
     "metadata": {},
     "output_type": "execute_result"
    }
   ],
   "source": [
    "format_movie_data(row)"
   ]
  },
  {
   "cell_type": "markdown",
   "metadata": {},
   "source": [
    "# user samples"
   ]
  },
  {
   "cell_type": "code",
   "execution_count": 12,
   "metadata": {},
   "outputs": [
    {
     "data": {
      "text/html": [
       "<div>\n",
       "<style scoped>\n",
       "    .dataframe tbody tr th:only-of-type {\n",
       "        vertical-align: middle;\n",
       "    }\n",
       "\n",
       "    .dataframe tbody tr th {\n",
       "        vertical-align: top;\n",
       "    }\n",
       "\n",
       "    .dataframe thead th {\n",
       "        text-align: right;\n",
       "    }\n",
       "</style>\n",
       "<table border=\"1\" class=\"dataframe\">\n",
       "  <thead>\n",
       "    <tr style=\"text-align: right;\">\n",
       "      <th></th>\n",
       "      <th>_id</th>\n",
       "      <th>movie_id</th>\n",
       "      <th>rating_val</th>\n",
       "      <th>user_id</th>\n",
       "    </tr>\n",
       "  </thead>\n",
       "  <tbody>\n",
       "    <tr>\n",
       "      <th>0</th>\n",
       "      <td>5fc57c5d6758f6963451a07f</td>\n",
       "      <td>feast-2014</td>\n",
       "      <td>7</td>\n",
       "      <td>deathproof</td>\n",
       "    </tr>\n",
       "    <tr>\n",
       "      <th>1</th>\n",
       "      <td>5fc57c5d6758f6963451a063</td>\n",
       "      <td>loving-2016</td>\n",
       "      <td>7</td>\n",
       "      <td>deathproof</td>\n",
       "    </tr>\n",
       "    <tr>\n",
       "      <th>2</th>\n",
       "      <td>5fc57c5d6758f6963451a0ef</td>\n",
       "      <td>scripted-content</td>\n",
       "      <td>7</td>\n",
       "      <td>deathproof</td>\n",
       "    </tr>\n",
       "    <tr>\n",
       "      <th>3</th>\n",
       "      <td>5fc57c5d6758f6963451a060</td>\n",
       "      <td>the-future</td>\n",
       "      <td>4</td>\n",
       "      <td>deathproof</td>\n",
       "    </tr>\n",
       "    <tr>\n",
       "      <th>4</th>\n",
       "      <td>5fc57c5c6758f69634519398</td>\n",
       "      <td>mank</td>\n",
       "      <td>5</td>\n",
       "      <td>deathproof</td>\n",
       "    </tr>\n",
       "  </tbody>\n",
       "</table>\n",
       "</div>"
      ],
      "text/plain": [
       "                        _id          movie_id  rating_val     user_id\n",
       "0  5fc57c5d6758f6963451a07f        feast-2014           7  deathproof\n",
       "1  5fc57c5d6758f6963451a063       loving-2016           7  deathproof\n",
       "2  5fc57c5d6758f6963451a0ef  scripted-content           7  deathproof\n",
       "3  5fc57c5d6758f6963451a060        the-future           4  deathproof\n",
       "4  5fc57c5c6758f69634519398              mank           5  deathproof"
      ]
     },
     "execution_count": 12,
     "metadata": {},
     "output_type": "execute_result"
    }
   ],
   "source": [
    "ratings = pd.read_csv(\"../data/ratings_export.csv\")\n",
    "ratings.head()\n"
   ]
  },
  {
   "cell_type": "code",
   "execution_count": 19,
   "metadata": {},
   "outputs": [
    {
     "name": "stdout",
     "output_type": "stream",
     "text": [
      "6378\n"
     ]
    }
   ],
   "source": [
    "user_counts = ratings.groupby('user_id').size().sort_values(ascending=False)\n",
    "users_filtered = user_counts[user_counts > 200].index\n",
    "print(len(users_filtered))\n",
    "\n",
    "# Filter the ratings DataFrame to only include these users\n",
    "filtered_ratings = ratings[ratings['user_id'].isin(users_filtered)]\n"
   ]
  },
  {
   "cell_type": "code",
   "execution_count": null,
   "metadata": {},
   "outputs": [],
   "source": [
    "all_user_ids = filtered_ratings['user_id'].unique() \n",
    "random.shuffle(all_user_ids)\n",
    "train_cutoff = int(len(all_user_ids)*4/5)\n",
    "train_movie_ids = all_user_ids[:train_cutoff]\n",
    "test_movie_ids = all_user_ids[train_cutoff:]"
   ]
  },
  {
   "cell_type": "code",
   "execution_count": 20,
   "metadata": {},
   "outputs": [
    {
     "data": {
      "text/plain": [
       "'rtown004'"
      ]
     },
     "execution_count": 20,
     "metadata": {},
     "output_type": "execute_result"
    }
   ],
   "source": [
    "train_movie_ids[0]"
   ]
  },
  {
   "cell_type": "code",
   "execution_count": 37,
   "metadata": {},
   "outputs": [],
   "source": [
    "training_samples = []\n",
    "system_prompt = \"A movie recommendation system which takes in a list of movies and outputs the title of the next movie to watch. Only output the title of the movie.\"\n",
    "user_history = \"I have watched the following movies:\\n\"\n",
    "\n",
    "for user in train_movie_ids[:1]:\n",
    "    rating_history = filtered_ratings[filtered_ratings['user_id'] == user]\n",
    "    combined = rating_history.merge(movie_strings, on='movie_id')\n",
    "    combined['movie_string'] = combined.apply(format_movie_data, axis=1)\n",
    "\n",
    "    # split data into groups of 11 where 10 are the user's history and the last is the next movie to watch\n",
    "    for i in range(0, len(combined), 10):\n",
    "        if i + 10 >= len(combined):\n",
    "            break\n",
    "        watch_history = user_history + \"\\n\".join(combined['movie_string'][i:i+10])\n",
    "        next_movie = combined['movie_title'][i+10]\n",
    "        sample = {\n",
    "            \"messages\": \n",
    "                [\n",
    "                    {\"role\": \"system\", \"content\": f\"{system_prompt}\"}, \n",
    "                    {\"role\": \"user\", \"content\": f\"{watch_history}\"}, \n",
    "                    {\"role\": \"assistant\", \"content\": f\"{next_movie}\"}\n",
    "                ]\n",
    "        }\n",
    "        training_samples.append(sample)\n",
    "\n",
    "with open('training_samples.jsonl', 'w') as file:\n",
    "    for sample in training_samples:\n",
    "        json_line = json.dumps(sample)\n",
    "        file.write(json_line + '\\n')"
   ]
  },
  {
   "cell_type": "code",
   "execution_count": null,
   "metadata": {},
   "outputs": [],
   "source": []
  },
  {
   "cell_type": "code",
   "execution_count": null,
   "metadata": {},
   "outputs": [],
   "source": [
    "client = OpenAI()\n",
    "job_id = \"\"\n",
    "client.fine_tuning.jobs.retrieve(f\"{job_id}\")"
   ]
  },
  {
   "cell_type": "code",
   "execution_count": null,
   "metadata": {},
   "outputs": [],
   "source": [
    "# client = OpenAI()\n",
    "# completion = client.chat.completions.create(\n",
    "#   model=\"ft:gpt-3.5-turbo:my-org:custom_suffix:id\",\n",
    "#   messages=[\n",
    "#     {\"role\": \"system\", \"content\": \"You are a helpful assistant.\"},\n",
    "#     {\"role\": \"user\", \"content\": \"Hello!\"}\n",
    "#   ]\n",
    "# )\n",
    "# print(completion.choices[0].message)"
   ]
  }
 ],
 "metadata": {
  "kernelspec": {
   "display_name": "bigData",
   "language": "python",
   "name": "python3"
  },
  "language_info": {
   "codemirror_mode": {
    "name": "ipython",
    "version": 3
   },
   "file_extension": ".py",
   "mimetype": "text/x-python",
   "name": "python",
   "nbconvert_exporter": "python",
   "pygments_lexer": "ipython3",
   "version": "3.10.13"
  }
 },
 "nbformat": 4,
 "nbformat_minor": 2
}
