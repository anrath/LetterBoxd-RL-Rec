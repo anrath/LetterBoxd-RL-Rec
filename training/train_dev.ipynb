{
 "cells": [
  {
   "cell_type": "code",
   "execution_count": 1,
   "id": "a97779f9-0cdb-4fef-a5a4-5906b0db4dc5",
   "metadata": {
    "tags": []
   },
   "outputs": [],
   "source": [
    "%load_ext autoreload\n",
    "%autoreload 2"
   ]
  },
  {
   "cell_type": "code",
   "execution_count": 2,
   "id": "7bf301c8-d010-4fdf-bfc5-8e1b176f39c3",
   "metadata": {
    "tags": []
   },
   "outputs": [],
   "source": [
    "import torch\n",
    "import torch.nn as nn\n",
    "import torch.nn.functional as F\n",
    "import pandas as pd\n",
    "\n",
    "from movie_metadata_table import MovieMetadataTable\n",
    "\n",
    "import sys\n",
    "sys.path.append(\"../algorithms\")\n",
    "from deepfm import DeepFM # type: ignore"
   ]
  },
  {
   "cell_type": "code",
   "execution_count": 3,
   "id": "b657abeb-9235-4923-be78-0f8a0aed7e3b",
   "metadata": {
    "tags": []
   },
   "outputs": [],
   "source": [
    "movie_metadata_table = MovieMetadataTable(\n",
    "    movie_ids_file=\"../data/movie_ids.json\",\n",
    "    movie_data_vectorized_file=\"../data/vectorizing/movie_data_vectorized.csv\",\n",
    "    nlp_vectors_file=\"../data/vectorizing/nlp_vectors.pt\",\n",
    ")"
   ]
  },
  {
   "cell_type": "code",
   "execution_count": 26,
   "id": "ee4e7d81-56ba-4a27-bc93-f895a46a74c3",
   "metadata": {
    "tags": []
   },
   "outputs": [],
   "source": [
    "import json\n",
    "import random\n",
    "\n",
    "random.seed(8888)\n",
    "\n",
    "# get movie ids, clipping off movie ids that are not in the movie tensor\n",
    "all_movie_ids = json.load(open(\"../data/movie_ids.json\"))[:movie_metadata_table.movie_tensor.shape[0]]\n",
    "movie_metadata_isna = movie_metadata_table.movie_metadata.isna().any(axis=1)\n",
    "all_movie_ids = [all_movie_ids[i] for i in range(len(all_movie_ids)) if not movie_metadata_isna[i]]\n",
    "random.shuffle(all_movie_ids)"
   ]
  },
  {
   "cell_type": "code",
   "execution_count": null,
   "id": "066b71b6-fea7-4a2e-9ac1-4c3e042ccdcf",
   "metadata": {},
   "outputs": [],
   "source": [
    "ratings = pd.read_csv(\"../data/ratings_export.csv\")"
   ]
  },
  {
   "cell_type": "code",
   "execution_count": 27,
   "id": "4c60aa91-fa52-4ae8-b08f-8ea75d975ed1",
   "metadata": {
    "tags": []
   },
   "outputs": [
    {
     "name": "stdout",
     "output_type": "stream",
     "text": [
      "Number of available users: 6280\n",
      "Number of training movies: 8977\n",
      "Number of testing movies: 999\n"
     ]
    }
   ],
   "source": [
    "train_movie_ids = all_movie_ids[:9000]\n",
    "test_movie_ids = all_movie_ids[9000:10000]\n",
    "\n",
    "train_ratings = ratings[ratings['movie_id'].isin(train_movie_ids)]\n",
    "test_ratings = ratings[ratings['movie_id'].isin(test_movie_ids)]\n",
    "\n",
    "# Identify users who are in both\n",
    "avail_train_users = set(train_ratings['user_id'].unique())\n",
    "avail_test_users = set(test_ratings['user_id'].unique())\n",
    "avail_users = avail_train_users.intersection(avail_test_users)\n",
    "\n",
    "train_ratings = train_ratings[train_ratings['user_id'].isin(avail_users)]\n",
    "test_ratings = test_ratings[test_ratings['user_id'].isin(avail_users)]\n",
    "\n",
    "train_movie_ids_filtered = train_ratings['movie_id'].unique()\n",
    "test_movie_ids_filtered = test_ratings['movie_id'].unique()\n",
    "\n",
    "print(\"Number of available users:\", len(avail_users))\n",
    "print(\"Number of training movies:\", len(train_movie_ids_filtered))\n",
    "print(\"Number of testing movies:\", len(test_movie_ids_filtered))\n",
    "\n",
    "device = \"cpu\" # \"cuda\" if torch.cuda.is_available() else \"cpu\"\n",
    "user_vector_size = 64\n",
    "user_id_to_index = {user_id: i for i, user_id in enumerate(avail_users)}"
   ]
  },
  {
   "cell_type": "code",
   "execution_count": 28,
   "id": "a87184dc-405e-4e6e-a5c6-f5a185c10c81",
   "metadata": {
    "tags": []
   },
   "outputs": [],
   "source": [
    "user_embedding_table = nn.Embedding(len(avail_users), user_vector_size).to(device)\n",
    "deepfm = DeepFM(\n",
    "    movie_metadata_table.movie_vector_size,\n",
    "    user_vector_size,\n",
    "    num_dense_movie_embeddings=8,\n",
    "    num_dense_user_embeddings=4,\n",
    "    dense_embedding_size=16,\n",
    "    mlp_sizes=[16, 16, 1],\n",
    ").to(device)"
   ]
  },
  {
   "cell_type": "code",
   "execution_count": 29,
   "id": "9ec2115e-73b9-4fff-9f78-a32f948e7bd7",
   "metadata": {
    "tags": []
   },
   "outputs": [
    {
     "name": "stderr",
     "output_type": "stream",
     "text": [
      " 13%|█▎        | 2932/23228 [00:25<02:53, 116.65it/s, accuracy=0.526, baseline=0.783, loss=2.78]\n"
     ]
    },
    {
     "ename": "KeyError",
     "evalue": "'nan'",
     "output_type": "error",
     "traceback": [
      "\u001b[0;31m---------------------------------------------------------------------------\u001b[0m",
      "\u001b[0;31mKeyError\u001b[0m                                  Traceback (most recent call last)",
      "Cell \u001b[0;32mIn[29], line 37\u001b[0m\n\u001b[1;32m     35\u001b[0m user_indices \u001b[38;5;241m=\u001b[39m torch\u001b[38;5;241m.\u001b[39mtensor([user_id_to_index[user_id] \u001b[38;5;28;01mfor\u001b[39;00m user_id \u001b[38;5;129;01min\u001b[39;00m train_user_ids], device\u001b[38;5;241m=\u001b[39mdevice)\n\u001b[1;32m     36\u001b[0m user_vectors \u001b[38;5;241m=\u001b[39m user_embedding_table(user_indices)\n\u001b[0;32m---> 37\u001b[0m movie_vectors \u001b[38;5;241m=\u001b[39m \u001b[43mmovie_metadata_table\u001b[49m\u001b[43m(\u001b[49m\u001b[43mmovie_slugs\u001b[49m\u001b[43m)\u001b[49m\u001b[38;5;241m.\u001b[39mto(device)\n\u001b[1;32m     38\u001b[0m movie_average_ratings \u001b[38;5;241m=\u001b[39m movie_vectors[:, \u001b[38;5;241m2\u001b[39m]\u001b[38;5;241m.\u001b[39mto(device)\n\u001b[1;32m     40\u001b[0m \u001b[38;5;28;01mif\u001b[39;00m movie_vectors\u001b[38;5;241m.\u001b[39misnan()\u001b[38;5;241m.\u001b[39many():\n",
      "File \u001b[0;32m/sfs/weka/scratch/gsk6me/LetterBoxd-RL-Rec/training/movie_metadata_table.py:57\u001b[0m, in \u001b[0;36mMovieMetadataTable.__call__\u001b[0;34m(self, movie_index)\u001b[0m\n\u001b[1;32m     55\u001b[0m     movie_index \u001b[38;5;241m=\u001b[39m \u001b[38;5;28mself\u001b[39m\u001b[38;5;241m.\u001b[39mmovie_id_to_index[movie_index]\n\u001b[1;32m     56\u001b[0m \u001b[38;5;28;01melif\u001b[39;00m \u001b[38;5;28mtype\u001b[39m(movie_index) \u001b[38;5;241m==\u001b[39m \u001b[38;5;28mlist\u001b[39m:\n\u001b[0;32m---> 57\u001b[0m     movie_index \u001b[38;5;241m=\u001b[39m [\u001b[38;5;28mself\u001b[39m\u001b[38;5;241m.\u001b[39mmovie_id_to_index[movie_id] \u001b[38;5;28;01mfor\u001b[39;00m movie_id \u001b[38;5;129;01min\u001b[39;00m movie_index]\n\u001b[1;32m     59\u001b[0m \u001b[38;5;28;01mreturn\u001b[39;00m torch\u001b[38;5;241m.\u001b[39mcat([\n\u001b[1;32m     60\u001b[0m     \u001b[38;5;28mself\u001b[39m\u001b[38;5;241m.\u001b[39mmovie_tensor[movie_index],\n\u001b[1;32m     61\u001b[0m     \u001b[38;5;28mself\u001b[39m\u001b[38;5;241m.\u001b[39moverview_vectors[movie_index],\n\u001b[1;32m     62\u001b[0m     \u001b[38;5;28mself\u001b[39m\u001b[38;5;241m.\u001b[39mtitle_vectors[movie_index],\n\u001b[1;32m     63\u001b[0m ], dim\u001b[38;5;241m=\u001b[39m\u001b[38;5;241m-\u001b[39m\u001b[38;5;241m1\u001b[39m)\n",
      "File \u001b[0;32m/sfs/weka/scratch/gsk6me/LetterBoxd-RL-Rec/training/movie_metadata_table.py:57\u001b[0m, in \u001b[0;36m<listcomp>\u001b[0;34m(.0)\u001b[0m\n\u001b[1;32m     55\u001b[0m     movie_index \u001b[38;5;241m=\u001b[39m \u001b[38;5;28mself\u001b[39m\u001b[38;5;241m.\u001b[39mmovie_id_to_index[movie_index]\n\u001b[1;32m     56\u001b[0m \u001b[38;5;28;01melif\u001b[39;00m \u001b[38;5;28mtype\u001b[39m(movie_index) \u001b[38;5;241m==\u001b[39m \u001b[38;5;28mlist\u001b[39m:\n\u001b[0;32m---> 57\u001b[0m     movie_index \u001b[38;5;241m=\u001b[39m [\u001b[38;5;28;43mself\u001b[39;49m\u001b[38;5;241;43m.\u001b[39;49m\u001b[43mmovie_id_to_index\u001b[49m\u001b[43m[\u001b[49m\u001b[43mmovie_id\u001b[49m\u001b[43m]\u001b[49m \u001b[38;5;28;01mfor\u001b[39;00m movie_id \u001b[38;5;129;01min\u001b[39;00m movie_index]\n\u001b[1;32m     59\u001b[0m \u001b[38;5;28;01mreturn\u001b[39;00m torch\u001b[38;5;241m.\u001b[39mcat([\n\u001b[1;32m     60\u001b[0m     \u001b[38;5;28mself\u001b[39m\u001b[38;5;241m.\u001b[39mmovie_tensor[movie_index],\n\u001b[1;32m     61\u001b[0m     \u001b[38;5;28mself\u001b[39m\u001b[38;5;241m.\u001b[39moverview_vectors[movie_index],\n\u001b[1;32m     62\u001b[0m     \u001b[38;5;28mself\u001b[39m\u001b[38;5;241m.\u001b[39mtitle_vectors[movie_index],\n\u001b[1;32m     63\u001b[0m ], dim\u001b[38;5;241m=\u001b[39m\u001b[38;5;241m-\u001b[39m\u001b[38;5;241m1\u001b[39m)\n",
      "\u001b[0;31mKeyError\u001b[0m: 'nan'"
     ]
    }
   ],
   "source": [
    "import tqdm\n",
    "\n",
    "# note: if we want to get a massive speedup,\n",
    "# we can probably use a sparse optimization scheme somehow\n",
    "optim = torch.optim.Adam([\n",
    "    *deepfm.parameters(),\n",
    "    *user_embedding_table.parameters()\n",
    "], lr=0.001)\n",
    "\n",
    "# determine how to give a reward\n",
    "# we will just give a reward if the user rated the movie >= 7/10\n",
    "\n",
    "loss_type = \"mse\"\n",
    "reward_rating_cutoff = 7\n",
    "\n",
    "avg_reward_per_movie_numer = torch.zeros(len(train_movie_ids), device=device)\n",
    "avg_reward_per_movie_denom = torch.zeros(len(train_movie_ids), device=device)\n",
    "\n",
    "# iterate over ratings in random batches\n",
    "indexes = torch.randperm(len(train_ratings))\n",
    "batch_size = 16\n",
    "\n",
    "for epoch in range(100):\n",
    "    epoch_loss_total = 0\n",
    "    epoch_corrects = 0\n",
    "    epoch_correct_baseline = 0\n",
    "    epoch_seen = 0\n",
    "    for batch_start in (pbar := tqdm.tqdm(range(0, len(indexes), batch_size))):\n",
    "        batch = train_ratings.iloc[indexes[batch_start:batch_start + batch_size]]\n",
    "\n",
    "        movie_slugs = [str(x) for x in batch['movie_id'].values]\n",
    "        train_user_ids = batch['user_id'].values\n",
    "        ratings_ = batch['rating_val'].values\n",
    "\n",
    "        user_indices = torch.tensor([user_id_to_index[user_id] for user_id in train_user_ids], device=device)\n",
    "        user_vectors = user_embedding_table(user_indices)\n",
    "        movie_vectors = movie_metadata_table(movie_slugs).to(device)\n",
    "        movie_average_ratings = movie_vectors[:, 2].to(device)\n",
    "        \n",
    "        if movie_vectors.isnan().any():\n",
    "            isnan_mask = movie_vectors.isnan().any(dim=-1)\n",
    "            print(movie_vectors[isnan_mask])\n",
    "\n",
    "        predictions = deepfm(movie_vectors.float(), user_vectors.float()).squeeze(-1)\n",
    "        rewards = torch.tensor(ratings_ >= reward_rating_cutoff, device=device, dtype=torch.float32)\n",
    "\n",
    "        assert not torch.any(rewards.isnan())\n",
    "\n",
    "        if loss_type == 'mse':\n",
    "            # resembles learning q function\n",
    "            loss = F.mse_loss(predictions, rewards)\n",
    "        elif loss_type == 'binary_crossentropy':\n",
    "            # loosely resembles policy gradient\n",
    "            loss = F.binary_cross_entropy_with_logits(predictions, rewards.float())\n",
    "\n",
    "        optim.zero_grad()\n",
    "        loss.backward()\n",
    "        optim.step()\n",
    "        \n",
    "        epoch_corrects += ((predictions >= 0.5) == rewards).sum()\n",
    "        \n",
    "        movie_pos_in_tracking_vector = [train_movie_ids.index(slug) for slug in movie_slugs]\n",
    "        avg_reward_per_movie_numer[movie_pos_in_tracking_vector] += rewards\n",
    "        avg_reward_per_movie_denom[movie_pos_in_tracking_vector] += 1\n",
    "        baseline_reward_predictions = (avg_reward_per_movie_numer/avg_reward_per_movie_denom)[movie_pos_in_tracking_vector]\n",
    "        baseline_corrects = (baseline_reward_predictions >= 0.5) == rewards\n",
    "        epoch_correct_baseline += baseline_corrects.sum()\n",
    "        epoch_loss_total += loss.item() * len(user_indices)\n",
    "        epoch_seen += len(user_indices)\n",
    "\n",
    "        pbar.set_postfix(loss=epoch_loss_total / epoch_seen, accuracy=(epoch_corrects / epoch_seen).item(), baseline=(epoch_correct_baseline / epoch_seen).item())\n"
   ]
  },
  {
   "cell_type": "code",
   "execution_count": null,
   "id": "03d15244-c3cf-4c0d-b12c-5ec6871eac12",
   "metadata": {},
   "outputs": [],
   "source": []
  }
 ],
 "metadata": {
  "kernelspec": {
   "display_name": "rvt",
   "language": "python",
   "name": "rvt"
  },
  "language_info": {
   "codemirror_mode": {
    "name": "ipython",
    "version": 3
   },
   "file_extension": ".py",
   "mimetype": "text/x-python",
   "name": "python",
   "nbconvert_exporter": "python",
   "pygments_lexer": "ipython3",
   "version": "3.8.18"
  }
 },
 "nbformat": 4,
 "nbformat_minor": 5
}
