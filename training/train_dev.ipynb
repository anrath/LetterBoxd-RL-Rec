{
 "cells": [
  {
   "cell_type": "code",
   "execution_count": 1,
   "id": "a97779f9-0cdb-4fef-a5a4-5906b0db4dc5",
   "metadata": {
    "tags": []
   },
   "outputs": [
    {
     "data": {
      "application/javascript": [
       "IPython.notebook.set_autosave_interval(5000)"
      ]
     },
     "metadata": {},
     "output_type": "display_data"
    },
    {
     "name": "stdout",
     "output_type": "stream",
     "text": [
      "Autosaving every 5 seconds\n"
     ]
    }
   ],
   "source": [
    "%load_ext autoreload\n",
    "%autoreload 2\n",
    "\n",
    "# add logging to a file in case we disconnect from the notebook\n",
    "import sys\n",
    "import logging\n",
    "\n",
    "nblog = open(\"nb.log\", \"a+\")\n",
    "sys.stdout.echo = nblog\n",
    "sys.stderr.echo = nblog\n",
    "\n",
    "get_ipython().log.handlers[0].stream = nblog\n",
    "get_ipython().log.setLevel(logging.INFO)\n",
    "\n",
    "%autosave 5"
   ]
  },
  {
   "cell_type": "code",
   "execution_count": 2,
   "id": "7bf301c8-d010-4fdf-bfc5-8e1b176f39c3",
   "metadata": {
    "tags": []
   },
   "outputs": [],
   "source": [
    "import torch\n",
    "import torch.nn as nn\n",
    "import torch.nn.functional as F\n",
    "import pandas as pd\n",
    "\n",
    "from movie_metadata_table import MovieMetadataTable\n",
    "\n",
    "import sys\n",
    "sys.path.append(\"../algorithms\")\n",
    "from deepfm import DeepFM # type: ignore"
   ]
  },
  {
   "cell_type": "code",
   "execution_count": 3,
   "id": "b657abeb-9235-4923-be78-0f8a0aed7e3b",
   "metadata": {
    "tags": []
   },
   "outputs": [],
   "source": [
    "movie_metadata_table = MovieMetadataTable(\n",
    "    movie_ids_file=\"../data/movie_ids.json\",\n",
    "    movie_data_vectorized_file=\"../data/vectorizing/movie_data_vectorized.csv\",\n",
    "    nlp_vectors_file=\"../data/vectorizing/nlp_vectors.pt\",\n",
    ")"
   ]
  },
  {
   "cell_type": "code",
   "execution_count": 4,
   "id": "4c60aa91-fa52-4ae8-b08f-8ea75d975ed1",
   "metadata": {
    "tags": []
   },
   "outputs": [],
   "source": [
    "import json\n",
    "import random\n",
    "\n",
    "random.seed(8888)\n",
    "\n",
    "# get movie ids, clipping off movie ids that are not in the movie tensor\n",
    "all_movie_ids = json.load(open(\"../data/movie_ids.json\"))[:movie_metadata_table.movie_tensor.shape[0]]\n",
    "movie_metadata_isna = movie_metadata_table.movie_metadata.isna().any(axis=1)\n",
    "all_movie_ids = [all_movie_ids[i] for i in range(len(all_movie_ids)) if not movie_metadata_isna[i]]\n",
    "random.shuffle(all_movie_ids)"
   ]
  },
  {
   "cell_type": "code",
   "execution_count": 5,
   "id": "f234759b-6e89-4131-8c8a-a4ba159daed8",
   "metadata": {
    "tags": []
   },
   "outputs": [],
   "source": [
    "ratings = pd.read_csv(\"../data/ratings_export.csv\")"
   ]
  },
  {
   "cell_type": "code",
   "execution_count": 6,
   "id": "cc1ba669-ecbc-4aee-9d42-6ba8be0cbdd1",
   "metadata": {
    "tags": []
   },
   "outputs": [
    {
     "name": "stdout",
     "output_type": "stream",
     "text": [
      "Number of available users: 6280\n",
      "Number of training movies: 8976\n",
      "Number of testing movies: 999\n"
     ]
    }
   ],
   "source": [
    "train_movie_ids = all_movie_ids[:9000]\n",
    "test_movie_ids = all_movie_ids[9000:10000]\n",
    "\n",
    "ratings = ratings.dropna()\n",
    "train_ratings = ratings[ratings['movie_id'].isin(train_movie_ids)]\n",
    "test_ratings = ratings[ratings['movie_id'].isin(test_movie_ids)]\n",
    "\n",
    "# Identify users who are in both\n",
    "avail_train_users = set(train_ratings['user_id'].unique())\n",
    "avail_test_users = set(test_ratings['user_id'].unique())\n",
    "avail_users = avail_train_users.intersection(avail_test_users)\n",
    "\n",
    "train_ratings = train_ratings[train_ratings['user_id'].isin(avail_users)]\n",
    "test_ratings = test_ratings[test_ratings['user_id'].isin(avail_users)]\n",
    "\n",
    "train_movie_ids_filtered = train_ratings['movie_id'].unique()\n",
    "test_movie_ids_filtered = test_ratings['movie_id'].unique()\n",
    "\n",
    "print(\"Number of available users:\", len(avail_users))\n",
    "print(\"Number of training movies:\", len(train_movie_ids_filtered))\n",
    "print(\"Number of testing movies:\", len(test_movie_ids_filtered))\n",
    "\n",
    "device = \"cuda\" if torch.cuda.is_available() else \"cpu\"\n",
    "user_vector_size = 16\n",
    "user_id_to_index = {user_id: i for i, user_id in enumerate(avail_users)}"
   ]
  },
  {
   "cell_type": "code",
   "execution_count": 13,
   "id": "c290e425-9427-45fc-a645-917a505ea8b1",
   "metadata": {
    "tags": []
   },
   "outputs": [],
   "source": [
    "user_embedding_table = nn.Embedding(len(avail_users), user_vector_size).to(device)\n",
    "deepfm = DeepFM(\n",
    "    movie_metadata_table.movie_vector_size,\n",
    "    user_vector_size,\n",
    "    num_dense_movie_embeddings=1,\n",
    "    num_dense_user_embeddings=1,\n",
    "    dense_embedding_size=16,\n",
    "    mlp_sizes=[32, 1],\n",
    ").to(device)"
   ]
  },
  {
   "cell_type": "code",
   "execution_count": null,
   "id": "eba68aef-8fb4-4354-a2de-02862c41ddda",
   "metadata": {},
   "outputs": [],
   "source": [
    "torch.save(user_embedding_table.state_dict(), \"user_embeddings.pt\")\n",
    "torch.save(deepfm.state_dict(), \"deepfm.pt\")"
   ]
  },
  {
   "cell_type": "code",
   "execution_count": 9,
   "id": "16229b9a-f043-42c0-ac04-e9c1dbe9b81f",
   "metadata": {
    "tags": []
   },
   "outputs": [
    {
     "name": "stdout",
     "output_type": "stream",
     "text": [
      "285961 torch.Size([270422, 231])\n"
     ]
    }
   ],
   "source": [
    "print(len(movie_metadata_table.movie_ids), movie_metadata_table.movie_tensor.shape)"
   ]
  },
  {
   "cell_type": "code",
   "execution_count": 14,
   "id": "9ec2115e-73b9-4fff-9f78-a32f948e7bd7",
   "metadata": {
    "tags": []
   },
   "outputs": [
    {
     "data": {
      "application/vnd.jupyter.widget-view+json": {
       "model_id": "3657f2f83d524ac99bed4970bdb50951",
       "version_major": 2,
       "version_minor": 0
      },
      "text/plain": [
       "Epoch 1:   0%|          | 0/363 [00:00<?, ?it/s]"
      ]
     },
     "metadata": {},
     "output_type": "display_data"
    },
    {
     "name": "stdout",
     "output_type": "stream",
     "text": [
      "Training @ 1: {'loss': 0.22195157218148026, 'accuracy': 0.6444095373153687, 'baseline': 0.7546234130859375}\n"
     ]
    },
    {
     "data": {
      "application/vnd.jupyter.widget-view+json": {
       "model_id": "395687279408479297bbf75fc42f60c9",
       "version_major": 2,
       "version_minor": 0
      },
      "text/plain": [
       "Evaluating:   0%|          | 0/39 [00:00<?, ?it/s]"
      ]
     },
     "metadata": {},
     "output_type": "display_data"
    },
    {
     "name": "stdout",
     "output_type": "stream",
     "text": [
      "Validation @ 1: {'loss': 0.2853745449340099, 'accuracy': 0.4880152940750122, 'baseline': 0.737946093082428}\n"
     ]
    },
    {
     "data": {
      "application/vnd.jupyter.widget-view+json": {
       "model_id": "e9c07f1357594b34adb604b0d2bf8168",
       "version_major": 2,
       "version_minor": 0
      },
      "text/plain": [
       "Epoch 2:   0%|          | 0/363 [00:00<?, ?it/s]"
      ]
     },
     "metadata": {},
     "output_type": "display_data"
    },
    {
     "name": "stdout",
     "output_type": "stream",
     "text": [
      "Training @ 2: {'loss': 0.20153386515990537, 'accuracy': 0.6912369728088379, 'baseline': 0.7519245743751526}\n"
     ]
    },
    {
     "data": {
      "application/vnd.jupyter.widget-view+json": {
       "model_id": "6ae34965c2ec47058b4d403c45637241",
       "version_major": 2,
       "version_minor": 0
      },
      "text/plain": [
       "Evaluating:   0%|          | 0/39 [00:00<?, ?it/s]"
      ]
     },
     "metadata": {},
     "output_type": "display_data"
    },
    {
     "name": "stdout",
     "output_type": "stream",
     "text": [
      "Validation @ 2: {'loss': 0.2909694831808879, 'accuracy': 0.4956110417842865, 'baseline': 0.7339470386505127}\n"
     ]
    },
    {
     "data": {
      "application/vnd.jupyter.widget-view+json": {
       "model_id": "25db5712d3ce4f5dbb4127b120dd8e88",
       "version_major": 2,
       "version_minor": 0
      },
      "text/plain": [
       "Epoch 3:   0%|          | 0/363 [00:00<?, ?it/s]"
      ]
     },
     "metadata": {},
     "output_type": "display_data"
    },
    {
     "name": "stdout",
     "output_type": "stream",
     "text": [
      "Training @ 3: {'loss': 0.19703165905691414, 'accuracy': 0.70169597864151, 'baseline': 0.7508724927902222}\n"
     ]
    },
    {
     "data": {
      "application/vnd.jupyter.widget-view+json": {
       "model_id": "1b62e3d9be794ad58512a02852f92cb9",
       "version_major": 2,
       "version_minor": 0
      },
      "text/plain": [
       "Evaluating:   0%|          | 0/39 [00:00<?, ?it/s]"
      ]
     },
     "metadata": {},
     "output_type": "display_data"
    },
    {
     "name": "stdout",
     "output_type": "stream",
     "text": [
      "Validation @ 3: {'loss': 0.2902416662972693, 'accuracy': 0.5070298314094543, 'baseline': 0.7416936755180359}\n"
     ]
    },
    {
     "data": {
      "application/vnd.jupyter.widget-view+json": {
       "model_id": "c3fc36bf23464dec9ca8d34b14eaa1c3",
       "version_major": 2,
       "version_minor": 0
      },
      "text/plain": [
       "Epoch 4:   0%|          | 0/363 [00:00<?, ?it/s]"
      ]
     },
     "metadata": {},
     "output_type": "display_data"
    },
    {
     "name": "stdout",
     "output_type": "stream",
     "text": [
      "Training @ 4: {'loss': 0.1936003111689795, 'accuracy': 0.7090982794761658, 'baseline': 0.7506410479545593}\n"
     ]
    },
    {
     "data": {
      "application/vnd.jupyter.widget-view+json": {
       "model_id": "b68bb899d43941ceb4f5f29e6db6f208",
       "version_major": 2,
       "version_minor": 0
      },
      "text/plain": [
       "Evaluating:   0%|          | 0/39 [00:00<?, ?it/s]"
      ]
     },
     "metadata": {},
     "output_type": "display_data"
    },
    {
     "name": "stdout",
     "output_type": "stream",
     "text": [
      "Validation @ 4: {'loss': 0.2874149484131465, 'accuracy': 0.5196559429168701, 'baseline': 0.7355567216873169}\n"
     ]
    },
    {
     "data": {
      "application/vnd.jupyter.widget-view+json": {
       "model_id": "a5466805cffb43f29bcd2513e18d6754",
       "version_major": 2,
       "version_minor": 0
      },
      "text/plain": [
       "Epoch 5:   0%|          | 0/363 [00:00<?, ?it/s]"
      ]
     },
     "metadata": {},
     "output_type": "display_data"
    },
    {
     "name": "stdout",
     "output_type": "stream",
     "text": [
      "Training @ 5: {'loss': 0.18995645918655396, 'accuracy': 0.7168315649032593, 'baseline': 0.7504876852035522}\n"
     ]
    },
    {
     "data": {
      "application/vnd.jupyter.widget-view+json": {
       "model_id": "cc609d410cc841bfb104b24985430887",
       "version_major": 2,
       "version_minor": 0
      },
      "text/plain": [
       "Evaluating:   0%|          | 0/39 [00:00<?, ?it/s]"
      ]
     },
     "metadata": {},
     "output_type": "display_data"
    },
    {
     "name": "stdout",
     "output_type": "stream",
     "text": [
      "Validation @ 5: {'loss': 0.28390890464519103, 'accuracy': 0.5320556163787842, 'baseline': 0.7362106442451477}\n"
     ]
    },
    {
     "data": {
      "application/vnd.jupyter.widget-view+json": {
       "model_id": "50bdc50f6e10419e8223ff3fec3b31d4",
       "version_major": 2,
       "version_minor": 0
      },
      "text/plain": [
       "Epoch 6:   0%|          | 0/363 [00:00<?, ?it/s]"
      ]
     },
     "metadata": {},
     "output_type": "display_data"
    },
    {
     "name": "stdout",
     "output_type": "stream",
     "text": [
      "Training @ 6: {'loss': 0.1860902124322898, 'accuracy': 0.7244275808334351, 'baseline': 0.7504419684410095}\n"
     ]
    },
    {
     "data": {
      "application/vnd.jupyter.widget-view+json": {
       "model_id": "ea778e493d1e405097ce4ce2f79910e5",
       "version_major": 2,
       "version_minor": 0
      },
      "text/plain": [
       "Evaluating:   0%|          | 0/39 [00:00<?, ?it/s]"
      ]
     },
     "metadata": {},
     "output_type": "display_data"
    },
    {
     "name": "stdout",
     "output_type": "stream",
     "text": [
      "Validation @ 6: {'loss': 0.2804628413630346, 'accuracy': 0.5445559620857239, 'baseline': 0.7248421311378479}\n"
     ]
    },
    {
     "data": {
      "application/vnd.jupyter.widget-view+json": {
       "model_id": "6985f37e1e8d44ebb356cff30ec19f0e",
       "version_major": 2,
       "version_minor": 0
      },
      "text/plain": [
       "Epoch 7:   0%|          | 0/363 [00:00<?, ?it/s]"
      ]
     },
     "metadata": {},
     "output_type": "display_data"
    },
    {
     "name": "stdout",
     "output_type": "stream",
     "text": [
      "Training @ 7: {'loss': 0.182363009051006, 'accuracy': 0.731671154499054, 'baseline': 0.750415027141571}\n"
     ]
    },
    {
     "data": {
      "application/vnd.jupyter.widget-view+json": {
       "model_id": "cb485245f76944aab1d837cbb3fce423",
       "version_major": 2,
       "version_minor": 0
      },
      "text/plain": [
       "Evaluating:   0%|          | 0/39 [00:00<?, ?it/s]"
      ]
     },
     "metadata": {},
     "output_type": "display_data"
    },
    {
     "name": "stdout",
     "output_type": "stream",
     "text": [
      "Validation @ 7: {'loss': 0.27806541559402903, 'accuracy': 0.5536859631538391, 'baseline': 0.7326139807701111}\n"
     ]
    },
    {
     "data": {
      "application/vnd.jupyter.widget-view+json": {
       "model_id": "6de485ed5274426a8e711e569d433e77",
       "version_major": 2,
       "version_minor": 0
      },
      "text/plain": [
       "Epoch 8:   0%|          | 0/363 [00:00<?, ?it/s]"
      ]
     },
     "metadata": {},
     "output_type": "display_data"
    },
    {
     "name": "stdout",
     "output_type": "stream",
     "text": [
      "Training @ 8: {'loss': 0.17904622812670612, 'accuracy': 0.7378195524215698, 'baseline': 0.7504015564918518}\n"
     ]
    },
    {
     "data": {
      "application/vnd.jupyter.widget-view+json": {
       "model_id": "7076eb15b5974ec3bfc1dacb95590481",
       "version_major": 2,
       "version_minor": 0
      },
      "text/plain": [
       "Evaluating:   0%|          | 0/39 [00:00<?, ?it/s]"
      ]
     },
     "metadata": {},
     "output_type": "display_data"
    },
    {
     "name": "stdout",
     "output_type": "stream",
     "text": [
      "Validation @ 8: {'loss': 0.2767674479667394, 'accuracy': 0.5600996017456055, 'baseline': 0.7299982309341431}\n"
     ]
    },
    {
     "data": {
      "application/vnd.jupyter.widget-view+json": {
       "model_id": "fc2a8f673581405ab56910f1d26bf7c9",
       "version_major": 2,
       "version_minor": 0
      },
      "text/plain": [
       "Epoch 9:   0%|          | 0/363 [00:00<?, ?it/s]"
      ]
     },
     "metadata": {},
     "output_type": "display_data"
    },
    {
     "name": "stdout",
     "output_type": "stream",
     "text": [
      "Training @ 9: {'loss': 0.1763016106036251, 'accuracy': 0.7425606846809387, 'baseline': 0.7504042983055115}\n"
     ]
    },
    {
     "data": {
      "application/vnd.jupyter.widget-view+json": {
       "model_id": "b46545b36ea240f494f2f4f4d1bdcc05",
       "version_major": 2,
       "version_minor": 0
      },
      "text/plain": [
       "Evaluating:   0%|          | 0/39 [00:00<?, ?it/s]"
      ]
     },
     "metadata": {},
     "output_type": "display_data"
    },
    {
     "name": "stdout",
     "output_type": "stream",
     "text": [
      "Validation @ 9: {'loss': 0.2764611162453093, 'accuracy': 0.5642747282981873, 'baseline': 0.7383233904838562}\n"
     ]
    },
    {
     "data": {
      "application/vnd.jupyter.widget-view+json": {
       "model_id": "595fd68c49b646cfb56f9bbb1049f548",
       "version_major": 2,
       "version_minor": 0
      },
      "text/plain": [
       "Epoch 10:   0%|          | 0/363 [00:00<?, ?it/s]"
      ]
     },
     "metadata": {},
     "output_type": "display_data"
    },
    {
     "name": "stdout",
     "output_type": "stream",
     "text": [
      "Training @ 10: {'loss': 0.17406896893006157, 'accuracy': 0.7463977336883545, 'baseline': 0.7504069805145264}\n"
     ]
    },
    {
     "data": {
      "application/vnd.jupyter.widget-view+json": {
       "model_id": "b286d1f8925a4d4f9ee1329ebb97efa3",
       "version_major": 2,
       "version_minor": 0
      },
      "text/plain": [
       "Evaluating:   0%|          | 0/39 [00:00<?, ?it/s]"
      ]
     },
     "metadata": {},
     "output_type": "display_data"
    },
    {
     "name": "stdout",
     "output_type": "stream",
     "text": [
      "Validation @ 10: {'loss': 0.276478488785019, 'accuracy': 0.5668904781341553, 'baseline': 0.7262254953384399}\n"
     ]
    },
    {
     "data": {
      "application/vnd.jupyter.widget-view+json": {
       "model_id": "93a6175767b44192b672cb18b793e4e5",
       "version_major": 2,
       "version_minor": 0
      },
      "text/plain": [
       "Epoch 11:   0%|          | 0/363 [00:00<?, ?it/s]"
      ]
     },
     "metadata": {},
     "output_type": "display_data"
    },
    {
     "name": "stdout",
     "output_type": "stream",
     "text": [
      "Training @ 11: {'loss': 0.1722556941887656, 'accuracy': 0.7497638463973999, 'baseline': 0.750436544418335}\n"
     ]
    },
    {
     "data": {
      "application/vnd.jupyter.widget-view+json": {
       "model_id": "7f112ea802a142a1b8904a31b80959b1",
       "version_major": 2,
       "version_minor": 0
      },
      "text/plain": [
       "Evaluating:   0%|          | 0/39 [00:00<?, ?it/s]"
      ]
     },
     "metadata": {},
     "output_type": "display_data"
    },
    {
     "name": "stdout",
     "output_type": "stream",
     "text": [
      "Validation @ 11: {'loss': 0.27660885054825474, 'accuracy': 0.5695062875747681, 'baseline': 0.731255829334259}\n"
     ]
    },
    {
     "data": {
      "application/vnd.jupyter.widget-view+json": {
       "model_id": "9d681ec3969d4c978e4280a7a0db7a20",
       "version_major": 2,
       "version_minor": 0
      },
      "text/plain": [
       "Epoch 12:   0%|          | 0/363 [00:00<?, ?it/s]"
      ]
     },
     "metadata": {},
     "output_type": "display_data"
    },
    {
     "name": "stdout",
     "output_type": "stream",
     "text": [
      "Training @ 12: {'loss': 0.17076416084526044, 'accuracy': 0.7524250149726868, 'baseline': 0.7504903674125671}\n"
     ]
    },
    {
     "data": {
      "application/vnd.jupyter.widget-view+json": {
       "model_id": "399c2361788c48998a1c9844404dbe35",
       "version_major": 2,
       "version_minor": 0
      },
      "text/plain": [
       "Evaluating:   0%|          | 0/39 [00:00<?, ?it/s]"
      ]
     },
     "metadata": {},
     "output_type": "display_data"
    },
    {
     "name": "stdout",
     "output_type": "stream",
     "text": [
      "Validation @ 12: {'loss': 0.2758208757913425, 'accuracy': 0.5718453526496887, 'baseline': 0.7348776459693909}\n"
     ]
    },
    {
     "data": {
      "application/vnd.jupyter.widget-view+json": {
       "model_id": "e788da1a9cca42cb98a2fdb657268c3d",
       "version_major": 2,
       "version_minor": 0
      },
      "text/plain": [
       "Epoch 13:   0%|          | 0/363 [00:00<?, ?it/s]"
      ]
     },
     "metadata": {},
     "output_type": "display_data"
    },
    {
     "name": "stdout",
     "output_type": "stream",
     "text": [
      "Training @ 13: {'loss': 0.16950325950944942, 'accuracy': 0.7553983330726624, 'baseline': 0.7503558397293091}\n"
     ]
    },
    {
     "data": {
      "application/vnd.jupyter.widget-view+json": {
       "model_id": "bf1e9b8bde5f41708e06b394eb9d7cd7",
       "version_major": 2,
       "version_minor": 0
      },
      "text/plain": [
       "Evaluating:   0%|          | 0/39 [00:00<?, ?it/s]"
      ]
     },
     "metadata": {},
     "output_type": "display_data"
    },
    {
     "name": "stdout",
     "output_type": "stream",
     "text": [
      "Validation @ 13: {'loss': 0.27413776607238066, 'accuracy': 0.575291097164154, 'baseline': 0.7304257750511169}\n"
     ]
    },
    {
     "data": {
      "application/vnd.jupyter.widget-view+json": {
       "model_id": "16904a7b19c641bdac6b0e7072280f1b",
       "version_major": 2,
       "version_minor": 0
      },
      "text/plain": [
       "Epoch 14:   0%|          | 0/363 [00:00<?, ?it/s]"
      ]
     },
     "metadata": {},
     "output_type": "display_data"
    },
    {
     "name": "stdout",
     "output_type": "stream",
     "text": [
      "Training @ 14: {'loss': 0.16833426265105386, 'accuracy': 0.7577069997787476, 'baseline': 0.7504015564918518}\n"
     ]
    },
    {
     "data": {
      "application/vnd.jupyter.widget-view+json": {
       "model_id": "d065426dcac84d769486fbdecc629824",
       "version_major": 2,
       "version_minor": 0
      },
      "text/plain": [
       "Evaluating:   0%|          | 0/39 [00:00<?, ?it/s]"
      ]
     },
     "metadata": {},
     "output_type": "display_data"
    },
    {
     "name": "stdout",
     "output_type": "stream",
     "text": [
      "Validation @ 14: {'loss': 0.2733712279402924, 'accuracy': 0.5788877606391907, 'baseline': 0.7176488041877747}\n"
     ]
    },
    {
     "data": {
      "application/vnd.jupyter.widget-view+json": {
       "model_id": "f405e0669427488ca83764084b479307",
       "version_major": 2,
       "version_minor": 0
      },
      "text/plain": [
       "Epoch 15:   0%|          | 0/363 [00:00<?, ?it/s]"
      ]
     },
     "metadata": {},
     "output_type": "display_data"
    },
    {
     "name": "stdout",
     "output_type": "stream",
     "text": [
      "Training @ 15: {'loss': 0.16722978415857814, 'accuracy': 0.7598972916603088, 'baseline': 0.7504123449325562}\n"
     ]
    },
    {
     "data": {
      "application/vnd.jupyter.widget-view+json": {
       "model_id": "f2dea588e2ba42e0baaa5e23c6fdd60f",
       "version_major": 2,
       "version_minor": 0
      },
      "text/plain": [
       "Evaluating:   0%|          | 0/39 [00:00<?, ?it/s]"
      ]
     },
     "metadata": {},
     "output_type": "display_data"
    },
    {
     "name": "stdout",
     "output_type": "stream",
     "text": [
      "Validation @ 15: {'loss': 0.2738548487431597, 'accuracy': 0.5798183679580688, 'baseline': 0.7275334000587463}\n"
     ]
    },
    {
     "data": {
      "application/vnd.jupyter.widget-view+json": {
       "model_id": "161905a9002944c2982a2867862a8e8a",
       "version_major": 2,
       "version_minor": 0
      },
      "text/plain": [
       "Epoch 16:   0%|          | 0/363 [00:00<?, ?it/s]"
      ]
     },
     "metadata": {},
     "output_type": "display_data"
    },
    {
     "name": "stdout",
     "output_type": "stream",
     "text": [
      "Training @ 16: {'loss': 0.16621555469452012, 'accuracy': 0.7616651654243469, 'baseline': 0.750436544418335}\n"
     ]
    },
    {
     "data": {
      "application/vnd.jupyter.widget-view+json": {
       "model_id": "aeebccc609a347748e1c23a03465b9a3",
       "version_major": 2,
       "version_minor": 0
      },
      "text/plain": [
       "Evaluating:   0%|          | 0/39 [00:00<?, ?it/s]"
      ]
     },
     "metadata": {},
     "output_type": "display_data"
    },
    {
     "name": "stdout",
     "output_type": "stream",
     "text": [
      "Validation @ 16: {'loss': 0.27489911036929865, 'accuracy': 0.5801202058792114, 'baseline': 0.7335445880889893}\n"
     ]
    },
    {
     "data": {
      "application/vnd.jupyter.widget-view+json": {
       "model_id": "bbf61e17f8b74c80b2d61e528505135d",
       "version_major": 2,
       "version_minor": 0
      },
      "text/plain": [
       "Epoch 17:   0%|          | 0/363 [00:00<?, ?it/s]"
      ]
     },
     "metadata": {},
     "output_type": "display_data"
    },
    {
     "name": "stdout",
     "output_type": "stream",
     "text": [
      "Training @ 17: {'loss': 0.16528019169519287, 'accuracy': 0.7636670470237732, 'baseline': 0.7504392266273499}\n"
     ]
    },
    {
     "data": {
      "application/vnd.jupyter.widget-view+json": {
       "model_id": "2e730fa3bed44337bbcdd71e57a3080b",
       "version_major": 2,
       "version_minor": 0
      },
      "text/plain": [
       "Evaluating:   0%|          | 0/39 [00:00<?, ?it/s]"
      ]
     },
     "metadata": {},
     "output_type": "display_data"
    },
    {
     "name": "stdout",
     "output_type": "stream",
     "text": [
      "Validation @ 17: {'loss': 0.2761446745153278, 'accuracy': 0.5803968906402588, 'baseline': 0.7395306825637817}\n"
     ]
    },
    {
     "data": {
      "application/vnd.jupyter.widget-view+json": {
       "model_id": "8d1ade7f46c94cf4803285a9a97470fc",
       "version_major": 2,
       "version_minor": 0
      },
      "text/plain": [
       "Epoch 18:   0%|          | 0/363 [00:00<?, ?it/s]"
      ]
     },
     "metadata": {},
     "output_type": "display_data"
    },
    {
     "name": "stdout",
     "output_type": "stream",
     "text": [
      "Training @ 18: {'loss': 0.1644045745861803, 'accuracy': 0.7651577591896057, 'baseline': 0.7504258155822754}\n"
     ]
    },
    {
     "data": {
      "application/vnd.jupyter.widget-view+json": {
       "model_id": "c719fac39d2747be8c6bd9e15d51ccba",
       "version_major": 2,
       "version_minor": 0
      },
      "text/plain": [
       "Evaluating:   0%|          | 0/39 [00:00<?, ?it/s]"
      ]
     },
     "metadata": {},
     "output_type": "display_data"
    },
    {
     "name": "stdout",
     "output_type": "stream",
     "text": [
      "Validation @ 18: {'loss': 0.2774721760934392, 'accuracy': 0.5800195932388306, 'baseline': 0.7241379022598267}\n"
     ]
    },
    {
     "data": {
      "application/vnd.jupyter.widget-view+json": {
       "model_id": "94e64057d1874e4da52bcca5ca96506b",
       "version_major": 2,
       "version_minor": 0
      },
      "text/plain": [
       "Epoch 19:   0%|          | 0/363 [00:00<?, ?it/s]"
      ]
     },
     "metadata": {},
     "output_type": "display_data"
    },
    {
     "name": "stdout",
     "output_type": "stream",
     "text": [
      "Training @ 19: {'loss': 0.16357381922489728, 'accuracy': 0.76661616563797, 'baseline': 0.7503988742828369}\n"
     ]
    },
    {
     "data": {
      "application/vnd.jupyter.widget-view+json": {
       "model_id": "5691d361cd5f477d8acb3526b92eca8e",
       "version_major": 2,
       "version_minor": 0
      },
      "text/plain": [
       "Evaluating:   0%|          | 0/39 [00:00<?, ?it/s]"
      ]
     },
     "metadata": {},
     "output_type": "display_data"
    },
    {
     "name": "stdout",
     "output_type": "stream",
     "text": [
      "Validation @ 19: {'loss': 0.27885001184816866, 'accuracy': 0.5794159770011902, 'baseline': 0.7359842658042908}\n"
     ]
    },
    {
     "data": {
      "application/vnd.jupyter.widget-view+json": {
       "model_id": "c416cca9e1db47d8a3246cfeb5030db9",
       "version_major": 2,
       "version_minor": 0
      },
      "text/plain": [
       "Epoch 20:   0%|          | 0/363 [00:00<?, ?it/s]"
      ]
     },
     "metadata": {},
     "output_type": "display_data"
    },
    {
     "name": "stdout",
     "output_type": "stream",
     "text": [
      "Training @ 20: {'loss': 0.1627776315614819, 'accuracy': 0.7679938077926636, 'baseline': 0.7503935098648071}\n"
     ]
    },
    {
     "data": {
      "application/vnd.jupyter.widget-view+json": {
       "model_id": "83ae735ed7dc42f7b1b0970f2821e592",
       "version_major": 2,
       "version_minor": 0
      },
      "text/plain": [
       "Evaluating:   0%|          | 0/39 [00:00<?, ?it/s]"
      ]
     },
     "metadata": {},
     "output_type": "display_data"
    },
    {
     "name": "stdout",
     "output_type": "stream",
     "text": [
      "Validation @ 20: {'loss': 0.28027987633826296, 'accuracy': 0.5793405175209045, 'baseline': 0.7383485436439514}\n"
     ]
    },
    {
     "data": {
      "application/vnd.jupyter.widget-view+json": {
       "model_id": "84e0fb01552c4b56907c325c9102bb9c",
       "version_major": 2,
       "version_minor": 0
      },
      "text/plain": [
       "Epoch 21:   0%|          | 0/363 [00:00<?, ?it/s]"
      ]
     },
     "metadata": {},
     "output_type": "display_data"
    },
    {
     "name": "stdout",
     "output_type": "stream",
     "text": [
      "Training @ 21: {'loss': 0.16200894886135955, 'accuracy': 0.7694522142410278, 'baseline': 0.7503800392150879}\n"
     ]
    },
    {
     "data": {
      "application/vnd.jupyter.widget-view+json": {
       "model_id": "69b2c44f2d9e41adb3a1bedccfedbc32",
       "version_major": 2,
       "version_minor": 0
      },
      "text/plain": [
       "Evaluating:   0%|          | 0/39 [00:00<?, ?it/s]"
      ]
     },
     "metadata": {},
     "output_type": "display_data"
    },
    {
     "name": "stdout",
     "output_type": "stream",
     "text": [
      "Validation @ 21: {'loss': 0.28177954736224614, 'accuracy': 0.5787369012832642, 'baseline': 0.7400839924812317}\n"
     ]
    },
    {
     "data": {
      "application/vnd.jupyter.widget-view+json": {
       "model_id": "f8ebb9eb6f574981ac322e1938bc25cb",
       "version_major": 2,
       "version_minor": 0
      },
      "text/plain": [
       "Epoch 22:   0%|          | 0/363 [00:00<?, ?it/s]"
      ]
     },
     "metadata": {},
     "output_type": "display_data"
    },
    {
     "name": "stdout",
     "output_type": "stream",
     "text": [
      "Training @ 22: {'loss': 0.16126294982173148, 'accuracy': 0.770913302898407, 'baseline': 0.7503988742828369}\n"
     ]
    },
    {
     "data": {
      "application/vnd.jupyter.widget-view+json": {
       "model_id": "87f373134fba4b049437a6c84e4c999f",
       "version_major": 2,
       "version_minor": 0
      },
      "text/plain": [
       "Evaluating:   0%|          | 0/39 [00:00<?, ?it/s]"
      ]
     },
     "metadata": {},
     "output_type": "display_data"
    },
    {
     "name": "stdout",
     "output_type": "stream",
     "text": [
      "Validation @ 22: {'loss': 0.2833778752150042, 'accuracy': 0.5781583786010742, 'baseline': 0.7269800305366516}\n"
     ]
    },
    {
     "data": {
      "application/vnd.jupyter.widget-view+json": {
       "model_id": "d0fed5e659b6429fa2760b1804c54ef6",
       "version_major": 2,
       "version_minor": 0
      },
      "text/plain": [
       "Epoch 23:   0%|          | 0/363 [00:00<?, ?it/s]"
      ]
     },
     "metadata": {},
     "output_type": "display_data"
    },
    {
     "name": "stdout",
     "output_type": "stream",
     "text": [
      "Training @ 23: {'loss': 0.16053641579899697, 'accuracy': 0.7720407247543335, 'baseline': 0.7503908276557922}\n"
     ]
    },
    {
     "data": {
      "application/vnd.jupyter.widget-view+json": {
       "model_id": "060d20e148fd456f81fba888c40ac519",
       "version_major": 2,
       "version_minor": 0
      },
      "text/plain": [
       "Evaluating:   0%|          | 0/39 [00:00<?, ?it/s]"
      ]
     },
     "metadata": {},
     "output_type": "display_data"
    },
    {
     "name": "stdout",
     "output_type": "stream",
     "text": [
      "Validation @ 23: {'loss': 0.28511427181845667, 'accuracy': 0.5769511461257935, 'baseline': 0.723383367061615}\n"
     ]
    },
    {
     "data": {
      "application/vnd.jupyter.widget-view+json": {
       "model_id": "6597f2037cf444838790f255beef978a",
       "version_major": 2,
       "version_minor": 0
      },
      "text/plain": [
       "Epoch 24:   0%|          | 0/363 [00:00<?, ?it/s]"
      ]
     },
     "metadata": {},
     "output_type": "display_data"
    },
    {
     "name": "stdout",
     "output_type": "stream",
     "text": [
      "Training @ 24: {'loss': 0.15982732040082842, 'accuracy': 0.7734776139259338, 'baseline': 0.7504015564918518}\n"
     ]
    },
    {
     "data": {
      "application/vnd.jupyter.widget-view+json": {
       "model_id": "8b483fbd1f8e45399f2bc85a021ce377",
       "version_major": 2,
       "version_minor": 0
      },
      "text/plain": [
       "Evaluating:   0%|          | 0/39 [00:00<?, ?it/s]"
      ]
     },
     "metadata": {},
     "output_type": "display_data"
    },
    {
     "name": "stdout",
     "output_type": "stream",
     "text": [
      "Validation @ 24: {'loss': 0.28703951820490925, 'accuracy': 0.5758444666862488, 'baseline': 0.7412158250808716}\n"
     ]
    },
    {
     "data": {
      "application/vnd.jupyter.widget-view+json": {
       "model_id": "9b5c1dfb6fb14cc3bdb6588d98a689b5",
       "version_major": 2,
       "version_minor": 0
      },
      "text/plain": [
       "Epoch 25:   0%|          | 0/363 [00:00<?, ?it/s]"
      ]
     },
     "metadata": {},
     "output_type": "display_data"
    },
    {
     "name": "stdout",
     "output_type": "stream",
     "text": [
      "Training @ 25: {'loss': 0.1591345418961379, 'accuracy': 0.7747960686683655, 'baseline': 0.7503719925880432}\n"
     ]
    },
    {
     "data": {
      "application/vnd.jupyter.widget-view+json": {
       "model_id": "e6fa0f7336d2424aac72f6efa5972afa",
       "version_major": 2,
       "version_minor": 0
      },
      "text/plain": [
       "Evaluating:   0%|          | 0/39 [00:00<?, ?it/s]"
      ]
     },
     "metadata": {},
     "output_type": "display_data"
    },
    {
     "name": "stdout",
     "output_type": "stream",
     "text": [
      "Validation @ 25: {'loss': 0.28921674547887083, 'accuracy': 0.5751904845237732, 'baseline': 0.7346261143684387}\n"
     ]
    },
    {
     "data": {
      "application/vnd.jupyter.widget-view+json": {
       "model_id": "8ecc9bf6f7f74454985f485d1721906f",
       "version_major": 2,
       "version_minor": 0
      },
      "text/plain": [
       "Epoch 26:   0%|          | 0/363 [00:00<?, ?it/s]"
      ]
     },
     "metadata": {},
     "output_type": "display_data"
    },
    {
     "name": "stdout",
     "output_type": "stream",
     "text": [
      "Training @ 26: {'loss': 0.15845775718757013, 'accuracy': 0.7761441469192505, 'baseline': 0.750377357006073}\n"
     ]
    },
    {
     "data": {
      "application/vnd.jupyter.widget-view+json": {
       "model_id": "a8e8141177df4a209b8b8f1fd51a0a6f",
       "version_major": 2,
       "version_minor": 0
      },
      "text/plain": [
       "Evaluating:   0%|          | 0/39 [00:00<?, ?it/s]"
      ]
     },
     "metadata": {},
     "output_type": "display_data"
    },
    {
     "name": "stdout",
     "output_type": "stream",
     "text": [
      "Validation @ 26: {'loss': 0.2917215779962283, 'accuracy': 0.5738323330879211, 'baseline': 0.7398073077201843}\n"
     ]
    },
    {
     "data": {
      "application/vnd.jupyter.widget-view+json": {
       "model_id": "37e9848f51fa42a3b2a4f0e37d48e3c9",
       "version_major": 2,
       "version_minor": 0
      },
      "text/plain": [
       "Epoch 27:   0%|          | 0/363 [00:00<?, ?it/s]"
      ]
     },
     "metadata": {},
     "output_type": "display_data"
    },
    {
     "name": "stdout",
     "output_type": "stream",
     "text": [
      "Training @ 27: {'loss': 0.15779764390561182, 'accuracy': 0.777459979057312, 'baseline': 0.7503558397293091}\n"
     ]
    },
    {
     "data": {
      "application/vnd.jupyter.widget-view+json": {
       "model_id": "1fc8af7ab18d4a5fae28f24b495a7706",
       "version_major": 2,
       "version_minor": 0
      },
      "text/plain": [
       "Evaluating:   0%|          | 0/39 [00:00<?, ?it/s]"
      ]
     },
     "metadata": {},
     "output_type": "display_data"
    },
    {
     "name": "stdout",
     "output_type": "stream",
     "text": [
      "Validation @ 27: {'loss': 0.29464240164511396, 'accuracy': 0.5714429616928101, 'baseline': 0.7295454740524292}\n"
     ]
    },
    {
     "data": {
      "application/vnd.jupyter.widget-view+json": {
       "model_id": "7f3aaeddb9644a65aa19c7378b46199c",
       "version_major": 2,
       "version_minor": 0
      },
      "text/plain": [
       "Epoch 28:   0%|          | 0/363 [00:00<?, ?it/s]"
      ]
     },
     "metadata": {},
     "output_type": "display_data"
    },
    {
     "name": "stdout",
     "output_type": "stream",
     "text": [
      "Training @ 28: {'loss': 0.15715639026939124, 'accuracy': 0.7786681056022644, 'baseline': 0.7503638863563538}\n"
     ]
    },
    {
     "data": {
      "application/vnd.jupyter.widget-view+json": {
       "model_id": "d369cdace0f74e5d9b14370b14729bf1",
       "version_major": 2,
       "version_minor": 0
      },
      "text/plain": [
       "Evaluating:   0%|          | 0/39 [00:00<?, ?it/s]"
      ]
     },
     "metadata": {},
     "output_type": "display_data"
    },
    {
     "name": "stdout",
     "output_type": "stream",
     "text": [
      "Validation @ 28: {'loss': 0.2980786162982563, 'accuracy': 0.5698835253715515, 'baseline': 0.7197112441062927}\n"
     ]
    },
    {
     "data": {
      "application/vnd.jupyter.widget-view+json": {
       "model_id": "1f54d250558d48adb5de5dcea983f499",
       "version_major": 2,
       "version_minor": 0
      },
      "text/plain": [
       "Epoch 29:   0%|          | 0/363 [00:00<?, ?it/s]"
      ]
     },
     "metadata": {},
     "output_type": "display_data"
    },
    {
     "name": "stdout",
     "output_type": "stream",
     "text": [
      "Training @ 29: {'loss': 0.15653807229237612, 'accuracy': 0.7798439860343933, 'baseline': 0.7503638863563538}\n"
     ]
    },
    {
     "data": {
      "application/vnd.jupyter.widget-view+json": {
       "model_id": "b16150be2a9b45b2a2b7a35dbe9ac265",
       "version_major": 2,
       "version_minor": 0
      },
      "text/plain": [
       "Evaluating:   0%|          | 0/39 [00:00<?, ?it/s]"
      ]
     },
     "metadata": {},
     "output_type": "display_data"
    },
    {
     "name": "stdout",
     "output_type": "stream",
     "text": [
      "Validation @ 29: {'loss': 0.3021204703483919, 'accuracy': 0.5676953792572021, 'baseline': 0.7363364100456238}\n"
     ]
    },
    {
     "data": {
      "application/vnd.jupyter.widget-view+json": {
       "model_id": "0d1430ddca9844e2870a3f09392d1e55",
       "version_major": 2,
       "version_minor": 0
      },
      "text/plain": [
       "Epoch 30:   0%|          | 0/363 [00:00<?, ?it/s]"
      ]
     },
     "metadata": {},
     "output_type": "display_data"
    },
    {
     "name": "stdout",
     "output_type": "stream",
     "text": [
      "Training @ 30: {'loss': 0.15594675319261275, 'accuracy': 0.7807400226593018, 'baseline': 0.7503638863563538}\n"
     ]
    },
    {
     "data": {
      "application/vnd.jupyter.widget-view+json": {
       "model_id": "4e2a1e9ae74a457e8e7a41e49502823b",
       "version_major": 2,
       "version_minor": 0
      },
      "text/plain": [
       "Evaluating:   0%|          | 0/39 [00:00<?, ?it/s]"
      ]
     },
     "metadata": {},
     "output_type": "display_data"
    },
    {
     "name": "stdout",
     "output_type": "stream",
     "text": [
      "Validation @ 30: {'loss': 0.3067372746848254, 'accuracy': 0.5650041103363037, 'baseline': 0.7277848720550537}\n"
     ]
    },
    {
     "data": {
      "application/vnd.jupyter.widget-view+json": {
       "model_id": "ece418075ecd471dbc0663fa9bcefa75",
       "version_major": 2,
       "version_minor": 0
      },
      "text/plain": [
       "Epoch 31:   0%|          | 0/363 [00:00<?, ?it/s]"
      ]
     },
     "metadata": {},
     "output_type": "display_data"
    },
    {
     "name": "stdout",
     "output_type": "stream",
     "text": [
      "Training @ 31: {'loss': 0.15537530584836118, 'accuracy': 0.7817705869674683, 'baseline': 0.7503638863563538}\n"
     ]
    },
    {
     "data": {
      "application/vnd.jupyter.widget-view+json": {
       "model_id": "7b85f39a7f174f7f84e8f5ed13b338ec",
       "version_major": 2,
       "version_minor": 0
      },
      "text/plain": [
       "Evaluating:   0%|          | 0/39 [00:00<?, ?it/s]"
      ]
     },
     "metadata": {},
     "output_type": "display_data"
    },
    {
     "name": "stdout",
     "output_type": "stream",
     "text": [
      "Validation @ 31: {'loss': 0.3114361282530893, 'accuracy': 0.5617847442626953, 'baseline': 0.7272064089775085}\n"
     ]
    },
    {
     "data": {
      "application/vnd.jupyter.widget-view+json": {
       "model_id": "d708eeef3f724ff59ee7d9928d985956",
       "version_major": 2,
       "version_minor": 0
      },
      "text/plain": [
       "Epoch 32:   0%|          | 0/363 [00:00<?, ?it/s]"
      ]
     },
     "metadata": {},
     "output_type": "display_data"
    },
    {
     "name": "stdout",
     "output_type": "stream",
     "text": [
      "Training @ 32: {'loss': 0.15478648201149298, 'accuracy': 0.7829625606536865, 'baseline': 0.750377357006073}\n"
     ]
    },
    {
     "data": {
      "application/vnd.jupyter.widget-view+json": {
       "model_id": "caaa9a6fd359477eb029aa50deaf6a51",
       "version_major": 2,
       "version_minor": 0
      },
      "text/plain": [
       "Evaluating:   0%|          | 0/39 [00:00<?, ?it/s]"
      ]
     },
     "metadata": {},
     "output_type": "display_data"
    },
    {
     "name": "stdout",
     "output_type": "stream",
     "text": [
      "Validation @ 32: {'loss': 0.3150206324353107, 'accuracy': 0.5604768395423889, 'baseline': 0.7371664047241211}\n"
     ]
    },
    {
     "data": {
      "application/vnd.jupyter.widget-view+json": {
       "model_id": "6ec878e9024f4551874cbb2e3aa6d241",
       "version_major": 2,
       "version_minor": 0
      },
      "text/plain": [
       "Epoch 33:   0%|          | 0/363 [00:00<?, ?it/s]"
      ]
     },
     "metadata": {},
     "output_type": "display_data"
    },
    {
     "name": "stdout",
     "output_type": "stream",
     "text": [
      "Training @ 33: {'loss': 0.15414231726135696, 'accuracy': 0.784052312374115, 'baseline': 0.750377357006073}\n"
     ]
    },
    {
     "data": {
      "application/vnd.jupyter.widget-view+json": {
       "model_id": "15e5013b926b4ad19fac0038aa19f0f7",
       "version_major": 2,
       "version_minor": 0
      },
      "text/plain": [
       "Evaluating:   0%|          | 0/39 [00:00<?, ?it/s]"
      ]
     },
     "metadata": {},
     "output_type": "display_data"
    },
    {
     "name": "stdout",
     "output_type": "stream",
     "text": [
      "Validation @ 33: {'loss': 0.3168020755080301, 'accuracy': 0.5603259801864624, 'baseline': 0.729319155216217}\n"
     ]
    },
    {
     "data": {
      "application/vnd.jupyter.widget-view+json": {
       "model_id": "bea67fb59ec841d6bcc02ac11936bc12",
       "version_major": 2,
       "version_minor": 0
      },
      "text/plain": [
       "Epoch 34:   0%|          | 0/363 [00:00<?, ?it/s]"
      ]
     },
     "metadata": {},
     "output_type": "display_data"
    },
    {
     "name": "stdout",
     "output_type": "stream",
     "text": [
      "Training @ 34: {'loss': 0.1534605401964753, 'accuracy': 0.7850452065467834, 'baseline': 0.750377357006073}\n"
     ]
    },
    {
     "data": {
      "application/vnd.jupyter.widget-view+json": {
       "model_id": "b3955be68b5645d9ba3f1298072af3ae",
       "version_major": 2,
       "version_minor": 0
      },
      "text/plain": [
       "Evaluating:   0%|          | 0/39 [00:00<?, ?it/s]"
      ]
     },
     "metadata": {},
     "output_type": "display_data"
    },
    {
     "name": "stdout",
     "output_type": "stream",
     "text": [
      "Validation @ 34: {'loss': 0.31757601197614, 'accuracy': 0.5607032179832458, 'baseline': 0.7313061356544495}\n"
     ]
    },
    {
     "data": {
      "application/vnd.jupyter.widget-view+json": {
       "model_id": "f51111ee050b414093aafae723642f21",
       "version_major": 2,
       "version_minor": 0
      },
      "text/plain": [
       "Epoch 35:   0%|          | 0/363 [00:00<?, ?it/s]"
      ]
     },
     "metadata": {},
     "output_type": "display_data"
    },
    {
     "name": "stdout",
     "output_type": "stream",
     "text": [
      "Training @ 35: {'loss': 0.15277664867413746, 'accuracy': 0.7861726880073547, 'baseline': 0.750377357006073}\n"
     ]
    },
    {
     "data": {
      "application/vnd.jupyter.widget-view+json": {
       "model_id": "65b56ef12d1a4259a0d2c2f7f30aa046",
       "version_major": 2,
       "version_minor": 0
      },
      "text/plain": [
       "Evaluating:   0%|          | 0/39 [00:00<?, ?it/s]"
      ]
     },
     "metadata": {},
     "output_type": "display_data"
    },
    {
     "name": "stdout",
     "output_type": "stream",
     "text": [
      "Validation @ 35: {'loss': 0.318103436860446, 'accuracy': 0.5608038306236267, 'baseline': 0.738650381565094}\n"
     ]
    },
    {
     "data": {
      "application/vnd.jupyter.widget-view+json": {
       "model_id": "01b93e5ce82842a89a910c974e5c8c5b",
       "version_major": 2,
       "version_minor": 0
      },
      "text/plain": [
       "Epoch 36:   0%|          | 0/363 [00:00<?, ?it/s]"
      ]
     },
     "metadata": {},
     "output_type": "display_data"
    },
    {
     "name": "stdout",
     "output_type": "stream",
     "text": [
      "Training @ 36: {'loss': 0.1521036762285525, 'accuracy': 0.7874534726142883, 'baseline': 0.750377357006073}\n"
     ]
    },
    {
     "data": {
      "application/vnd.jupyter.widget-view+json": {
       "model_id": "8d8481dc7c544b2a9a436640a3857ed3",
       "version_major": 2,
       "version_minor": 0
      },
      "text/plain": [
       "Evaluating:   0%|          | 0/39 [00:00<?, ?it/s]"
      ]
     },
     "metadata": {},
     "output_type": "display_data"
    },
    {
     "name": "stdout",
     "output_type": "stream",
     "text": [
      "Validation @ 36: {'loss': 0.31863572549141134, 'accuracy': 0.5610302090644836, 'baseline': 0.7413164377212524}\n"
     ]
    },
    {
     "data": {
      "application/vnd.jupyter.widget-view+json": {
       "model_id": "a0f5bee673c4424fa8d473ea4588bc24",
       "version_major": 2,
       "version_minor": 0
      },
      "text/plain": [
       "Epoch 37:   0%|          | 0/363 [00:00<?, ?it/s]"
      ]
     },
     "metadata": {},
     "output_type": "display_data"
    },
    {
     "name": "stdout",
     "output_type": "stream",
     "text": [
      "Training @ 37: {'loss': 0.15144265635856147, 'accuracy': 0.7889549136161804, 'baseline': 0.750377357006073}\n"
     ]
    },
    {
     "data": {
      "application/vnd.jupyter.widget-view+json": {
       "model_id": "811e2d32ffcf471bbdc926ec7b0a22ad",
       "version_major": 2,
       "version_minor": 0
      },
      "text/plain": [
       "Evaluating:   0%|          | 0/39 [00:00<?, ?it/s]"
      ]
     },
     "metadata": {},
     "output_type": "display_data"
    },
    {
     "name": "stdout",
     "output_type": "stream",
     "text": [
      "Validation @ 37: {'loss': 0.3192233923504916, 'accuracy': 0.5608289837837219, 'baseline': 0.7423476576805115}\n"
     ]
    },
    {
     "data": {
      "application/vnd.jupyter.widget-view+json": {
       "model_id": "23d1888155164f0eae0e8973bfe08d5b",
       "version_major": 2,
       "version_minor": 0
      },
      "text/plain": [
       "Epoch 38:   0%|          | 0/363 [00:00<?, ?it/s]"
      ]
     },
     "metadata": {},
     "output_type": "display_data"
    },
    {
     "name": "stdout",
     "output_type": "stream",
     "text": [
      "Training @ 38: {'loss': 0.15079268696823983, 'accuracy': 0.7904536724090576, 'baseline': 0.750377357006073}\n"
     ]
    },
    {
     "data": {
      "application/vnd.jupyter.widget-view+json": {
       "model_id": "30e04626cef147668b7efcc687249939",
       "version_major": 2,
       "version_minor": 0
      },
      "text/plain": [
       "Evaluating:   0%|          | 0/39 [00:00<?, ?it/s]"
      ]
     },
     "metadata": {},
     "output_type": "display_data"
    },
    {
     "name": "stdout",
     "output_type": "stream",
     "text": [
      "Validation @ 38: {'loss': 0.31986864664136694, 'accuracy': 0.5611056685447693, 'baseline': 0.7391282320022583}\n"
     ]
    },
    {
     "data": {
      "application/vnd.jupyter.widget-view+json": {
       "model_id": "bc4bec4be0054ad9907a95dd11afee4c",
       "version_major": 2,
       "version_minor": 0
      },
      "text/plain": [
       "Epoch 39:   0%|          | 0/363 [00:00<?, ?it/s]"
      ]
     },
     "metadata": {},
     "output_type": "display_data"
    },
    {
     "name": "stdout",
     "output_type": "stream",
     "text": [
      "Training @ 39: {'loss': 0.1501530997210557, 'accuracy': 0.7916537523269653, 'baseline': 0.7503531575202942}\n"
     ]
    },
    {
     "data": {
      "application/vnd.jupyter.widget-view+json": {
       "model_id": "a97a0cca8bfd4cbd9c303f3958549cbe",
       "version_major": 2,
       "version_minor": 0
      },
      "text/plain": [
       "Evaluating:   0%|          | 0/39 [00:00<?, ?it/s]"
      ]
     },
     "metadata": {},
     "output_type": "display_data"
    },
    {
     "name": "stdout",
     "output_type": "stream",
     "text": [
      "Validation @ 39: {'loss': 0.320563542659669, 'accuracy': 0.5610302090644836, 'baseline': 0.7327397465705872}\n"
     ]
    },
    {
     "data": {
      "application/vnd.jupyter.widget-view+json": {
       "model_id": "22ce9e46682c41eaa516583051f97da5",
       "version_major": 2,
       "version_minor": 0
      },
      "text/plain": [
       "Epoch 40:   0%|          | 0/363 [00:00<?, ?it/s]"
      ]
     },
     "metadata": {},
     "output_type": "display_data"
    },
    {
     "name": "stdout",
     "output_type": "stream",
     "text": [
      "Training @ 40: {'loss': 0.14952347180639866, 'accuracy': 0.7928673028945923, 'baseline': 0.7503423690795898}\n"
     ]
    },
    {
     "data": {
      "application/vnd.jupyter.widget-view+json": {
       "model_id": "97cb0322e3234483bdb7213d17e138e8",
       "version_major": 2,
       "version_minor": 0
      },
      "text/plain": [
       "Evaluating:   0%|          | 0/39 [00:00<?, ?it/s]"
      ]
     },
     "metadata": {},
     "output_type": "display_data"
    },
    {
     "name": "stdout",
     "output_type": "stream",
     "text": [
      "Validation @ 40: {'loss': 0.32129626278951134, 'accuracy': 0.5611056685447693, 'baseline': 0.7327145934104919}\n"
     ]
    },
    {
     "data": {
      "application/vnd.jupyter.widget-view+json": {
       "model_id": "e1a9e33ccb8e449194027097f48fa4f4",
       "version_major": 2,
       "version_minor": 0
      },
      "text/plain": [
       "Epoch 41:   0%|          | 0/363 [00:00<?, ?it/s]"
      ]
     },
     "metadata": {},
     "output_type": "display_data"
    },
    {
     "name": "stdout",
     "output_type": "stream",
     "text": [
      "Training @ 41: {'loss': 0.1489034002694703, 'accuracy': 0.7939839363098145, 'baseline': 0.7503450512886047}\n"
     ]
    },
    {
     "data": {
      "application/vnd.jupyter.widget-view+json": {
       "model_id": "8c08f207e48848578e12c04d614c208f",
       "version_major": 2,
       "version_minor": 0
      },
      "text/plain": [
       "Evaluating:   0%|          | 0/39 [00:00<?, ?it/s]"
      ]
     },
     "metadata": {},
     "output_type": "display_data"
    },
    {
     "name": "stdout",
     "output_type": "stream",
     "text": [
      "Validation @ 41: {'loss': 0.322051468025394, 'accuracy': 0.5608541369438171, 'baseline': 0.6973012089729309}\n"
     ]
    },
    {
     "data": {
      "application/vnd.jupyter.widget-view+json": {
       "model_id": "ab179cbb58de4fbdbd48fd07199c44ef",
       "version_major": 2,
       "version_minor": 0
      },
      "text/plain": [
       "Epoch 42:   0%|          | 0/363 [00:00<?, ?it/s]"
      ]
     },
     "metadata": {},
     "output_type": "display_data"
    },
    {
     "name": "stdout",
     "output_type": "stream",
     "text": [
      "Training @ 42: {'loss': 0.1482923877416498, 'accuracy': 0.7953159213066101, 'baseline': 0.7503423690795898}\n"
     ]
    },
    {
     "data": {
      "application/vnd.jupyter.widget-view+json": {
       "model_id": "c56b23a8b7dd462ba52c981c8cbb7c56",
       "version_major": 2,
       "version_minor": 0
      },
      "text/plain": [
       "Evaluating:   0%|          | 0/39 [00:00<?, ?it/s]"
      ]
     },
     "metadata": {},
     "output_type": "display_data"
    },
    {
     "name": "stdout",
     "output_type": "stream",
     "text": [
      "Validation @ 42: {'loss': 0.3228110656464177, 'accuracy': 0.5606780648231506, 'baseline': 0.7364370226860046}\n"
     ]
    },
    {
     "data": {
      "application/vnd.jupyter.widget-view+json": {
       "model_id": "674f24bc73a54b48b17a94384c15c664",
       "version_major": 2,
       "version_minor": 0
      },
      "text/plain": [
       "Epoch 43:   0%|          | 0/363 [00:00<?, ?it/s]"
      ]
     },
     "metadata": {},
     "output_type": "display_data"
    },
    {
     "name": "stdout",
     "output_type": "stream",
     "text": [
      "Training @ 43: {'loss': 0.14768992936799047, 'accuracy': 0.7964513897895813, 'baseline': 0.7503423690795898}\n"
     ]
    },
    {
     "data": {
      "application/vnd.jupyter.widget-view+json": {
       "model_id": "2b55095c9b1a4fe3aa47002b18123e16",
       "version_major": 2,
       "version_minor": 0
      },
      "text/plain": [
       "Evaluating:   0%|          | 0/39 [00:00<?, ?it/s]"
      ]
     },
     "metadata": {},
     "output_type": "display_data"
    },
    {
     "name": "stdout",
     "output_type": "stream",
     "text": [
      "Validation @ 43: {'loss': 0.3235570726820951, 'accuracy': 0.5597977638244629, 'baseline': 0.7192333936691284}\n"
     ]
    },
    {
     "data": {
      "application/vnd.jupyter.widget-view+json": {
       "model_id": "e10a911128e54256a418ac1015ede29e",
       "version_major": 2,
       "version_minor": 0
      },
      "text/plain": [
       "Epoch 44:   0%|          | 0/363 [00:00<?, ?it/s]"
      ]
     },
     "metadata": {},
     "output_type": "display_data"
    },
    {
     "name": "stdout",
     "output_type": "stream",
     "text": [
      "Training @ 44: {'loss': 0.14709589398346287, 'accuracy': 0.797573447227478, 'baseline': 0.750318169593811}\n"
     ]
    },
    {
     "data": {
      "application/vnd.jupyter.widget-view+json": {
       "model_id": "db4425aa68c141f689f7c897c856f9da",
       "version_major": 2,
       "version_minor": 0
      },
      "text/plain": [
       "Evaluating:   0%|          | 0/39 [00:00<?, ?it/s]"
      ]
     },
     "metadata": {},
     "output_type": "display_data"
    },
    {
     "name": "stdout",
     "output_type": "stream",
     "text": [
      "Validation @ 44: {'loss': 0.32427212309602277, 'accuracy': 0.5604516863822937, 'baseline': 0.7409894466400146}\n"
     ]
    },
    {
     "data": {
      "application/vnd.jupyter.widget-view+json": {
       "model_id": "d1b3bc7d2c9f44f392b5ee9680deaf8a",
       "version_major": 2,
       "version_minor": 0
      },
      "text/plain": [
       "Epoch 45:   0%|          | 0/363 [00:00<?, ?it/s]"
      ]
     },
     "metadata": {},
     "output_type": "display_data"
    },
    {
     "name": "stdout",
     "output_type": "stream",
     "text": [
      "Training @ 45: {'loss': 0.14651110545362697, 'accuracy': 0.798690140247345, 'baseline': 0.7503020167350769}\n"
     ]
    },
    {
     "data": {
      "application/vnd.jupyter.widget-view+json": {
       "model_id": "45db0f655f054594aebd3e0b3de2a60d",
       "version_major": 2,
       "version_minor": 0
      },
      "text/plain": [
       "Evaluating:   0%|          | 0/39 [00:00<?, ?it/s]"
      ]
     },
     "metadata": {},
     "output_type": "display_data"
    },
    {
     "name": "stdout",
     "output_type": "stream",
     "text": [
      "Validation @ 45: {'loss': 0.3249302638379401, 'accuracy': 0.5603008270263672, 'baseline': 0.7380970120429993}\n"
     ]
    },
    {
     "data": {
      "application/vnd.jupyter.widget-view+json": {
       "model_id": "d49e60d3531b45bd95dd19e8edcfc73c",
       "version_major": 2,
       "version_minor": 0
      },
      "text/plain": [
       "Epoch 46:   0%|          | 0/363 [00:00<?, ?it/s]"
      ]
     },
     "metadata": {},
     "output_type": "display_data"
    },
    {
     "name": "stdout",
     "output_type": "stream",
     "text": [
      "Training @ 46: {'loss': 0.14593726246587163, 'accuracy': 0.799674928188324, 'baseline': 0.7503020167350769}\n"
     ]
    },
    {
     "data": {
      "application/vnd.jupyter.widget-view+json": {
       "model_id": "748dc187bec84d6482b2dcb0b494079f",
       "version_major": 2,
       "version_minor": 0
      },
      "text/plain": [
       "Evaluating:   0%|          | 0/39 [00:00<?, ?it/s]"
      ]
     },
     "metadata": {},
     "output_type": "display_data"
    },
    {
     "name": "stdout",
     "output_type": "stream",
     "text": [
      "Validation @ 46: {'loss': 0.3254897389420861, 'accuracy': 0.5612314343452454, 'baseline': 0.7222766876220703}\n"
     ]
    },
    {
     "data": {
      "application/vnd.jupyter.widget-view+json": {
       "model_id": "6720720233a44c5891c0e0a43349e0ac",
       "version_major": 2,
       "version_minor": 0
      },
      "text/plain": [
       "Epoch 47:   0%|          | 0/363 [00:00<?, ?it/s]"
      ]
     },
     "metadata": {},
     "output_type": "display_data"
    },
    {
     "name": "stdout",
     "output_type": "stream",
     "text": [
      "Training @ 47: {'loss': 0.14537624132442642, 'accuracy': 0.8008588552474976, 'baseline': 0.7503020167350769}\n"
     ]
    },
    {
     "data": {
      "application/vnd.jupyter.widget-view+json": {
       "model_id": "e04f2847fd0d403089f07ceadf0e5bfd",
       "version_major": 2,
       "version_minor": 0
      },
      "text/plain": [
       "Evaluating:   0%|          | 0/39 [00:00<?, ?it/s]"
      ]
     },
     "metadata": {},
     "output_type": "display_data"
    },
    {
     "name": "stdout",
     "output_type": "stream",
     "text": [
      "Validation @ 47: {'loss': 0.3259002855545816, 'accuracy': 0.5609044432640076, 'baseline': 0.7321864366531372}\n"
     ]
    },
    {
     "data": {
      "application/vnd.jupyter.widget-view+json": {
       "model_id": "47706d9117c94718bc918a4464e3688f",
       "version_major": 2,
       "version_minor": 0
      },
      "text/plain": [
       "Epoch 48:   0%|          | 0/363 [00:00<?, ?it/s]"
      ]
     },
     "metadata": {},
     "output_type": "display_data"
    },
    {
     "name": "stdout",
     "output_type": "stream",
     "text": [
      "Training @ 48: {'loss': 0.14482999549706235, 'accuracy': 0.8019835948944092, 'baseline': 0.7503020167350769}\n"
     ]
    },
    {
     "data": {
      "application/vnd.jupyter.widget-view+json": {
       "model_id": "4147c3355b6b4202b4d21e6ab7287060",
       "version_major": 2,
       "version_minor": 0
      },
      "text/plain": [
       "Evaluating:   0%|          | 0/39 [00:00<?, ?it/s]"
      ]
     },
     "metadata": {},
     "output_type": "display_data"
    },
    {
     "name": "stdout",
     "output_type": "stream",
     "text": [
      "Validation @ 48: {'loss': 0.3261126802261694, 'accuracy': 0.5609044432640076, 'baseline': 0.7358334064483643}\n"
     ]
    },
    {
     "data": {
      "application/vnd.jupyter.widget-view+json": {
       "model_id": "6bed34d9fe4842ee91e6ce232eab61ee",
       "version_major": 2,
       "version_minor": 0
      },
      "text/plain": [
       "Epoch 49:   0%|          | 0/363 [00:00<?, ?it/s]"
      ]
     },
     "metadata": {},
     "output_type": "display_data"
    },
    {
     "name": "stdout",
     "output_type": "stream",
     "text": [
      "Training @ 49: {'loss': 0.14430098433029762, 'accuracy': 0.8030384182929993, 'baseline': 0.7503020167350769}\n"
     ]
    },
    {
     "data": {
      "application/vnd.jupyter.widget-view+json": {
       "model_id": "7f056cf2a7db40d78048cb3976a57305",
       "version_major": 2,
       "version_minor": 0
      },
      "text/plain": [
       "Evaluating:   0%|          | 0/39 [00:00<?, ?it/s]"
      ]
     },
     "metadata": {},
     "output_type": "display_data"
    },
    {
     "name": "stdout",
     "output_type": "stream",
     "text": [
      "Validation @ 49: {'loss': 0.3261000249528193, 'accuracy': 0.5610302090644836, 'baseline': 0.7235845923423767}\n"
     ]
    },
    {
     "data": {
      "application/vnd.jupyter.widget-view+json": {
       "model_id": "716a55387ef34d13ae4a84309f420340",
       "version_major": 2,
       "version_minor": 0
      },
      "text/plain": [
       "Epoch 50:   0%|          | 0/363 [00:00<?, ?it/s]"
      ]
     },
     "metadata": {},
     "output_type": "display_data"
    },
    {
     "name": "stdout",
     "output_type": "stream",
     "text": [
      "Training @ 50: {'loss': 0.14379353018708466, 'accuracy': 0.803856372833252, 'baseline': 0.7502912878990173}\n"
     ]
    },
    {
     "data": {
      "application/vnd.jupyter.widget-view+json": {
       "model_id": "0078bda984fa4749baf69e1ab0cba969",
       "version_major": 2,
       "version_minor": 0
      },
      "text/plain": [
       "Evaluating:   0%|          | 0/39 [00:00<?, ?it/s]"
      ]
     },
     "metadata": {},
     "output_type": "display_data"
    },
    {
     "name": "stdout",
     "output_type": "stream",
     "text": [
      "Validation @ 50: {'loss': 0.3258978646523954, 'accuracy': 0.5608289837837219, 'baseline': 0.7406121492385864}\n"
     ]
    },
    {
     "data": {
      "application/vnd.jupyter.widget-view+json": {
       "model_id": "23834fcf78c844ee8f2cfba093842914",
       "version_major": 2,
       "version_minor": 0
      },
      "text/plain": [
       "Epoch 51:   0%|          | 0/363 [00:00<?, ?it/s]"
      ]
     },
     "metadata": {},
     "output_type": "display_data"
    },
    {
     "name": "stdout",
     "output_type": "stream",
     "text": [
      "Training @ 51: {'loss': 0.1433169845861319, 'accuracy': 0.8047954440116882, 'baseline': 0.7502912878990173}\n"
     ]
    },
    {
     "data": {
      "application/vnd.jupyter.widget-view+json": {
       "model_id": "7a9d2d55e1b44b8198f44b74e84ca98f",
       "version_major": 2,
       "version_minor": 0
      },
      "text/plain": [
       "Evaluating:   0%|          | 0/39 [00:00<?, ?it/s]"
      ]
     },
     "metadata": {},
     "output_type": "display_data"
    },
    {
     "name": "stdout",
     "output_type": "stream",
     "text": [
      "Validation @ 51: {'loss': 0.32564034623868143, 'accuracy': 0.5609044432640076, 'baseline': 0.7308533787727356}\n"
     ]
    },
    {
     "data": {
      "application/vnd.jupyter.widget-view+json": {
       "model_id": "70f3a5f694ab49068e76c72ab15a3ff7",
       "version_major": 2,
       "version_minor": 0
      },
      "text/plain": [
       "Epoch 52:   0%|          | 0/363 [00:00<?, ?it/s]"
      ]
     },
     "metadata": {},
     "output_type": "display_data"
    },
    {
     "name": "stdout",
     "output_type": "stream",
     "text": [
      "Training @ 52: {'loss': 0.142892055214554, 'accuracy': 0.8057506680488586, 'baseline': 0.7502912878990173}\n"
     ]
    },
    {
     "data": {
      "application/vnd.jupyter.widget-view+json": {
       "model_id": "12282aa2c562451793a607f97ad10ef2",
       "version_major": 2,
       "version_minor": 0
      },
      "text/plain": [
       "Evaluating:   0%|          | 0/39 [00:00<?, ?it/s]"
      ]
     },
     "metadata": {},
     "output_type": "display_data"
    },
    {
     "name": "stdout",
     "output_type": "stream",
     "text": [
      "Validation @ 52: {'loss': 0.32555557151816883, 'accuracy': 0.5621368885040283, 'baseline': 0.7404109835624695}\n"
     ]
    },
    {
     "data": {
      "application/vnd.jupyter.widget-view+json": {
       "model_id": "d861f9d382404e02879eaa0ac32b5bac",
       "version_major": 2,
       "version_minor": 0
      },
      "text/plain": [
       "Epoch 53:   0%|          | 0/363 [00:00<?, ?it/s]"
      ]
     },
     "metadata": {},
     "output_type": "display_data"
    },
    {
     "name": "stdout",
     "output_type": "stream",
     "text": [
      "Training @ 53: {'loss': 0.14255782171990553, 'accuracy': 0.8065740466117859, 'baseline': 0.7502912878990173}\n"
     ]
    },
    {
     "data": {
      "application/vnd.jupyter.widget-view+json": {
       "model_id": "8015d0fd826242a996a441a5bdccfff4",
       "version_major": 2,
       "version_minor": 0
      },
      "text/plain": [
       "Evaluating:   0%|          | 0/39 [00:00<?, ?it/s]"
      ]
     },
     "metadata": {},
     "output_type": "display_data"
    },
    {
     "name": "stdout",
     "output_type": "stream",
     "text": [
      "Validation @ 53: {'loss': 0.3257890343216332, 'accuracy': 0.5624386668205261, 'baseline': 0.7372167110443115}\n"
     ]
    },
    {
     "data": {
      "application/vnd.jupyter.widget-view+json": {
       "model_id": "db62e4ff35b746beb3af8b9440b4120c",
       "version_major": 2,
       "version_minor": 0
      },
      "text/plain": [
       "Epoch 54:   0%|          | 0/363 [00:00<?, ?it/s]"
      ]
     },
     "metadata": {},
     "output_type": "display_data"
    },
    {
     "name": "stdout",
     "output_type": "stream",
     "text": [
      "Training @ 54: {'loss': 0.14233058730984036, 'accuracy': 0.8070799112319946, 'baseline': 0.7502912878990173}\n"
     ]
    },
    {
     "data": {
      "application/vnd.jupyter.widget-view+json": {
       "model_id": "bce4239e97da46e7b266229ee3e111b6",
       "version_major": 2,
       "version_minor": 0
      },
      "text/plain": [
       "Evaluating:   0%|          | 0/39 [00:00<?, ?it/s]"
      ]
     },
     "metadata": {},
     "output_type": "display_data"
    },
    {
     "name": "stdout",
     "output_type": "stream",
     "text": [
      "Validation @ 54: {'loss': 0.3251801223861802, 'accuracy': 0.5626147389411926, 'baseline': 0.7231066823005676}\n"
     ]
    },
    {
     "data": {
      "application/vnd.jupyter.widget-view+json": {
       "model_id": "01e8ed1286b241d8ae00271d9c7cad70",
       "version_major": 2,
       "version_minor": 0
      },
      "text/plain": [
       "Epoch 55:   0%|          | 0/363 [00:00<?, ?it/s]"
      ]
     },
     "metadata": {},
     "output_type": "display_data"
    },
    {
     "name": "stdout",
     "output_type": "stream",
     "text": [
      "Training @ 55: {'loss': 0.14205193107149108, 'accuracy': 0.8073732256889343, 'baseline': 0.7502912878990173}\n"
     ]
    },
    {
     "data": {
      "application/vnd.jupyter.widget-view+json": {
       "model_id": "08027b331cb04a72a5954b0653724de0",
       "version_major": 2,
       "version_minor": 0
      },
      "text/plain": [
       "Evaluating:   0%|          | 0/39 [00:00<?, ?it/s]"
      ]
     },
     "metadata": {},
     "output_type": "display_data"
    },
    {
     "name": "stdout",
     "output_type": "stream",
     "text": [
      "Validation @ 55: {'loss': 0.32228807773192875, 'accuracy': 0.5643250346183777, 'baseline': 0.7401342988014221}\n"
     ]
    },
    {
     "data": {
      "application/vnd.jupyter.widget-view+json": {
       "model_id": "0b637a825f7340c5935371c2463c2b40",
       "version_major": 2,
       "version_minor": 0
      },
      "text/plain": [
       "Epoch 56:   0%|          | 0/363 [00:00<?, ?it/s]"
      ]
     },
     "metadata": {},
     "output_type": "display_data"
    },
    {
     "name": "stdout",
     "output_type": "stream",
     "text": [
      "Training @ 56: {'loss': 0.14150216705531438, 'accuracy': 0.8080916404724121, 'baseline': 0.7502912878990173}\n"
     ]
    },
    {
     "data": {
      "application/vnd.jupyter.widget-view+json": {
       "model_id": "2bfcb692cf28478ebddf09ef69074e4f",
       "version_major": 2,
       "version_minor": 0
      },
      "text/plain": [
       "Evaluating:   0%|          | 0/39 [00:00<?, ?it/s]"
      ]
     },
     "metadata": {},
     "output_type": "display_data"
    },
    {
     "name": "stdout",
     "output_type": "stream",
     "text": [
      "Validation @ 56: {'loss': 0.32043257669836567, 'accuracy': 0.5656329393386841, 'baseline': 0.7254961133003235}\n"
     ]
    },
    {
     "data": {
      "application/vnd.jupyter.widget-view+json": {
       "model_id": "bd301f3e4c97406ca7df82dd245ec535",
       "version_major": 2,
       "version_minor": 0
      },
      "text/plain": [
       "Epoch 57:   0%|          | 0/363 [00:00<?, ?it/s]"
      ]
     },
     "metadata": {},
     "output_type": "display_data"
    },
    {
     "name": "stdout",
     "output_type": "stream",
     "text": [
      "Training @ 57: {'loss': 0.14084067081952875, 'accuracy': 0.8093563318252563, 'baseline': 0.7502912878990173}\n"
     ]
    },
    {
     "data": {
      "application/vnd.jupyter.widget-view+json": {
       "model_id": "023878a7f5d34302a01d5fef386f5d25",
       "version_major": 2,
       "version_minor": 0
      },
      "text/plain": [
       "Evaluating:   0%|          | 0/39 [00:00<?, ?it/s]"
      ]
     },
     "metadata": {},
     "output_type": "display_data"
    },
    {
     "name": "stdout",
     "output_type": "stream",
     "text": [
      "Validation @ 57: {'loss': 0.32048431604860017, 'accuracy': 0.5661107897758484, 'baseline': 0.7253451943397522}\n"
     ]
    },
    {
     "data": {
      "application/vnd.jupyter.widget-view+json": {
       "model_id": "392d924af728404e9ffacbfab33f999b",
       "version_major": 2,
       "version_minor": 0
      },
      "text/plain": [
       "Epoch 58:   0%|          | 0/363 [00:00<?, ?it/s]"
      ]
     },
     "metadata": {},
     "output_type": "display_data"
    },
    {
     "name": "stdout",
     "output_type": "stream",
     "text": [
      "Training @ 58: {'loss': 0.14019236734623844, 'accuracy': 0.8104837536811829, 'baseline': 0.7502912878990173}\n"
     ]
    },
    {
     "data": {
      "application/vnd.jupyter.widget-view+json": {
       "model_id": "af60a1ade0384b17bf5a874b1aa61e9f",
       "version_major": 2,
       "version_minor": 0
      },
      "text/plain": [
       "Evaluating:   0%|          | 0/39 [00:00<?, ?it/s]"
      ]
     },
     "metadata": {},
     "output_type": "display_data"
    },
    {
     "name": "stdout",
     "output_type": "stream",
     "text": [
      "Validation @ 58: {'loss': 0.32141777792984716, 'accuracy': 0.5657335519790649, 'baseline': 0.7385749220848083}\n"
     ]
    },
    {
     "data": {
      "application/vnd.jupyter.widget-view+json": {
       "model_id": "10bd84186ec74f4fb9c9aacb8955501a",
       "version_major": 2,
       "version_minor": 0
      },
      "text/plain": [
       "Epoch 59:   0%|          | 0/363 [00:00<?, ?it/s]"
      ]
     },
     "metadata": {},
     "output_type": "display_data"
    },
    {
     "name": "stdout",
     "output_type": "stream",
     "text": [
      "Training @ 59: {'loss': 0.13957684159657854, 'accuracy': 0.811465859413147, 'baseline': 0.7502912878990173}\n"
     ]
    },
    {
     "data": {
      "application/vnd.jupyter.widget-view+json": {
       "model_id": "29f2e0924e304b47a63cb941b6bf6642",
       "version_major": 2,
       "version_minor": 0
      },
      "text/plain": [
       "Evaluating:   0%|          | 0/39 [00:00<?, ?it/s]"
      ]
     },
     "metadata": {},
     "output_type": "display_data"
    },
    {
     "name": "stdout",
     "output_type": "stream",
     "text": [
      "Validation @ 59: {'loss': 0.32270250451025395, 'accuracy': 0.5653311014175415, 'baseline': 0.7287406325340271}\n"
     ]
    },
    {
     "data": {
      "application/vnd.jupyter.widget-view+json": {
       "model_id": "0ce619addd934026b414b153b71193f0",
       "version_major": 2,
       "version_minor": 0
      },
      "text/plain": [
       "Epoch 60:   0%|          | 0/363 [00:00<?, ?it/s]"
      ]
     },
     "metadata": {},
     "output_type": "display_data"
    },
    {
     "name": "stdout",
     "output_type": "stream",
     "text": [
      "Training @ 60: {'loss': 0.13897442129968612, 'accuracy': 0.8127090334892273, 'baseline': 0.7502912878990173}\n"
     ]
    },
    {
     "data": {
      "application/vnd.jupyter.widget-view+json": {
       "model_id": "d2d43153a86c46b88431a88952af27e7",
       "version_major": 2,
       "version_minor": 0
      },
      "text/plain": [
       "Evaluating:   0%|          | 0/39 [00:00<?, ?it/s]"
      ]
     },
     "metadata": {},
     "output_type": "display_data"
    },
    {
     "name": "stdout",
     "output_type": "stream",
     "text": [
      "Validation @ 60: {'loss': 0.3241878583865757, 'accuracy': 0.5652053356170654, 'baseline': 0.7355818748474121}\n"
     ]
    },
    {
     "data": {
      "application/vnd.jupyter.widget-view+json": {
       "model_id": "fc761720b11b44d68fcff3979968cfb1",
       "version_major": 2,
       "version_minor": 0
      },
      "text/plain": [
       "Epoch 61:   0%|          | 0/363 [00:00<?, ?it/s]"
      ]
     },
     "metadata": {},
     "output_type": "display_data"
    },
    {
     "name": "stdout",
     "output_type": "stream",
     "text": [
      "Training @ 61: {'loss': 0.13832832201948256, 'accuracy': 0.8141916394233704, 'baseline': 0.7502912878990173}\n"
     ]
    },
    {
     "data": {
      "application/vnd.jupyter.widget-view+json": {
       "model_id": "24ff5ec04bd0424ca417c98cfa8d1064",
       "version_major": 2,
       "version_minor": 0
      },
      "text/plain": [
       "Evaluating:   0%|          | 0/39 [00:00<?, ?it/s]"
      ]
     },
     "metadata": {},
     "output_type": "display_data"
    },
    {
     "name": "stdout",
     "output_type": "stream",
     "text": [
      "Validation @ 61: {'loss': 0.32578781597639894, 'accuracy': 0.5646520256996155, 'baseline': 0.7354058027267456}\n"
     ]
    },
    {
     "data": {
      "application/vnd.jupyter.widget-view+json": {
       "model_id": "5a4c0611436743248284f3c180ff2805",
       "version_major": 2,
       "version_minor": 0
      },
      "text/plain": [
       "Epoch 62:   0%|          | 0/363 [00:00<?, ?it/s]"
      ]
     },
     "metadata": {},
     "output_type": "display_data"
    },
    {
     "name": "stdout",
     "output_type": "stream",
     "text": [
      "Training @ 62: {'loss': 0.13772696884341887, 'accuracy': 0.815372884273529, 'baseline': 0.7502912878990173}\n"
     ]
    },
    {
     "data": {
      "application/vnd.jupyter.widget-view+json": {
       "model_id": "2239cd5e83874a2cad10e5c46444c121",
       "version_major": 2,
       "version_minor": 0
      },
      "text/plain": [
       "Evaluating:   0%|          | 0/39 [00:00<?, ?it/s]"
      ]
     },
     "metadata": {},
     "output_type": "display_data"
    },
    {
     "name": "stdout",
     "output_type": "stream",
     "text": [
      "Validation @ 62: {'loss': 0.32741360090388694, 'accuracy': 0.5640232563018799, 'baseline': 0.7342991232872009}\n"
     ]
    },
    {
     "data": {
      "application/vnd.jupyter.widget-view+json": {
       "model_id": "3374b5b9804f416d9a175285a705ef9d",
       "version_major": 2,
       "version_minor": 0
      },
      "text/plain": [
       "Epoch 63:   0%|          | 0/363 [00:00<?, ?it/s]"
      ]
     },
     "metadata": {},
     "output_type": "display_data"
    },
    {
     "name": "stdout",
     "output_type": "stream",
     "text": [
      "Training @ 63: {'loss': 0.13713551797679135, 'accuracy': 0.8166617751121521, 'baseline': 0.7502912878990173}\n"
     ]
    },
    {
     "data": {
      "application/vnd.jupyter.widget-view+json": {
       "model_id": "1abce78d08fb4a78b2128fe53c154336",
       "version_major": 2,
       "version_minor": 0
      },
      "text/plain": [
       "Evaluating:   0%|          | 0/39 [00:00<?, ?it/s]"
      ]
     },
     "metadata": {},
     "output_type": "display_data"
    },
    {
     "name": "stdout",
     "output_type": "stream",
     "text": [
      "Validation @ 63: {'loss': 0.32901456260837664, 'accuracy': 0.5632938146591187, 'baseline': 0.7291430830955505}\n"
     ]
    },
    {
     "data": {
      "application/vnd.jupyter.widget-view+json": {
       "model_id": "e6f927c681164e9887c92330fe9624d9",
       "version_major": 2,
       "version_minor": 0
      },
      "text/plain": [
       "Epoch 64:   0%|          | 0/363 [00:00<?, ?it/s]"
      ]
     },
     "metadata": {},
     "output_type": "display_data"
    },
    {
     "name": "stdout",
     "output_type": "stream",
     "text": [
      "Training @ 64: {'loss': 0.13656027790007355, 'accuracy': 0.8177730441093445, 'baseline': 0.7502912878990173}\n"
     ]
    },
    {
     "data": {
      "application/vnd.jupyter.widget-view+json": {
       "model_id": "03f55641b87140ffa226b0403e029ab2",
       "version_major": 2,
       "version_minor": 0
      },
      "text/plain": [
       "Evaluating:   0%|          | 0/39 [00:00<?, ?it/s]"
      ]
     },
     "metadata": {},
     "output_type": "display_data"
    },
    {
     "name": "stdout",
     "output_type": "stream",
     "text": [
      "Validation @ 64: {'loss': 0.3305783378828753, 'accuracy': 0.5624638199806213, 'baseline': 0.7258733510971069}\n"
     ]
    },
    {
     "data": {
      "application/vnd.jupyter.widget-view+json": {
       "model_id": "972159a23b744216802812c9fcee5f56",
       "version_major": 2,
       "version_minor": 0
      },
      "text/plain": [
       "Epoch 65:   0%|          | 0/363 [00:00<?, ?it/s]"
      ]
     },
     "metadata": {},
     "output_type": "display_data"
    },
    {
     "name": "stdout",
     "output_type": "stream",
     "text": [
      "Training @ 65: {'loss': 0.13599015971064393, 'accuracy': 0.8189919590950012, 'baseline': 0.7502912878990173}\n"
     ]
    },
    {
     "data": {
      "application/vnd.jupyter.widget-view+json": {
       "model_id": "2094dc4ce96748d9b8074a6d110b3cd2",
       "version_major": 2,
       "version_minor": 0
      },
      "text/plain": [
       "Evaluating:   0%|          | 0/39 [00:00<?, ?it/s]"
      ]
     },
     "metadata": {},
     "output_type": "display_data"
    },
    {
     "name": "stdout",
     "output_type": "stream",
     "text": [
      "Validation @ 65: {'loss': 0.33208079445817534, 'accuracy': 0.5618350505828857, 'baseline': 0.7368394732475281}\n"
     ]
    },
    {
     "data": {
      "application/vnd.jupyter.widget-view+json": {
       "model_id": "27846afc0dd5464dbf21ddb7ae07eec0",
       "version_major": 2,
       "version_minor": 0
      },
      "text/plain": [
       "Epoch 66:   0%|          | 0/363 [00:00<?, ?it/s]"
      ]
     },
     "metadata": {},
     "output_type": "display_data"
    },
    {
     "name": "stdout",
     "output_type": "stream",
     "text": [
      "Training @ 66: {'loss': 0.13543995299171815, 'accuracy': 0.8200601935386658, 'baseline': 0.7502912878990173}\n"
     ]
    },
    {
     "data": {
      "application/vnd.jupyter.widget-view+json": {
       "model_id": "30a1ff48708a4338a2eb1c3fce8d56d5",
       "version_major": 2,
       "version_minor": 0
      },
      "text/plain": [
       "Evaluating:   0%|          | 0/39 [00:00<?, ?it/s]"
      ]
     },
     "metadata": {},
     "output_type": "display_data"
    },
    {
     "name": "stdout",
     "output_type": "stream",
     "text": [
      "Validation @ 66: {'loss': 0.33360190172020215, 'accuracy': 0.5607283711433411, 'baseline': 0.7414924502372742}\n"
     ]
    },
    {
     "data": {
      "application/vnd.jupyter.widget-view+json": {
       "model_id": "c75f5ad299b44dd399bf18f63ebaf063",
       "version_major": 2,
       "version_minor": 0
      },
      "text/plain": [
       "Epoch 67:   0%|          | 0/363 [00:00<?, ?it/s]"
      ]
     },
     "metadata": {},
     "output_type": "display_data"
    },
    {
     "name": "stdout",
     "output_type": "stream",
     "text": [
      "Training @ 67: {'loss': 0.13489220207393918, 'accuracy': 0.8210934400558472, 'baseline': 0.7502912878990173}\n"
     ]
    },
    {
     "data": {
      "application/vnd.jupyter.widget-view+json": {
       "model_id": "0e5e49ad51044d86a2925dba53e47276",
       "version_major": 2,
       "version_minor": 0
      },
      "text/plain": [
       "Evaluating:   0%|          | 0/39 [00:00<?, ?it/s]"
      ]
     },
     "metadata": {},
     "output_type": "display_data"
    },
    {
     "name": "stdout",
     "output_type": "stream",
     "text": [
      "Validation @ 67: {'loss': 0.3349709770590664, 'accuracy': 0.5605019927024841, 'baseline': 0.7341230511665344}\n"
     ]
    },
    {
     "data": {
      "application/vnd.jupyter.widget-view+json": {
       "model_id": "0e477b9786f640aeb75ba2f21a760984",
       "version_major": 2,
       "version_minor": 0
      },
      "text/plain": [
       "Epoch 68:   0%|          | 0/363 [00:00<?, ?it/s]"
      ]
     },
     "metadata": {},
     "output_type": "display_data"
    },
    {
     "name": "stdout",
     "output_type": "stream",
     "text": [
      "Training @ 68: {'loss': 0.1343749904713016, 'accuracy': 0.8221805095672607, 'baseline': 0.7502912878990173}\n"
     ]
    },
    {
     "data": {
      "application/vnd.jupyter.widget-view+json": {
       "model_id": "2d726eb22df54c299fc335aa2e4a5405",
       "version_major": 2,
       "version_minor": 0
      },
      "text/plain": [
       "Evaluating:   0%|          | 0/39 [00:00<?, ?it/s]"
      ]
     },
     "metadata": {},
     "output_type": "display_data"
    },
    {
     "name": "stdout",
     "output_type": "stream",
     "text": [
      "Validation @ 68: {'loss': 0.33641307721834446, 'accuracy': 0.5594456791877747, 'baseline': 0.7372167110443115}\n"
     ]
    },
    {
     "data": {
      "application/vnd.jupyter.widget-view+json": {
       "model_id": "f560eb92a2a64bcfad0f669fd6953532",
       "version_major": 2,
       "version_minor": 0
      },
      "text/plain": [
       "Epoch 69:   0%|          | 0/363 [00:00<?, ?it/s]"
      ]
     },
     "metadata": {},
     "output_type": "display_data"
    },
    {
     "name": "stdout",
     "output_type": "stream",
     "text": [
      "Training @ 69: {'loss': 0.13386623394909458, 'accuracy': 0.8232003450393677, 'baseline': 0.7502912878990173}\n"
     ]
    },
    {
     "data": {
      "application/vnd.jupyter.widget-view+json": {
       "model_id": "22526e35130c470ea4ed6aa5be2b0e32",
       "version_major": 2,
       "version_minor": 0
      },
      "text/plain": [
       "Evaluating:   0%|          | 0/39 [00:00<?, ?it/s]"
      ]
     },
     "metadata": {},
     "output_type": "display_data"
    },
    {
     "name": "stdout",
     "output_type": "stream",
     "text": [
      "Validation @ 69: {'loss': 0.3375760394924408, 'accuracy': 0.5594707727432251, 'baseline': 0.7424230575561523}\n"
     ]
    },
    {
     "data": {
      "application/vnd.jupyter.widget-view+json": {
       "model_id": "fe4bf83ea0264d57a5dd1261187ab2c7",
       "version_major": 2,
       "version_minor": 0
      },
      "text/plain": [
       "Epoch 70:   0%|          | 0/363 [00:00<?, ?it/s]"
      ]
     },
     "metadata": {},
     "output_type": "display_data"
    },
    {
     "name": "stdout",
     "output_type": "stream",
     "text": [
      "Training @ 70: {'loss': 0.13339670629326794, 'accuracy': 0.8240936398506165, 'baseline': 0.7502912878990173}\n"
     ]
    },
    {
     "data": {
      "application/vnd.jupyter.widget-view+json": {
       "model_id": "556ab20340ba4e6c9f73ed54d70b3085",
       "version_major": 2,
       "version_minor": 0
      },
      "text/plain": [
       "Evaluating:   0%|          | 0/39 [00:00<?, ?it/s]"
      ]
     },
     "metadata": {},
     "output_type": "display_data"
    },
    {
     "name": "stdout",
     "output_type": "stream",
     "text": [
      "Validation @ 70: {'loss': 0.33880898986379876, 'accuracy': 0.559697151184082, 'baseline': 0.7323372960090637}\n"
     ]
    },
    {
     "data": {
      "application/vnd.jupyter.widget-view+json": {
       "model_id": "f0cb6449efc3498596a17723663a21b0",
       "version_major": 2,
       "version_minor": 0
      },
      "text/plain": [
       "Epoch 71:   0%|          | 0/363 [00:00<?, ?it/s]"
      ]
     },
     "metadata": {},
     "output_type": "display_data"
    },
    {
     "name": "stdout",
     "output_type": "stream",
     "text": [
      "Training @ 71: {'loss': 0.13294717426716285, 'accuracy': 0.8250784873962402, 'baseline': 0.7502912878990173}\n"
     ]
    },
    {
     "data": {
      "application/vnd.jupyter.widget-view+json": {
       "model_id": "31ee9fd2ef814a6b8d1426bda03e142e",
       "version_major": 2,
       "version_minor": 0
      },
      "text/plain": [
       "Evaluating:   0%|          | 0/39 [00:00<?, ?it/s]"
      ]
     },
     "metadata": {},
     "output_type": "display_data"
    },
    {
     "name": "stdout",
     "output_type": "stream",
     "text": [
      "Validation @ 71: {'loss': 0.33979794239955285, 'accuracy': 0.5592947602272034, 'baseline': 0.7359339594841003}\n"
     ]
    },
    {
     "data": {
      "application/vnd.jupyter.widget-view+json": {
       "model_id": "b726e6bb9d094a2cbf1146ba9d2bd63b",
       "version_major": 2,
       "version_minor": 0
      },
      "text/plain": [
       "Epoch 72:   0%|          | 0/363 [00:00<?, ?it/s]"
      ]
     },
     "metadata": {},
     "output_type": "display_data"
    },
    {
     "name": "stdout",
     "output_type": "stream",
     "text": [
      "Training @ 72: {'loss': 0.13253870156377615, 'accuracy': 0.8259422183036804, 'baseline': 0.7502912878990173}\n"
     ]
    },
    {
     "data": {
      "application/vnd.jupyter.widget-view+json": {
       "model_id": "bf64d49ca65a49938e58b0dd5aaf0ae5",
       "version_major": 2,
       "version_minor": 0
      },
      "text/plain": [
       "Evaluating:   0%|          | 0/39 [00:00<?, ?it/s]"
      ]
     },
     "metadata": {},
     "output_type": "display_data"
    },
    {
     "name": "stdout",
     "output_type": "stream",
     "text": [
      "Validation @ 72: {'loss': 0.3408387899001529, 'accuracy': 0.5587665438652039, 'baseline': 0.729319155216217}\n"
     ]
    },
    {
     "data": {
      "application/vnd.jupyter.widget-view+json": {
       "model_id": "c5cda6f7e9034534937a08afa3216136",
       "version_major": 2,
       "version_minor": 0
      },
      "text/plain": [
       "Epoch 73:   0%|          | 0/363 [00:00<?, ?it/s]"
      ]
     },
     "metadata": {},
     "output_type": "display_data"
    },
    {
     "name": "stdout",
     "output_type": "stream",
     "text": [
      "Training @ 73: {'loss': 0.1321588591280483, 'accuracy': 0.8266687393188477, 'baseline': 0.7502912878990173}\n"
     ]
    },
    {
     "data": {
      "application/vnd.jupyter.widget-view+json": {
       "model_id": "88887b7764854a76b813fb88de7944d1",
       "version_major": 2,
       "version_minor": 0
      },
      "text/plain": [
       "Evaluating:   0%|          | 0/39 [00:00<?, ?it/s]"
      ]
     },
     "metadata": {},
     "output_type": "display_data"
    },
    {
     "name": "stdout",
     "output_type": "stream",
     "text": [
      "Validation @ 73: {'loss': 0.34176971594624517, 'accuracy': 0.5582132339477539, 'baseline': 0.7357579469680786}\n"
     ]
    },
    {
     "data": {
      "application/vnd.jupyter.widget-view+json": {
       "model_id": "66acff36f2f74afea68ebc4ee72c3448",
       "version_major": 2,
       "version_minor": 0
      },
      "text/plain": [
       "Epoch 74:   0%|          | 0/363 [00:00<?, ?it/s]"
      ]
     },
     "metadata": {},
     "output_type": "display_data"
    },
    {
     "name": "stdout",
     "output_type": "stream",
     "text": [
      "Training @ 74: {'loss': 0.13179924734167878, 'accuracy': 0.8272876143455505, 'baseline': 0.7502912878990173}\n"
     ]
    },
    {
     "data": {
      "application/vnd.jupyter.widget-view+json": {
       "model_id": "5994eca5a03e4228b5836af5435dd93d",
       "version_major": 2,
       "version_minor": 0
      },
      "text/plain": [
       "Evaluating:   0%|          | 0/39 [00:00<?, ?it/s]"
      ]
     },
     "metadata": {},
     "output_type": "display_data"
    },
    {
     "name": "stdout",
     "output_type": "stream",
     "text": [
      "Validation @ 74: {'loss': 0.34263532585716816, 'accuracy': 0.5582132339477539, 'baseline': 0.7407882213592529}\n"
     ]
    },
    {
     "data": {
      "application/vnd.jupyter.widget-view+json": {
       "model_id": "982f354a911941d6b7bda7c83f9224b9",
       "version_major": 2,
       "version_minor": 0
      },
      "text/plain": [
       "Epoch 75:   0%|          | 0/363 [00:00<?, ?it/s]"
      ]
     },
     "metadata": {},
     "output_type": "display_data"
    },
    {
     "name": "stdout",
     "output_type": "stream",
     "text": [
      "Training @ 75: {'loss': 0.13144046108956703, 'accuracy': 0.8278176784515381, 'baseline': 0.7502912878990173}\n"
     ]
    },
    {
     "data": {
      "application/vnd.jupyter.widget-view+json": {
       "model_id": "9d8619ae44924e5dbb032b9f48e527c0",
       "version_major": 2,
       "version_minor": 0
      },
      "text/plain": [
       "Evaluating:   0%|          | 0/39 [00:00<?, ?it/s]"
      ]
     },
     "metadata": {},
     "output_type": "display_data"
    },
    {
     "name": "stdout",
     "output_type": "stream",
     "text": [
      "Validation @ 75: {'loss': 0.3434095798336844, 'accuracy': 0.5583893060684204, 'baseline': 0.7293694615364075}\n"
     ]
    },
    {
     "data": {
      "application/vnd.jupyter.widget-view+json": {
       "model_id": "9096471adac44e3e9d3678059529532b",
       "version_major": 2,
       "version_minor": 0
      },
      "text/plain": [
       "Epoch 76:   0%|          | 0/363 [00:00<?, ?it/s]"
      ]
     },
     "metadata": {},
     "output_type": "display_data"
    },
    {
     "name": "stdout",
     "output_type": "stream",
     "text": [
      "Training @ 76: {'loss': 0.13106459948830051, 'accuracy': 0.8286625742912292, 'baseline': 0.7502912878990173}\n"
     ]
    },
    {
     "data": {
      "application/vnd.jupyter.widget-view+json": {
       "model_id": "bc8ccc07b5664e0eb7a3dcddb6b083ba",
       "version_major": 2,
       "version_minor": 0
      },
      "text/plain": [
       "Evaluating:   0%|          | 0/39 [00:00<?, ?it/s]"
      ]
     },
     "metadata": {},
     "output_type": "display_data"
    },
    {
     "name": "stdout",
     "output_type": "stream",
     "text": [
      "Validation @ 76: {'loss': 0.3440730750527779, 'accuracy': 0.5586407780647278, 'baseline': 0.7302749156951904}\n"
     ]
    },
    {
     "data": {
      "application/vnd.jupyter.widget-view+json": {
       "model_id": "d9d2d40a85c94451a8aff0bbf46383f1",
       "version_major": 2,
       "version_minor": 0
      },
      "text/plain": [
       "Epoch 77:   0%|          | 0/363 [00:00<?, ?it/s]"
      ]
     },
     "metadata": {},
     "output_type": "display_data"
    },
    {
     "name": "stdout",
     "output_type": "stream",
     "text": [
      "Training @ 77: {'loss': 0.13066401788734092, 'accuracy': 0.8293702602386475, 'baseline': 0.7502912878990173}\n"
     ]
    },
    {
     "data": {
      "application/vnd.jupyter.widget-view+json": {
       "model_id": "dcf9035d981c4d9a8cd4514d89f431be",
       "version_major": 2,
       "version_minor": 0
      },
      "text/plain": [
       "Evaluating:   0%|          | 0/39 [00:00<?, ?it/s]"
      ]
     },
     "metadata": {},
     "output_type": "display_data"
    },
    {
     "name": "stdout",
     "output_type": "stream",
     "text": [
      "Validation @ 77: {'loss': 0.3446400041645743, 'accuracy': 0.5587665438652039, 'baseline': 0.7343745827674866}\n"
     ]
    },
    {
     "data": {
      "application/vnd.jupyter.widget-view+json": {
       "model_id": "4d0c5d17b639432784fab76228364aa9",
       "version_major": 2,
       "version_minor": 0
      },
      "text/plain": [
       "Epoch 78:   0%|          | 0/363 [00:00<?, ?it/s]"
      ]
     },
     "metadata": {},
     "output_type": "display_data"
    },
    {
     "name": "stdout",
     "output_type": "stream",
     "text": [
      "Training @ 78: {'loss': 0.1302505924535801, 'accuracy': 0.8303389549255371, 'baseline': 0.7502912878990173}\n"
     ]
    },
    {
     "data": {
      "application/vnd.jupyter.widget-view+json": {
       "model_id": "e18eba509ccc4850a1d58d3dae988222",
       "version_major": 2,
       "version_minor": 0
      },
      "text/plain": [
       "Evaluating:   0%|          | 0/39 [00:00<?, ?it/s]"
      ]
     },
     "metadata": {},
     "output_type": "display_data"
    },
    {
     "name": "stdout",
     "output_type": "stream",
     "text": [
      "Validation @ 78: {'loss': 0.3451423086991489, 'accuracy': 0.5589677691459656, 'baseline': 0.7425739765167236}\n"
     ]
    },
    {
     "data": {
      "application/vnd.jupyter.widget-view+json": {
       "model_id": "87e3ec76d82c4379a69b81fd731778eb",
       "version_major": 2,
       "version_minor": 0
      },
      "text/plain": [
       "Epoch 79:   0%|          | 0/363 [00:00<?, ?it/s]"
      ]
     },
     "metadata": {},
     "output_type": "display_data"
    },
    {
     "name": "stdout",
     "output_type": "stream",
     "text": [
      "Training @ 79: {'loss': 0.12984594513132705, 'accuracy': 0.8310493230819702, 'baseline': 0.7502912878990173}\n"
     ]
    },
    {
     "data": {
      "application/vnd.jupyter.widget-view+json": {
       "model_id": "fb43be3b81984ed28c3c6f427bd3ae92",
       "version_major": 2,
       "version_minor": 0
      },
      "text/plain": [
       "Evaluating:   0%|          | 0/39 [00:00<?, ?it/s]"
      ]
     },
     "metadata": {},
     "output_type": "display_data"
    },
    {
     "name": "stdout",
     "output_type": "stream",
     "text": [
      "Validation @ 79: {'loss': 0.34558179349186174, 'accuracy': 0.560049295425415, 'baseline': 0.7373173236846924}\n"
     ]
    },
    {
     "data": {
      "application/vnd.jupyter.widget-view+json": {
       "model_id": "456f8b8e112444a48d61c0c204321821",
       "version_major": 2,
       "version_minor": 0
      },
      "text/plain": [
       "Epoch 80:   0%|          | 0/363 [00:00<?, ?it/s]"
      ]
     },
     "metadata": {},
     "output_type": "display_data"
    },
    {
     "name": "stdout",
     "output_type": "stream",
     "text": [
      "Training @ 80: {'loss': 0.12947003638515714, 'accuracy': 0.8318511247634888, 'baseline': 0.7502912878990173}\n"
     ]
    },
    {
     "data": {
      "application/vnd.jupyter.widget-view+json": {
       "model_id": "8066a844b6ab4a29bb6c9df73d0684f4",
       "version_major": 2,
       "version_minor": 0
      },
      "text/plain": [
       "Evaluating:   0%|          | 0/39 [00:00<?, ?it/s]"
      ]
     },
     "metadata": {},
     "output_type": "display_data"
    },
    {
     "name": "stdout",
     "output_type": "stream",
     "text": [
      "Validation @ 80: {'loss': 0.34595505167155344, 'accuracy': 0.5611308217048645, 'baseline': 0.7339218854904175}\n"
     ]
    },
    {
     "data": {
      "application/vnd.jupyter.widget-view+json": {
       "model_id": "7aa0a7712a394ca69512835212fe66d1",
       "version_major": 2,
       "version_minor": 0
      },
      "text/plain": [
       "Epoch 81:   0%|          | 0/363 [00:00<?, ?it/s]"
      ]
     },
     "metadata": {},
     "output_type": "display_data"
    },
    {
     "name": "stdout",
     "output_type": "stream",
     "text": [
      "Training @ 81: {'loss': 0.12913395338544256, 'accuracy': 0.8325319290161133, 'baseline': 0.7502912878990173}\n"
     ]
    },
    {
     "data": {
      "application/vnd.jupyter.widget-view+json": {
       "model_id": "b969bbbc7e2d44c5afe5654663a6573a",
       "version_major": 2,
       "version_minor": 0
      },
      "text/plain": [
       "Evaluating:   0%|          | 0/39 [00:00<?, ?it/s]"
      ]
     },
     "metadata": {},
     "output_type": "display_data"
    },
    {
     "name": "stdout",
     "output_type": "stream",
     "text": [
      "Validation @ 81: {'loss': 0.3462901391253307, 'accuracy': 0.5618853569030762, 'baseline': 0.7369400262832642}\n"
     ]
    },
    {
     "data": {
      "application/vnd.jupyter.widget-view+json": {
       "model_id": "cd442d3285ec4173b7a16dc70fe2c555",
       "version_major": 2,
       "version_minor": 0
      },
      "text/plain": [
       "Epoch 82:   0%|          | 0/363 [00:00<?, ?it/s]"
      ]
     },
     "metadata": {},
     "output_type": "display_data"
    },
    {
     "name": "stdout",
     "output_type": "stream",
     "text": [
      "Training @ 82: {'loss': 0.12883708581435568, 'accuracy': 0.8329866528511047, 'baseline': 0.7502912878990173}\n"
     ]
    },
    {
     "data": {
      "application/vnd.jupyter.widget-view+json": {
       "model_id": "334e2fa04ed54341a935e751d0b6b2b1",
       "version_major": 2,
       "version_minor": 0
      },
      "text/plain": [
       "Evaluating:   0%|          | 0/39 [00:00<?, ?it/s]"
      ]
     },
     "metadata": {},
     "output_type": "display_data"
    },
    {
     "name": "stdout",
     "output_type": "stream",
     "text": [
      "Validation @ 82: {'loss': 0.34659494957158965, 'accuracy': 0.5620614290237427, 'baseline': 0.7365627884864807}\n"
     ]
    },
    {
     "data": {
      "application/vnd.jupyter.widget-view+json": {
       "model_id": "1ca8309b94a24eb494aa64e5735e21fb",
       "version_major": 2,
       "version_minor": 0
      },
      "text/plain": [
       "Epoch 83:   0%|          | 0/363 [00:00<?, ?it/s]"
      ]
     },
     "metadata": {},
     "output_type": "display_data"
    },
    {
     "name": "stdout",
     "output_type": "stream",
     "text": [
      "Training @ 83: {'loss': 0.12857810829107091, 'accuracy': 0.8336055278778076, 'baseline': 0.7502912878990173}\n"
     ]
    },
    {
     "data": {
      "application/vnd.jupyter.widget-view+json": {
       "model_id": "cf19f094d3dd4bfbaa83e7ac72d9fcf4",
       "version_major": 2,
       "version_minor": 0
      },
      "text/plain": [
       "Evaluating:   0%|          | 0/39 [00:00<?, ?it/s]"
      ]
     },
     "metadata": {},
     "output_type": "display_data"
    },
    {
     "name": "stdout",
     "output_type": "stream",
     "text": [
      "Validation @ 83: {'loss': 0.3468148628041617, 'accuracy': 0.562212347984314, 'baseline': 0.7350034117698669}\n"
     ]
    },
    {
     "data": {
      "application/vnd.jupyter.widget-view+json": {
       "model_id": "939ad34935e14c2bacb0a5f4f30700ea",
       "version_major": 2,
       "version_minor": 0
      },
      "text/plain": [
       "Epoch 84:   0%|          | 0/363 [00:00<?, ?it/s]"
      ]
     },
     "metadata": {},
     "output_type": "display_data"
    },
    {
     "name": "stdout",
     "output_type": "stream",
     "text": [
      "Training @ 84: {'loss': 0.12836803243069286, 'accuracy': 0.8340252637863159, 'baseline': 0.7502912878990173}\n"
     ]
    },
    {
     "data": {
      "application/vnd.jupyter.widget-view+json": {
       "model_id": "93ed39ee540e4eb99c74b36af2553449",
       "version_major": 2,
       "version_minor": 0
      },
      "text/plain": [
       "Evaluating:   0%|          | 0/39 [00:00<?, ?it/s]"
      ]
     },
     "metadata": {},
     "output_type": "display_data"
    },
    {
     "name": "stdout",
     "output_type": "stream",
     "text": [
      "Validation @ 84: {'loss': 0.3468216358416007, 'accuracy': 0.5631178021430969, 'baseline': 0.7320355176925659}\n"
     ]
    },
    {
     "data": {
      "application/vnd.jupyter.widget-view+json": {
       "model_id": "531f62b11cd942378e807f861f70149d",
       "version_major": 2,
       "version_minor": 0
      },
      "text/plain": [
       "Epoch 85:   0%|          | 0/363 [00:00<?, ?it/s]"
      ]
     },
     "metadata": {},
     "output_type": "display_data"
    },
    {
     "name": "stdout",
     "output_type": "stream",
     "text": [
      "Training @ 85: {'loss': 0.12822662594643863, 'accuracy': 0.8342405557632446, 'baseline': 0.7502912878990173}\n"
     ]
    },
    {
     "data": {
      "application/vnd.jupyter.widget-view+json": {
       "model_id": "e166634602da42f593cbeb732768f0c0",
       "version_major": 2,
       "version_minor": 0
      },
      "text/plain": [
       "Evaluating:   0%|          | 0/39 [00:00<?, ?it/s]"
      ]
     },
     "metadata": {},
     "output_type": "display_data"
    },
    {
     "name": "stdout",
     "output_type": "stream",
     "text": [
      "Validation @ 85: {'loss': 0.3463880951891375, 'accuracy': 0.5635453462600708, 'baseline': 0.729872465133667}\n"
     ]
    },
    {
     "data": {
      "application/vnd.jupyter.widget-view+json": {
       "model_id": "558649d305844b949d87498247123f77",
       "version_major": 2,
       "version_minor": 0
      },
      "text/plain": [
       "Epoch 86:   0%|          | 0/363 [00:00<?, ?it/s]"
      ]
     },
     "metadata": {},
     "output_type": "display_data"
    },
    {
     "name": "stdout",
     "output_type": "stream",
     "text": [
      "Training @ 86: {'loss': 0.12817633543910267, 'accuracy': 0.8343831896781921, 'baseline': 0.7502912878990173}\n"
     ]
    },
    {
     "data": {
      "application/vnd.jupyter.widget-view+json": {
       "model_id": "899f9625cd5140c79dd7e07d596426de",
       "version_major": 2,
       "version_minor": 0
      },
      "text/plain": [
       "Evaluating:   0%|          | 0/39 [00:00<?, ?it/s]"
      ]
     },
     "metadata": {},
     "output_type": "display_data"
    },
    {
     "name": "stdout",
     "output_type": "stream",
     "text": [
      "Validation @ 86: {'loss': 0.3452465795496795, 'accuracy': 0.5647274851799011, 'baseline': 0.7331924438476562}\n"
     ]
    },
    {
     "data": {
      "application/vnd.jupyter.widget-view+json": {
       "model_id": "979bea2df77340e4b8b87a2a65114aa7",
       "version_major": 2,
       "version_minor": 0
      },
      "text/plain": [
       "Epoch 87:   0%|          | 0/363 [00:00<?, ?it/s]"
      ]
     },
     "metadata": {},
     "output_type": "display_data"
    },
    {
     "name": "stdout",
     "output_type": "stream",
     "text": [
      "Training @ 87: {'loss': 0.12823408330892214, 'accuracy': 0.8341732621192932, 'baseline': 0.7502912878990173}\n"
     ]
    },
    {
     "data": {
      "application/vnd.jupyter.widget-view+json": {
       "model_id": "3dc0d06d9f78440cb15fe64a7907abd8",
       "version_major": 2,
       "version_minor": 0
      },
      "text/plain": [
       "Evaluating:   0%|          | 0/39 [00:00<?, ?it/s]"
      ]
     },
     "metadata": {},
     "output_type": "display_data"
    },
    {
     "name": "stdout",
     "output_type": "stream",
     "text": [
      "Validation @ 87: {'loss': 0.34318295643121477, 'accuracy': 0.5671168565750122, 'baseline': 0.7086194157600403}\n"
     ]
    },
    {
     "data": {
      "application/vnd.jupyter.widget-view+json": {
       "model_id": "329966b8a0d44220b361f5e5d9cc7517",
       "version_major": 2,
       "version_minor": 0
      },
      "text/plain": [
       "Epoch 88:   0%|          | 0/363 [00:00<?, ?it/s]"
      ]
     },
     "metadata": {},
     "output_type": "display_data"
    },
    {
     "name": "stdout",
     "output_type": "stream",
     "text": [
      "Training @ 88: {'loss': 0.12851284262787357, 'accuracy': 0.8335517048835754, 'baseline': 0.7502912878990173}\n"
     ]
    },
    {
     "data": {
      "application/vnd.jupyter.widget-view+json": {
       "model_id": "02951a265dd24811b39a2df7c3eb058f",
       "version_major": 2,
       "version_minor": 0
      },
      "text/plain": [
       "Evaluating:   0%|          | 0/39 [00:00<?, ?it/s]"
      ]
     },
     "metadata": {},
     "output_type": "display_data"
    },
    {
     "name": "stdout",
     "output_type": "stream",
     "text": [
      "Validation @ 88: {'loss': 0.3394080496884654, 'accuracy': 0.5696823000907898, 'baseline': 0.7312809824943542}\n"
     ]
    },
    {
     "data": {
      "application/vnd.jupyter.widget-view+json": {
       "model_id": "a51987a1e2004e948f37e5a462bc9bba",
       "version_major": 2,
       "version_minor": 0
      },
      "text/plain": [
       "Epoch 89:   0%|          | 0/363 [00:00<?, ?it/s]"
      ]
     },
     "metadata": {},
     "output_type": "display_data"
    },
    {
     "name": "stdout",
     "output_type": "stream",
     "text": [
      "Training @ 89: {'loss': 0.12908017388304566, 'accuracy': 0.8322762846946716, 'baseline': 0.7502912878990173}\n"
     ]
    },
    {
     "data": {
      "application/vnd.jupyter.widget-view+json": {
       "model_id": "dd0a2d99d4d4492ebeabe8898aa96f92",
       "version_major": 2,
       "version_minor": 0
      },
      "text/plain": [
       "Evaluating:   0%|          | 0/39 [00:00<?, ?it/s]"
      ]
     },
     "metadata": {},
     "output_type": "display_data"
    },
    {
     "name": "stdout",
     "output_type": "stream",
     "text": [
      "Validation @ 89: {'loss': 0.3338564458982713, 'accuracy': 0.5737568736076355, 'baseline': 0.7306270003318787}\n"
     ]
    },
    {
     "data": {
      "application/vnd.jupyter.widget-view+json": {
       "model_id": "789b16b63da94e5190b059b25851bfb7",
       "version_major": 2,
       "version_minor": 0
      },
      "text/plain": [
       "Epoch 90:   0%|          | 0/363 [00:00<?, ?it/s]"
      ]
     },
     "metadata": {},
     "output_type": "display_data"
    },
    {
     "name": "stdout",
     "output_type": "stream",
     "text": [
      "Training @ 90: {'loss': 0.1289201628181546, 'accuracy': 0.8322224617004395, 'baseline': 0.7502912878990173}\n"
     ]
    },
    {
     "data": {
      "application/vnd.jupyter.widget-view+json": {
       "model_id": "444da0ad6fe541c0bb8c783c6ddb0bc9",
       "version_major": 2,
       "version_minor": 0
      },
      "text/plain": [
       "Evaluating:   0%|          | 0/39 [00:00<?, ?it/s]"
      ]
     },
     "metadata": {},
     "output_type": "display_data"
    },
    {
     "name": "stdout",
     "output_type": "stream",
     "text": [
      "Validation @ 90: {'loss': 0.33280220902728563, 'accuracy': 0.5747880935668945, 'baseline': 0.7352800369262695}\n"
     ]
    },
    {
     "data": {
      "application/vnd.jupyter.widget-view+json": {
       "model_id": "15e5ab29079b4b0491862eac089bd777",
       "version_major": 2,
       "version_minor": 0
      },
      "text/plain": [
       "Epoch 91:   0%|          | 0/363 [00:00<?, ?it/s]"
      ]
     },
     "metadata": {},
     "output_type": "display_data"
    },
    {
     "name": "stdout",
     "output_type": "stream",
     "text": [
      "Training @ 91: {'loss': 0.1284332105764272, 'accuracy': 0.8331723213195801, 'baseline': 0.7502912878990173}\n"
     ]
    },
    {
     "data": {
      "application/vnd.jupyter.widget-view+json": {
       "model_id": "1da755c4fb9e4fbeb33ccc5a5db70d98",
       "version_major": 2,
       "version_minor": 0
      },
      "text/plain": [
       "Evaluating:   0%|          | 0/39 [00:00<?, ?it/s]"
      ]
     },
     "metadata": {},
     "output_type": "display_data"
    },
    {
     "name": "stdout",
     "output_type": "stream",
     "text": [
      "Validation @ 91: {'loss': 0.3339483680655597, 'accuracy': 0.5734801888465881, 'baseline': 0.7231569886207581}\n"
     ]
    },
    {
     "data": {
      "application/vnd.jupyter.widget-view+json": {
       "model_id": "2808b53557c94fe386d1aa23d4edb6a3",
       "version_major": 2,
       "version_minor": 0
      },
      "text/plain": [
       "Epoch 92:   0%|          | 0/363 [00:00<?, ?it/s]"
      ]
     },
     "metadata": {},
     "output_type": "display_data"
    },
    {
     "name": "stdout",
     "output_type": "stream",
     "text": [
      "Training @ 92: {'loss': 0.12804795567473354, 'accuracy': 0.8338853716850281, 'baseline': 0.7502912878990173}\n"
     ]
    },
    {
     "data": {
      "application/vnd.jupyter.widget-view+json": {
       "model_id": "b90eeb4d21bd424eb837f0fe228d2394",
       "version_major": 2,
       "version_minor": 0
      },
      "text/plain": [
       "Evaluating:   0%|          | 0/39 [00:00<?, ?it/s]"
      ]
     },
     "metadata": {},
     "output_type": "display_data"
    },
    {
     "name": "stdout",
     "output_type": "stream",
     "text": [
      "Validation @ 92: {'loss': 0.3367149310776842, 'accuracy': 0.5704620480537415, 'baseline': 0.7286400198936462}\n"
     ]
    },
    {
     "data": {
      "application/vnd.jupyter.widget-view+json": {
       "model_id": "4b51190b64774eab8e6fafa0c7284b56",
       "version_major": 2,
       "version_minor": 0
      },
      "text/plain": [
       "Epoch 93:   0%|          | 0/363 [00:00<?, ?it/s]"
      ]
     },
     "metadata": {},
     "output_type": "display_data"
    },
    {
     "name": "stdout",
     "output_type": "stream",
     "text": [
      "Training @ 93: {'loss': 0.12759986379887986, 'accuracy': 0.8348782658576965, 'baseline': 0.7502912878990173}\n"
     ]
    },
    {
     "data": {
      "application/vnd.jupyter.widget-view+json": {
       "model_id": "f2c4058a915948608925d31b3e9a6b5c",
       "version_major": 2,
       "version_minor": 0
      },
      "text/plain": [
       "Evaluating:   0%|          | 0/39 [00:00<?, ?it/s]"
      ]
     },
     "metadata": {},
     "output_type": "display_data"
    },
    {
     "name": "stdout",
     "output_type": "stream",
     "text": [
      "Validation @ 93: {'loss': 0.34003257005188725, 'accuracy': 0.5692296028137207, 'baseline': 0.7279609441757202}\n"
     ]
    },
    {
     "data": {
      "application/vnd.jupyter.widget-view+json": {
       "model_id": "b42bf2d82cb04e0cbe4278e670a08730",
       "version_major": 2,
       "version_minor": 0
      },
      "text/plain": [
       "Epoch 94:   0%|          | 0/363 [00:00<?, ?it/s]"
      ]
     },
     "metadata": {},
     "output_type": "display_data"
    },
    {
     "name": "stdout",
     "output_type": "stream",
     "text": [
      "Training @ 94: {'loss': 0.12705361356581352, 'accuracy': 0.8357796669006348, 'baseline': 0.7502912878990173}\n"
     ]
    },
    {
     "data": {
      "application/vnd.jupyter.widget-view+json": {
       "model_id": "b0d5c1ee655d4e2998b0c12cae7767d1",
       "version_major": 2,
       "version_minor": 0
      },
      "text/plain": [
       "Evaluating:   0%|          | 0/39 [00:00<?, ?it/s]"
      ]
     },
     "metadata": {},
     "output_type": "display_data"
    },
    {
     "name": "stdout",
     "output_type": "stream",
     "text": [
      "Validation @ 94: {'loss': 0.3427230850157806, 'accuracy': 0.5665132403373718, 'baseline': 0.7372167110443115}\n"
     ]
    },
    {
     "data": {
      "application/vnd.jupyter.widget-view+json": {
       "model_id": "175c259261e041819b150dc62c987e60",
       "version_major": 2,
       "version_minor": 0
      },
      "text/plain": [
       "Epoch 95:   0%|          | 0/363 [00:00<?, ?it/s]"
      ]
     },
     "metadata": {},
     "output_type": "display_data"
    },
    {
     "name": "stdout",
     "output_type": "stream",
     "text": [
      "Training @ 95: {'loss': 0.12642605619120287, 'accuracy': 0.8370927572250366, 'baseline': 0.7502912878990173}\n"
     ]
    },
    {
     "data": {
      "application/vnd.jupyter.widget-view+json": {
       "model_id": "27a838be16834c6cb62ace69e94d3ce2",
       "version_major": 2,
       "version_minor": 0
      },
      "text/plain": [
       "Evaluating:   0%|          | 0/39 [00:00<?, ?it/s]"
      ]
     },
     "metadata": {},
     "output_type": "display_data"
    },
    {
     "name": "stdout",
     "output_type": "stream",
     "text": [
      "Validation @ 95: {'loss': 0.3445276153200352, 'accuracy': 0.5648784041404724, 'baseline': 0.7212706208229065}\n"
     ]
    },
    {
     "data": {
      "application/vnd.jupyter.widget-view+json": {
       "model_id": "281f84f64b6a485e8cdcc33750bb7df1",
       "version_major": 2,
       "version_minor": 0
      },
      "text/plain": [
       "Epoch 96:   0%|          | 0/363 [00:00<?, ?it/s]"
      ]
     },
     "metadata": {},
     "output_type": "display_data"
    },
    {
     "name": "stdout",
     "output_type": "stream",
     "text": [
      "Training @ 96: {'loss': 0.12577076546599247, 'accuracy': 0.8385269641876221, 'baseline': 0.7502912878990173}\n"
     ]
    },
    {
     "data": {
      "application/vnd.jupyter.widget-view+json": {
       "model_id": "50b3b5eddfe344378ea4cc7e37b2e9e1",
       "version_major": 2,
       "version_minor": 0
      },
      "text/plain": [
       "Evaluating:   0%|          | 0/39 [00:00<?, ?it/s]"
      ]
     },
     "metadata": {},
     "output_type": "display_data"
    },
    {
     "name": "stdout",
     "output_type": "stream",
     "text": [
      "Validation @ 96: {'loss': 0.3457806012067922, 'accuracy': 0.5642747282981873, 'baseline': 0.7277345657348633}\n"
     ]
    },
    {
     "data": {
      "application/vnd.jupyter.widget-view+json": {
       "model_id": "fc4563709ef445f6881c065382a90ff9",
       "version_major": 2,
       "version_minor": 0
      },
      "text/plain": [
       "Epoch 97:   0%|          | 0/363 [00:00<?, ?it/s]"
      ]
     },
     "metadata": {},
     "output_type": "display_data"
    },
    {
     "name": "stdout",
     "output_type": "stream",
     "text": [
      "Training @ 97: {'loss': 0.12512896353495384, 'accuracy': 0.8397727608680725, 'baseline': 0.7502912878990173}\n"
     ]
    },
    {
     "data": {
      "application/vnd.jupyter.widget-view+json": {
       "model_id": "ed84b157099649e2912dd1c1f7668a10",
       "version_major": 2,
       "version_minor": 0
      },
      "text/plain": [
       "Evaluating:   0%|          | 0/39 [00:00<?, ?it/s]"
      ]
     },
     "metadata": {},
     "output_type": "display_data"
    },
    {
     "name": "stdout",
     "output_type": "stream",
     "text": [
      "Validation @ 97: {'loss': 0.3468122287005731, 'accuracy': 0.5643753409385681, 'baseline': 0.7316833734512329}\n"
     ]
    },
    {
     "data": {
      "application/vnd.jupyter.widget-view+json": {
       "model_id": "cf43255f108c4c199f9791c0195a0ea8",
       "version_major": 2,
       "version_minor": 0
      },
      "text/plain": [
       "Epoch 98:   0%|          | 0/363 [00:00<?, ?it/s]"
      ]
     },
     "metadata": {},
     "output_type": "display_data"
    },
    {
     "name": "stdout",
     "output_type": "stream",
     "text": [
      "Training @ 98: {'loss': 0.12449398233464423, 'accuracy': 0.8410078287124634, 'baseline': 0.7502912878990173}\n"
     ]
    },
    {
     "data": {
      "application/vnd.jupyter.widget-view+json": {
       "model_id": "2207fd40dfd044b1bd993000602361e1",
       "version_major": 2,
       "version_minor": 0
      },
      "text/plain": [
       "Evaluating:   0%|          | 0/39 [00:00<?, ?it/s]"
      ]
     },
     "metadata": {},
     "output_type": "display_data"
    },
    {
     "name": "stdout",
     "output_type": "stream",
     "text": [
      "Validation @ 98: {'loss': 0.3477252017216692, 'accuracy': 0.5642747282981873, 'baseline': 0.7338464260101318}\n"
     ]
    },
    {
     "data": {
      "application/vnd.jupyter.widget-view+json": {
       "model_id": "d4ad620a678248c6bcddfdd7be73644d",
       "version_major": 2,
       "version_minor": 0
      },
      "text/plain": [
       "Epoch 99:   0%|          | 0/363 [00:00<?, ?it/s]"
      ]
     },
     "metadata": {},
     "output_type": "display_data"
    },
    {
     "name": "stdout",
     "output_type": "stream",
     "text": [
      "Training @ 99: {'loss': 0.12386176297429272, 'accuracy': 0.8423155546188354, 'baseline': 0.7502912878990173}\n"
     ]
    },
    {
     "data": {
      "application/vnd.jupyter.widget-view+json": {
       "model_id": "d1414820daa748dab89a0c1e9b2ae5df",
       "version_major": 2,
       "version_minor": 0
      },
      "text/plain": [
       "Evaluating:   0%|          | 0/39 [00:00<?, ?it/s]"
      ]
     },
     "metadata": {},
     "output_type": "display_data"
    },
    {
     "name": "stdout",
     "output_type": "stream",
     "text": [
      "Validation @ 99: {'loss': 0.3485706504195889, 'accuracy': 0.563922643661499, 'baseline': 0.7288663983345032}\n"
     ]
    },
    {
     "data": {
      "application/vnd.jupyter.widget-view+json": {
       "model_id": "8947833ae675485ca35d6506732be8cf",
       "version_major": 2,
       "version_minor": 0
      },
      "text/plain": [
       "Epoch 100:   0%|          | 0/363 [00:00<?, ?it/s]"
      ]
     },
     "metadata": {},
     "output_type": "display_data"
    },
    {
     "name": "stdout",
     "output_type": "stream",
     "text": [
      "Training @ 100: {'loss': 0.12322899031950514, 'accuracy': 0.8437013030052185, 'baseline': 0.7502912878990173}\n"
     ]
    },
    {
     "data": {
      "application/vnd.jupyter.widget-view+json": {
       "model_id": "a984f6457a784dbe86af3fbfad16d652",
       "version_major": 2,
       "version_minor": 0
      },
      "text/plain": [
       "Evaluating:   0%|          | 0/39 [00:00<?, ?it/s]"
      ]
     },
     "metadata": {},
     "output_type": "display_data"
    },
    {
     "name": "stdout",
     "output_type": "stream",
     "text": [
      "Validation @ 100: {'loss': 0.3494546292635237, 'accuracy': 0.5641741156578064, 'baseline': 0.7319852113723755}\n"
     ]
    },
    {
     "data": {
      "application/vnd.jupyter.widget-view+json": {
       "model_id": "93eda928e27b4d9aabf4e2d412081f96",
       "version_major": 2,
       "version_minor": 0
      },
      "text/plain": [
       "Epoch 101:   0%|          | 0/363 [00:00<?, ?it/s]"
      ]
     },
     "metadata": {},
     "output_type": "display_data"
    },
    {
     "name": "stdout",
     "output_type": "stream",
     "text": [
      "Training @ 101: {'loss': 0.12259536230552345, 'accuracy': 0.8449578881263733, 'baseline': 0.7502912878990173}\n"
     ]
    },
    {
     "data": {
      "application/vnd.jupyter.widget-view+json": {
       "model_id": "06cf982bc5604675930f3ad3580fbde4",
       "version_major": 2,
       "version_minor": 0
      },
      "text/plain": [
       "Evaluating:   0%|          | 0/39 [00:00<?, ?it/s]"
      ]
     },
     "metadata": {},
     "output_type": "display_data"
    },
    {
     "name": "stdout",
     "output_type": "stream",
     "text": [
      "Validation @ 101: {'loss': 0.3501093758253232, 'accuracy': 0.5640484094619751, 'baseline': 0.7422721982002258}\n"
     ]
    },
    {
     "data": {
      "application/vnd.jupyter.widget-view+json": {
       "model_id": "84da79f27c39459c81f9a37cf7d4d82b",
       "version_major": 2,
       "version_minor": 0
      },
      "text/plain": [
       "Epoch 102:   0%|          | 0/363 [00:00<?, ?it/s]"
      ]
     },
     "metadata": {},
     "output_type": "display_data"
    },
    {
     "name": "stdout",
     "output_type": "stream",
     "text": [
      "Training @ 102: {'loss': 0.12197564829365867, 'accuracy': 0.8460584282875061, 'baseline': 0.7502912878990173}\n"
     ]
    },
    {
     "data": {
      "application/vnd.jupyter.widget-view+json": {
       "model_id": "d9b1f80600aa492087aac0a463ee6549",
       "version_major": 2,
       "version_minor": 0
      },
      "text/plain": [
       "Evaluating:   0%|          | 0/39 [00:00<?, ?it/s]"
      ]
     },
     "metadata": {},
     "output_type": "display_data"
    },
    {
     "name": "stdout",
     "output_type": "stream",
     "text": [
      "Validation @ 102: {'loss': 0.35085449060904655, 'accuracy': 0.5645011067390442, 'baseline': 0.7366634011268616}\n"
     ]
    },
    {
     "data": {
      "application/vnd.jupyter.widget-view+json": {
       "model_id": "4cbfe185f9aa4c45bb7048008eac7567",
       "version_major": 2,
       "version_minor": 0
      },
      "text/plain": [
       "Epoch 103:   0%|          | 0/363 [00:00<?, ?it/s]"
      ]
     },
     "metadata": {},
     "output_type": "display_data"
    },
    {
     "name": "stdout",
     "output_type": "stream",
     "text": [
      "Training @ 103: {'loss': 0.12137724504631663, 'accuracy': 0.8473660945892334, 'baseline': 0.7502912878990173}\n"
     ]
    },
    {
     "data": {
      "application/vnd.jupyter.widget-view+json": {
       "model_id": "c13f7f70dfb44952bcbcb2ddf6d4aafa",
       "version_major": 2,
       "version_minor": 0
      },
      "text/plain": [
       "Evaluating:   0%|          | 0/39 [00:00<?, ?it/s]"
      ]
     },
     "metadata": {},
     "output_type": "display_data"
    },
    {
     "name": "stdout",
     "output_type": "stream",
     "text": [
      "Validation @ 103: {'loss': 0.3516760608495944, 'accuracy': 0.564249575138092, 'baseline': 0.7327145934104919}\n"
     ]
    },
    {
     "data": {
      "application/vnd.jupyter.widget-view+json": {
       "model_id": "6b70dfaed831438db182f7fbcb28e77f",
       "version_major": 2,
       "version_minor": 0
      },
      "text/plain": [
       "Epoch 104:   0%|          | 0/363 [00:00<?, ?it/s]"
      ]
     },
     "metadata": {},
     "output_type": "display_data"
    },
    {
     "name": "stdout",
     "output_type": "stream",
     "text": [
      "Training @ 104: {'loss': 0.12080900372939121, 'accuracy': 0.8483805656433105, 'baseline': 0.7502912878990173}\n"
     ]
    },
    {
     "data": {
      "application/vnd.jupyter.widget-view+json": {
       "model_id": "e8b6ef1a26694c1b893b02e04723c802",
       "version_major": 2,
       "version_minor": 0
      },
      "text/plain": [
       "Evaluating:   0%|          | 0/39 [00:00<?, ?it/s]"
      ]
     },
     "metadata": {},
     "output_type": "display_data"
    },
    {
     "name": "stdout",
     "output_type": "stream",
     "text": [
      "Validation @ 104: {'loss': 0.3525929785456293, 'accuracy': 0.5641992688179016, 'baseline': 0.7342991232872009}\n"
     ]
    },
    {
     "data": {
      "application/vnd.jupyter.widget-view+json": {
       "model_id": "fdb790d4ede344b5bc8ab8807df4c501",
       "version_major": 2,
       "version_minor": 0
      },
      "text/plain": [
       "Epoch 105:   0%|          | 0/363 [00:00<?, ?it/s]"
      ]
     },
     "metadata": {},
     "output_type": "display_data"
    },
    {
     "name": "stdout",
     "output_type": "stream",
     "text": [
      "Training @ 105: {'loss': 0.12027700287286296, 'accuracy': 0.849470317363739, 'baseline': 0.7502912878990173}\n"
     ]
    },
    {
     "data": {
      "application/vnd.jupyter.widget-view+json": {
       "model_id": "2853d982c12049c8a29760e16f20e673",
       "version_major": 2,
       "version_minor": 0
      },
      "text/plain": [
       "Evaluating:   0%|          | 0/39 [00:00<?, ?it/s]"
      ]
     },
     "metadata": {},
     "output_type": "display_data"
    },
    {
     "name": "stdout",
     "output_type": "stream",
     "text": [
      "Validation @ 105: {'loss': 0.35354659471006566, 'accuracy': 0.564249575138092, 'baseline': 0.7308785319328308}\n"
     ]
    },
    {
     "data": {
      "application/vnd.jupyter.widget-view+json": {
       "model_id": "5c7a92fd86d44b13b4ac9a0c179a899d",
       "version_major": 2,
       "version_minor": 0
      },
      "text/plain": [
       "Epoch 106:   0%|          | 0/363 [00:00<?, ?it/s]"
      ]
     },
     "metadata": {},
     "output_type": "display_data"
    },
    {
     "name": "stdout",
     "output_type": "stream",
     "text": [
      "Training @ 106: {'loss': 0.11978494686899388, 'accuracy': 0.8504524230957031, 'baseline': 0.7502912878990173}\n"
     ]
    },
    {
     "data": {
      "application/vnd.jupyter.widget-view+json": {
       "model_id": "316a039a5e9e4b5c96cd69efd5b7df36",
       "version_major": 2,
       "version_minor": 0
      },
      "text/plain": [
       "Evaluating:   0%|          | 0/39 [00:00<?, ?it/s]"
      ]
     },
     "metadata": {},
     "output_type": "display_data"
    },
    {
     "name": "stdout",
     "output_type": "stream",
     "text": [
      "Validation @ 106: {'loss': 0.354463972980496, 'accuracy': 0.5642998814582825, 'baseline': 0.7339218854904175}\n"
     ]
    },
    {
     "data": {
      "application/vnd.jupyter.widget-view+json": {
       "model_id": "5b352d6ae71b405285e2808c76a543f0",
       "version_major": 2,
       "version_minor": 0
      },
      "text/plain": [
       "Epoch 107:   0%|          | 0/363 [00:00<?, ?it/s]"
      ]
     },
     "metadata": {},
     "output_type": "display_data"
    },
    {
     "name": "stdout",
     "output_type": "stream",
     "text": [
      "Training @ 107: {'loss': 0.11933373849110325, 'accuracy': 0.8514022827148438, 'baseline': 0.7502912878990173}\n"
     ]
    },
    {
     "data": {
      "application/vnd.jupyter.widget-view+json": {
       "model_id": "5194bef62fd84e70aafdaeb50b663221",
       "version_major": 2,
       "version_minor": 0
      },
      "text/plain": [
       "Evaluating:   0%|          | 0/39 [00:00<?, ?it/s]"
      ]
     },
     "metadata": {},
     "output_type": "display_data"
    },
    {
     "name": "stdout",
     "output_type": "stream",
     "text": [
      "Validation @ 107: {'loss': 0.3553276425802587, 'accuracy': 0.5638220310211182, 'baseline': 0.7343494296073914}\n"
     ]
    },
    {
     "data": {
      "application/vnd.jupyter.widget-view+json": {
       "model_id": "325206b8d1654ecaa7a08201d30ff551",
       "version_major": 2,
       "version_minor": 0
      },
      "text/plain": [
       "Epoch 108:   0%|          | 0/363 [00:00<?, ?it/s]"
      ]
     },
     "metadata": {},
     "output_type": "display_data"
    },
    {
     "name": "stdout",
     "output_type": "stream",
     "text": [
      "Training @ 108: {'loss': 0.11892308657062724, 'accuracy': 0.8523117303848267, 'baseline': 0.7502912878990173}\n"
     ]
    },
    {
     "data": {
      "application/vnd.jupyter.widget-view+json": {
       "model_id": "6e0c9d74d69a4b8b9914c04f0f66135c",
       "version_major": 2,
       "version_minor": 0
      },
      "text/plain": [
       "Evaluating:   0%|          | 0/39 [00:00<?, ?it/s]"
      ]
     },
     "metadata": {},
     "output_type": "display_data"
    },
    {
     "name": "stdout",
     "output_type": "stream",
     "text": [
      "Validation @ 108: {'loss': 0.3561654070290543, 'accuracy': 0.5638220310211182, 'baseline': 0.7258733510971069}\n"
     ]
    },
    {
     "data": {
      "application/vnd.jupyter.widget-view+json": {
       "model_id": "b2847bb5ec51460ab57e71fa6dfa60fc",
       "version_major": 2,
       "version_minor": 0
      },
      "text/plain": [
       "Epoch 109:   0%|          | 0/363 [00:00<?, ?it/s]"
      ]
     },
     "metadata": {},
     "output_type": "display_data"
    },
    {
     "name": "stdout",
     "output_type": "stream",
     "text": [
      "Training @ 109: {'loss': 0.11855265797290376, 'accuracy': 0.852938711643219, 'baseline': 0.7502912878990173}\n"
     ]
    },
    {
     "data": {
      "application/vnd.jupyter.widget-view+json": {
       "model_id": "f59b79567d80455594178f360108ed39",
       "version_major": 2,
       "version_minor": 0
      },
      "text/plain": [
       "Evaluating:   0%|          | 0/39 [00:00<?, ?it/s]"
      ]
     },
     "metadata": {},
     "output_type": "display_data"
    },
    {
     "name": "stdout",
     "output_type": "stream",
     "text": [
      "Validation @ 109: {'loss': 0.35699946253576575, 'accuracy': 0.5637717247009277, 'baseline': 0.7375940084457397}\n"
     ]
    },
    {
     "data": {
      "application/vnd.jupyter.widget-view+json": {
       "model_id": "fd4c377c922b4a05adeb9cf78c83c10b",
       "version_major": 2,
       "version_minor": 0
      },
      "text/plain": [
       "Epoch 110:   0%|          | 0/363 [00:00<?, ?it/s]"
      ]
     },
     "metadata": {},
     "output_type": "display_data"
    },
    {
     "name": "stdout",
     "output_type": "stream",
     "text": [
      "Training @ 110: {'loss': 0.11822274325764529, 'accuracy': 0.8536813855171204, 'baseline': 0.7502912878990173}\n"
     ]
    },
    {
     "data": {
      "application/vnd.jupyter.widget-view+json": {
       "model_id": "03e779a5680547689cf16451a0094d53",
       "version_major": 2,
       "version_minor": 0
      },
      "text/plain": [
       "Evaluating:   0%|          | 0/39 [00:00<?, ?it/s]"
      ]
     },
     "metadata": {},
     "output_type": "display_data"
    },
    {
     "name": "stdout",
     "output_type": "stream",
     "text": [
      "Validation @ 110: {'loss': 0.3578338136438267, 'accuracy': 0.5638974905014038, 'baseline': 0.7305012345314026}\n"
     ]
    },
    {
     "data": {
      "application/vnd.jupyter.widget-view+json": {
       "model_id": "7861601832be47a8a1738465e3b7df18",
       "version_major": 2,
       "version_minor": 0
      },
      "text/plain": [
       "Epoch 111:   0%|          | 0/363 [00:00<?, ?it/s]"
      ]
     },
     "metadata": {},
     "output_type": "display_data"
    },
    {
     "name": "stdout",
     "output_type": "stream",
     "text": [
      "Training @ 111: {'loss': 0.11793485686615728, 'accuracy': 0.8542706370353699, 'baseline': 0.7502912878990173}\n"
     ]
    },
    {
     "data": {
      "application/vnd.jupyter.widget-view+json": {
       "model_id": "954e1fb1753d4891b90d1d38cf9e449b",
       "version_major": 2,
       "version_minor": 0
      },
      "text/plain": [
       "Evaluating:   0%|          | 0/39 [00:00<?, ?it/s]"
      ]
     },
     "metadata": {},
     "output_type": "display_data"
    },
    {
     "name": "stdout",
     "output_type": "stream",
     "text": [
      "Validation @ 111: {'loss': 0.3586666535899722, 'accuracy': 0.5634195804595947, 'baseline': 0.7305012345314026}\n"
     ]
    },
    {
     "data": {
      "application/vnd.jupyter.widget-view+json": {
       "model_id": "25bfee5a990c4d4381578c2fd1c27cfc",
       "version_major": 2,
       "version_minor": 0
      },
      "text/plain": [
       "Epoch 112:   0%|          | 0/363 [00:00<?, ?it/s]"
      ]
     },
     "metadata": {},
     "output_type": "display_data"
    },
    {
     "name": "stdout",
     "output_type": "stream",
     "text": [
      "Training @ 112: {'loss': 0.11769247207485074, 'accuracy': 0.8547576665878296, 'baseline': 0.7502912878990173}\n"
     ]
    },
    {
     "data": {
      "application/vnd.jupyter.widget-view+json": {
       "model_id": "66b16c4813a149c19e95ffebd91b4af2",
       "version_major": 2,
       "version_minor": 0
      },
      "text/plain": [
       "Evaluating:   0%|          | 0/39 [00:00<?, ?it/s]"
      ]
     },
     "metadata": {},
     "output_type": "display_data"
    },
    {
     "name": "stdout",
     "output_type": "stream",
     "text": [
      "Validation @ 112: {'loss': 0.3594977990515788, 'accuracy': 0.563570499420166, 'baseline': 0.7234588265419006}\n"
     ]
    },
    {
     "data": {
      "application/vnd.jupyter.widget-view+json": {
       "model_id": "27c97e3499174c0c9d36f0f6d9043783",
       "version_major": 2,
       "version_minor": 0
      },
      "text/plain": [
       "Epoch 113:   0%|          | 0/363 [00:00<?, ?it/s]"
      ]
     },
     "metadata": {},
     "output_type": "display_data"
    },
    {
     "name": "stdout",
     "output_type": "stream",
     "text": [
      "Training @ 113: {'loss': 0.11750164150554673, 'accuracy': 0.855212390422821, 'baseline': 0.7502912878990173}\n"
     ]
    },
    {
     "data": {
      "application/vnd.jupyter.widget-view+json": {
       "model_id": "ca8b0225e1f84250ba1a67a7d832454a",
       "version_major": 2,
       "version_minor": 0
      },
      "text/plain": [
       "Evaluating:   0%|          | 0/39 [00:00<?, ?it/s]"
      ]
     },
     "metadata": {},
     "output_type": "display_data"
    },
    {
     "name": "stdout",
     "output_type": "stream",
     "text": [
      "Validation @ 113: {'loss': 0.36033310904049887, 'accuracy': 0.5633944272994995, 'baseline': 0.7304509282112122}\n"
     ]
    },
    {
     "data": {
      "application/vnd.jupyter.widget-view+json": {
       "model_id": "473a29f7d2df445483328f5a67ea1b9a",
       "version_major": 2,
       "version_minor": 0
      },
      "text/plain": [
       "Epoch 114:   0%|          | 0/363 [00:00<?, ?it/s]"
      ]
     },
     "metadata": {},
     "output_type": "display_data"
    },
    {
     "name": "stdout",
     "output_type": "stream",
     "text": [
      "Training @ 114: {'loss': 0.11737148277602365, 'accuracy': 0.8556052446365356, 'baseline': 0.7502912878990173}\n"
     ]
    },
    {
     "data": {
      "application/vnd.jupyter.widget-view+json": {
       "model_id": "08001a65f8ba4415987db86ee9f27287",
       "version_major": 2,
       "version_minor": 0
      },
      "text/plain": [
       "Evaluating:   0%|          | 0/39 [00:00<?, ?it/s]"
      ]
     },
     "metadata": {},
     "output_type": "display_data"
    },
    {
     "name": "stdout",
     "output_type": "stream",
     "text": [
      "Validation @ 114: {'loss': 0.36119098413826795, 'accuracy': 0.5629668831825256, 'baseline': 0.7346764206886292}\n"
     ]
    },
    {
     "data": {
      "application/vnd.jupyter.widget-view+json": {
       "model_id": "c1bd464a4af54ceca67e9858937eec94",
       "version_major": 2,
       "version_minor": 0
      },
      "text/plain": [
       "Epoch 115:   0%|          | 0/363 [00:00<?, ?it/s]"
      ]
     },
     "metadata": {},
     "output_type": "display_data"
    },
    {
     "name": "stdout",
     "output_type": "stream",
     "text": [
      "Training @ 115: {'loss': 0.11731460307026237, 'accuracy': 0.8557532429695129, 'baseline': 0.7502912878990173}\n"
     ]
    },
    {
     "data": {
      "application/vnd.jupyter.widget-view+json": {
       "model_id": "b540a2ecc09b45c581ed6b851cf77741",
       "version_major": 2,
       "version_minor": 0
      },
      "text/plain": [
       "Evaluating:   0%|          | 0/39 [00:00<?, ?it/s]"
      ]
     },
     "metadata": {},
     "output_type": "display_data"
    },
    {
     "name": "stdout",
     "output_type": "stream",
     "text": [
      "Validation @ 115: {'loss': 0.36211687643576135, 'accuracy': 0.5627656579017639, 'baseline': 0.7397570013999939}\n"
     ]
    },
    {
     "data": {
      "application/vnd.jupyter.widget-view+json": {
       "model_id": "f416739bafd9488f807b200624fce4d6",
       "version_major": 2,
       "version_minor": 0
      },
      "text/plain": [
       "Epoch 116:   0%|          | 0/363 [00:00<?, ?it/s]"
      ]
     },
     "metadata": {},
     "output_type": "display_data"
    },
    {
     "name": "stdout",
     "output_type": "stream",
     "text": [
      "Training @ 116: {'loss': 0.11735111114188769, 'accuracy': 0.8556698560714722, 'baseline': 0.7502912878990173}\n"
     ]
    },
    {
     "data": {
      "application/vnd.jupyter.widget-view+json": {
       "model_id": "513b48e9fb46407a8c6633642be57506",
       "version_major": 2,
       "version_minor": 0
      },
      "text/plain": [
       "Evaluating:   0%|          | 0/39 [00:00<?, ?it/s]"
      ]
     },
     "metadata": {},
     "output_type": "display_data"
    },
    {
     "name": "stdout",
     "output_type": "stream",
     "text": [
      "Validation @ 116: {'loss': 0.3632290670629712, 'accuracy': 0.5621117353439331, 'baseline': 0.7234839797019958}\n"
     ]
    },
    {
     "data": {
      "application/vnd.jupyter.widget-view+json": {
       "model_id": "913d6c4f78dc4fcbaee2d198f6bc41a9",
       "version_major": 2,
       "version_minor": 0
      },
      "text/plain": [
       "Epoch 117:   0%|          | 0/363 [00:00<?, ?it/s]"
      ]
     },
     "metadata": {},
     "output_type": "display_data"
    },
    {
     "name": "stdout",
     "output_type": "stream",
     "text": [
      "Training @ 117: {'loss': 0.11751516935928817, 'accuracy': 0.8554276823997498, 'baseline': 0.7502912878990173}\n"
     ]
    },
    {
     "data": {
      "application/vnd.jupyter.widget-view+json": {
       "model_id": "60a9119219bc40a3832432a9c12161ae",
       "version_major": 2,
       "version_minor": 0
      },
      "text/plain": [
       "Evaluating:   0%|          | 0/39 [00:00<?, ?it/s]"
      ]
     },
     "metadata": {},
     "output_type": "display_data"
    },
    {
     "name": "stdout",
     "output_type": "stream",
     "text": [
      "Validation @ 117: {'loss': 0.3648293245739403, 'accuracy': 0.5617344379425049, 'baseline': 0.7351794242858887}\n"
     ]
    },
    {
     "data": {
      "application/vnd.jupyter.widget-view+json": {
       "model_id": "52bf9c67ab874911b2a642d62fb00b09",
       "version_major": 2,
       "version_minor": 0
      },
      "text/plain": [
       "Epoch 118:   0%|          | 0/363 [00:00<?, ?it/s]"
      ]
     },
     "metadata": {},
     "output_type": "display_data"
    },
    {
     "name": "stdout",
     "output_type": "stream",
     "text": [
      "Training @ 118: {'loss': 0.11785446073617041, 'accuracy': 0.8548464775085449, 'baseline': 0.7502912878990173}\n"
     ]
    },
    {
     "data": {
      "application/vnd.jupyter.widget-view+json": {
       "model_id": "bb8c054f6b814416a78af72e29d99748",
       "version_major": 2,
       "version_minor": 0
      },
      "text/plain": [
       "Evaluating:   0%|          | 0/39 [00:00<?, ?it/s]"
      ]
     },
     "metadata": {},
     "output_type": "display_data"
    },
    {
     "name": "stdout",
     "output_type": "stream",
     "text": [
      "Validation @ 118: {'loss': 0.36726177056558496, 'accuracy': 0.559571385383606, 'baseline': 0.728841245174408}\n"
     ]
    },
    {
     "data": {
      "application/vnd.jupyter.widget-view+json": {
       "model_id": "78c500033b4d443bb494085d48319f56",
       "version_major": 2,
       "version_minor": 0
      },
      "text/plain": [
       "Epoch 119:   0%|          | 0/363 [00:00<?, ?it/s]"
      ]
     },
     "metadata": {},
     "output_type": "display_data"
    },
    {
     "name": "stdout",
     "output_type": "stream",
     "text": [
      "Training @ 119: {'loss': 0.11843096377510107, 'accuracy': 0.8539477586746216, 'baseline': 0.7502912878990173}\n"
     ]
    },
    {
     "data": {
      "application/vnd.jupyter.widget-view+json": {
       "model_id": "82af07761bd44710a7b33948f0e48dbc",
       "version_major": 2,
       "version_minor": 0
      },
      "text/plain": [
       "Evaluating:   0%|          | 0/39 [00:00<?, ?it/s]"
      ]
     },
     "metadata": {},
     "output_type": "display_data"
    },
    {
     "name": "stdout",
     "output_type": "stream",
     "text": [
      "Validation @ 119: {'loss': 0.36838629368598286, 'accuracy': 0.5580623149871826, 'baseline': 0.7265524864196777}\n"
     ]
    },
    {
     "data": {
      "application/vnd.jupyter.widget-view+json": {
       "model_id": "957a5a7ec3614a9c92546458220f2ce6",
       "version_major": 2,
       "version_minor": 0
      },
      "text/plain": [
       "Epoch 120:   0%|          | 0/363 [00:00<?, ?it/s]"
      ]
     },
     "metadata": {},
     "output_type": "display_data"
    },
    {
     "name": "stdout",
     "output_type": "stream",
     "text": [
      "Training @ 120: {'loss': 0.11916154277802664, 'accuracy': 0.8524731993675232, 'baseline': 0.7502912878990173}\n"
     ]
    },
    {
     "data": {
      "application/vnd.jupyter.widget-view+json": {
       "model_id": "339d3876f763480382eff8ae95adc0a2",
       "version_major": 2,
       "version_minor": 0
      },
      "text/plain": [
       "Evaluating:   0%|          | 0/39 [00:00<?, ?it/s]"
      ]
     },
     "metadata": {},
     "output_type": "display_data"
    },
    {
     "name": "stdout",
     "output_type": "stream",
     "text": [
      "Validation @ 120: {'loss': 0.36466616240421795, 'accuracy': 0.5603259801864624, 'baseline': 0.737946093082428}\n"
     ]
    },
    {
     "data": {
      "application/vnd.jupyter.widget-view+json": {
       "model_id": "628143a31ab4462bbca5964f177f47ef",
       "version_major": 2,
       "version_minor": 0
      },
      "text/plain": [
       "Epoch 121:   0%|          | 0/363 [00:00<?, ?it/s]"
      ]
     },
     "metadata": {},
     "output_type": "display_data"
    },
    {
     "name": "stdout",
     "output_type": "stream",
     "text": [
      "Training @ 121: {'loss': 0.11979750388873389, 'accuracy': 0.851130485534668, 'baseline': 0.7502912878990173}\n"
     ]
    },
    {
     "data": {
      "application/vnd.jupyter.widget-view+json": {
       "model_id": "59f700665bdb40bf95ea8a254c01fcef",
       "version_major": 2,
       "version_minor": 0
      },
      "text/plain": [
       "Evaluating:   0%|          | 0/39 [00:00<?, ?it/s]"
      ]
     },
     "metadata": {},
     "output_type": "display_data"
    },
    {
     "name": "stdout",
     "output_type": "stream",
     "text": [
      "Validation @ 121: {'loss': 0.36551439523600954, 'accuracy': 0.5592444539070129, 'baseline': 0.7355315685272217}\n"
     ]
    },
    {
     "data": {
      "application/vnd.jupyter.widget-view+json": {
       "model_id": "3bf1d31087f7458bbafa03fab98db278",
       "version_major": 2,
       "version_minor": 0
      },
      "text/plain": [
       "Epoch 122:   0%|          | 0/363 [00:00<?, ?it/s]"
      ]
     },
     "metadata": {},
     "output_type": "display_data"
    },
    {
     "name": "stdout",
     "output_type": "stream",
     "text": [
      "Training @ 122: {'loss': 0.12032650462876353, 'accuracy': 0.8502156734466553, 'baseline': 0.7502912878990173}\n"
     ]
    },
    {
     "data": {
      "application/vnd.jupyter.widget-view+json": {
       "model_id": "35483d886d784018ac0932d744ead9e7",
       "version_major": 2,
       "version_minor": 0
      },
      "text/plain": [
       "Evaluating:   0%|          | 0/39 [00:00<?, ?it/s]"
      ]
     },
     "metadata": {},
     "output_type": "display_data"
    },
    {
     "name": "stdout",
     "output_type": "stream",
     "text": [
      "Validation @ 122: {'loss': 0.37064632601671893, 'accuracy': 0.5558489561080933, 'baseline': 0.7358585596084595}\n"
     ]
    },
    {
     "data": {
      "application/vnd.jupyter.widget-view+json": {
       "model_id": "0c9d3a4e042a43f0849b9b58e9220270",
       "version_major": 2,
       "version_minor": 0
      },
      "text/plain": [
       "Epoch 123:   0%|          | 0/363 [00:00<?, ?it/s]"
      ]
     },
     "metadata": {},
     "output_type": "display_data"
    },
    {
     "name": "stdout",
     "output_type": "stream",
     "text": [
      "Training @ 123: {'loss': 0.12107880002720971, 'accuracy': 0.8489886522293091, 'baseline': 0.7502912878990173}\n"
     ]
    },
    {
     "data": {
      "application/vnd.jupyter.widget-view+json": {
       "model_id": "c984dc5103f44338b40c283c3e569625",
       "version_major": 2,
       "version_minor": 0
      },
      "text/plain": [
       "Evaluating:   0%|          | 0/39 [00:00<?, ?it/s]"
      ]
     },
     "metadata": {},
     "output_type": "display_data"
    },
    {
     "name": "stdout",
     "output_type": "stream",
     "text": [
      "Validation @ 123: {'loss': 0.3744583667732316, 'accuracy': 0.5546668767929077, 'baseline': 0.7370909452438354}\n"
     ]
    },
    {
     "data": {
      "application/vnd.jupyter.widget-view+json": {
       "model_id": "b6dcf8ccb0674960a46a0f62c2ce9baa",
       "version_major": 2,
       "version_minor": 0
      },
      "text/plain": [
       "Epoch 124:   0%|          | 0/363 [00:00<?, ?it/s]"
      ]
     },
     "metadata": {},
     "output_type": "display_data"
    },
    {
     "name": "stdout",
     "output_type": "stream",
     "text": [
      "Training @ 124: {'loss': 0.12238752106313865, 'accuracy': 0.8465346693992615, 'baseline': 0.7502912878990173}\n"
     ]
    },
    {
     "data": {
      "application/vnd.jupyter.widget-view+json": {
       "model_id": "6d3c93f5a6fd44599b2dff47727324a1",
       "version_major": 2,
       "version_minor": 0
      },
      "text/plain": [
       "Evaluating:   0%|          | 0/39 [00:00<?, ?it/s]"
      ]
     },
     "metadata": {},
     "output_type": "display_data"
    },
    {
     "name": "stdout",
     "output_type": "stream",
     "text": [
      "Validation @ 124: {'loss': 0.37089566355988807, 'accuracy': 0.5565029382705688, 'baseline': 0.7364873290061951}\n"
     ]
    },
    {
     "data": {
      "application/vnd.jupyter.widget-view+json": {
       "model_id": "455062d223b8417194ba5997170b7ceb",
       "version_major": 2,
       "version_minor": 0
      },
      "text/plain": [
       "Epoch 125:   0%|          | 0/363 [00:00<?, ?it/s]"
      ]
     },
     "metadata": {},
     "output_type": "display_data"
    },
    {
     "name": "stdout",
     "output_type": "stream",
     "text": [
      "Training @ 125: {'loss': 0.12282793095351548, 'accuracy': 0.8452457785606384, 'baseline': 0.7502912878990173}\n"
     ]
    },
    {
     "data": {
      "application/vnd.jupyter.widget-view+json": {
       "model_id": "8174a10c1da846c38238105da1a96699",
       "version_major": 2,
       "version_minor": 0
      },
      "text/plain": [
       "Evaluating:   0%|          | 0/39 [00:00<?, ?it/s]"
      ]
     },
     "metadata": {},
     "output_type": "display_data"
    },
    {
     "name": "stdout",
     "output_type": "stream",
     "text": [
      "Validation @ 125: {'loss': 0.3625584097099441, 'accuracy': 0.5622877478599548, 'baseline': 0.7356573343276978}\n"
     ]
    },
    {
     "data": {
      "application/vnd.jupyter.widget-view+json": {
       "model_id": "bdf06092b5724a1f940c30a7861a6bb1",
       "version_major": 2,
       "version_minor": 0
      },
      "text/plain": [
       "Epoch 126:   0%|          | 0/363 [00:00<?, ?it/s]"
      ]
     },
     "metadata": {},
     "output_type": "display_data"
    },
    {
     "name": "stdout",
     "output_type": "stream",
     "text": [
      "Training @ 126: {'loss': 0.12173324511471996, 'accuracy': 0.8471293449401855, 'baseline': 0.7502912878990173}\n"
     ]
    },
    {
     "data": {
      "application/vnd.jupyter.widget-view+json": {
       "model_id": "c4c3e0d1e5c3441fb9840cb9690a6537",
       "version_major": 2,
       "version_minor": 0
      },
      "text/plain": [
       "Evaluating:   0%|          | 0/39 [00:00<?, ?it/s]"
      ]
     },
     "metadata": {},
     "output_type": "display_data"
    },
    {
     "name": "stdout",
     "output_type": "stream",
     "text": [
      "Validation @ 126: {'loss': 0.3608408615541409, 'accuracy': 0.562539279460907, 'baseline': 0.737267017364502}\n"
     ]
    },
    {
     "data": {
      "application/vnd.jupyter.widget-view+json": {
       "model_id": "1f7df9e4c517464cb8e8153951854344",
       "version_major": 2,
       "version_minor": 0
      },
      "text/plain": [
       "Epoch 127:   0%|          | 0/363 [00:00<?, ?it/s]"
      ]
     },
     "metadata": {},
     "output_type": "display_data"
    },
    {
     "name": "stdout",
     "output_type": "stream",
     "text": [
      "Training @ 127: {'loss': 0.12070580209455913, 'accuracy': 0.8491016626358032, 'baseline': 0.7502912878990173}\n"
     ]
    },
    {
     "data": {
      "application/vnd.jupyter.widget-view+json": {
       "model_id": "20b7c4028f2b4324939f218b3f89a42f",
       "version_major": 2,
       "version_minor": 0
      },
      "text/plain": [
       "Evaluating:   0%|          | 0/39 [00:00<?, ?it/s]"
      ]
     },
     "metadata": {},
     "output_type": "display_data"
    },
    {
     "name": "stdout",
     "output_type": "stream",
     "text": [
      "Validation @ 127: {'loss': 0.3604903745082768, 'accuracy': 0.5617092847824097, 'baseline': 0.7366382479667664}\n"
     ]
    },
    {
     "data": {
      "application/vnd.jupyter.widget-view+json": {
       "model_id": "5c8780ea88424a35afc5b89f7c655bf2",
       "version_major": 2,
       "version_minor": 0
      },
      "text/plain": [
       "Epoch 128:   0%|          | 0/363 [00:00<?, ?it/s]"
      ]
     },
     "metadata": {},
     "output_type": "display_data"
    },
    {
     "name": "stdout",
     "output_type": "stream",
     "text": [
      "Training @ 128: {'loss': 0.11983740746086909, 'accuracy': 0.8510094285011292, 'baseline': 0.7502912878990173}\n"
     ]
    },
    {
     "data": {
      "application/vnd.jupyter.widget-view+json": {
       "model_id": "ee341055f2084c8eb6ec7c7a55b59786",
       "version_major": 2,
       "version_minor": 0
      },
      "text/plain": [
       "Evaluating:   0%|          | 0/39 [00:00<?, ?it/s]"
      ]
     },
     "metadata": {},
     "output_type": "display_data"
    },
    {
     "name": "stdout",
     "output_type": "stream",
     "text": [
      "Validation @ 128: {'loss': 0.3606289344954507, 'accuracy': 0.5616589784622192, 'baseline': 0.7229306697845459}\n"
     ]
    },
    {
     "data": {
      "application/vnd.jupyter.widget-view+json": {
       "model_id": "aaf2c3665d8f44f0abb7eff9d7eb6fd1",
       "version_major": 2,
       "version_minor": 0
      },
      "text/plain": [
       "Epoch 129:   0%|          | 0/363 [00:00<?, ?it/s]"
      ]
     },
     "metadata": {},
     "output_type": "display_data"
    },
    {
     "name": "stdout",
     "output_type": "stream",
     "text": [
      "Training @ 129: {'loss': 0.11905954449911872, 'accuracy': 0.8526830673217773, 'baseline': 0.7502912878990173}\n"
     ]
    },
    {
     "data": {
      "application/vnd.jupyter.widget-view+json": {
       "model_id": "a17a0eec1dd944b3b76fff1c59849ca9",
       "version_major": 2,
       "version_minor": 0
      },
      "text/plain": [
       "Evaluating:   0%|          | 0/39 [00:00<?, ?it/s]"
      ]
     },
     "metadata": {},
     "output_type": "display_data"
    },
    {
     "name": "stdout",
     "output_type": "stream",
     "text": [
      "Validation @ 129: {'loss': 0.36102404293152507, 'accuracy': 0.5618350505828857, 'baseline': 0.7321109771728516}\n"
     ]
    },
    {
     "data": {
      "application/vnd.jupyter.widget-view+json": {
       "model_id": "aa510ad7b7e8417ba3d3e117f72eb369",
       "version_major": 2,
       "version_minor": 0
      },
      "text/plain": [
       "Epoch 130:   0%|          | 0/363 [00:00<?, ?it/s]"
      ]
     },
     "metadata": {},
     "output_type": "display_data"
    },
    {
     "name": "stdout",
     "output_type": "stream",
     "text": [
      "Training @ 130: {'loss': 0.11831814475964239, 'accuracy': 0.8542598485946655, 'baseline': 0.7502912878990173}\n"
     ]
    },
    {
     "data": {
      "application/vnd.jupyter.widget-view+json": {
       "model_id": "780bd5e9a57a4067aeac265ba3323af8",
       "version_major": 2,
       "version_minor": 0
      },
      "text/plain": [
       "Evaluating:   0%|          | 0/39 [00:00<?, ?it/s]"
      ]
     },
     "metadata": {},
     "output_type": "display_data"
    },
    {
     "name": "stdout",
     "output_type": "stream",
     "text": [
      "Validation @ 130: {'loss': 0.3616133914656699, 'accuracy': 0.5620614290237427, 'baseline': 0.7352297306060791}\n"
     ]
    },
    {
     "data": {
      "application/vnd.jupyter.widget-view+json": {
       "model_id": "ca25929a6e294a7b9b252ee88e24da77",
       "version_major": 2,
       "version_minor": 0
      },
      "text/plain": [
       "Epoch 131:   0%|          | 0/363 [00:00<?, ?it/s]"
      ]
     },
     "metadata": {},
     "output_type": "display_data"
    },
    {
     "name": "stdout",
     "output_type": "stream",
     "text": [
      "Training @ 131: {'loss': 0.11761657559312677, 'accuracy': 0.8555218577384949, 'baseline': 0.7502912878990173}\n"
     ]
    },
    {
     "data": {
      "application/vnd.jupyter.widget-view+json": {
       "model_id": "e3e4f7d0e2304504a5498c3f572395b1",
       "version_major": 2,
       "version_minor": 0
      },
      "text/plain": [
       "Evaluating:   0%|          | 0/39 [00:00<?, ?it/s]"
      ]
     },
     "metadata": {},
     "output_type": "display_data"
    },
    {
     "name": "stdout",
     "output_type": "stream",
     "text": [
      "Validation @ 131: {'loss': 0.36234167074739804, 'accuracy': 0.5618098974227905, 'baseline': 0.7387760877609253}\n"
     ]
    },
    {
     "data": {
      "application/vnd.jupyter.widget-view+json": {
       "model_id": "de3a80d2fb7f4b1d89eb9b81877662bc",
       "version_major": 2,
       "version_minor": 0
      },
      "text/plain": [
       "Epoch 132:   0%|          | 0/363 [00:00<?, ?it/s]"
      ]
     },
     "metadata": {},
     "output_type": "display_data"
    },
    {
     "name": "stdout",
     "output_type": "stream",
     "text": [
      "Training @ 132: {'loss': 0.11692733300859665, 'accuracy': 0.8568806648254395, 'baseline': 0.7502912878990173}\n"
     ]
    },
    {
     "data": {
      "application/vnd.jupyter.widget-view+json": {
       "model_id": "8a0040ecd2bc47fe84dc47e59c0d5ee3",
       "version_major": 2,
       "version_minor": 0
      },
      "text/plain": [
       "Evaluating:   0%|          | 0/39 [00:00<?, ?it/s]"
      ]
     },
     "metadata": {},
     "output_type": "display_data"
    },
    {
     "name": "stdout",
     "output_type": "stream",
     "text": [
      "Validation @ 132: {'loss': 0.3631739243705729, 'accuracy': 0.5615332126617432, 'baseline': 0.7391533851623535}\n"
     ]
    },
    {
     "data": {
      "application/vnd.jupyter.widget-view+json": {
       "model_id": "3516bc804f3f44ec812f6d2a82ff9b90",
       "version_major": 2,
       "version_minor": 0
      },
      "text/plain": [
       "Epoch 133:   0%|          | 0/363 [00:00<?, ?it/s]"
      ]
     },
     "metadata": {},
     "output_type": "display_data"
    },
    {
     "name": "stdout",
     "output_type": "stream",
     "text": [
      "Training @ 133: {'loss': 0.11627591965677841, 'accuracy': 0.8583014011383057, 'baseline': 0.7502912878990173}\n"
     ]
    },
    {
     "data": {
      "application/vnd.jupyter.widget-view+json": {
       "model_id": "53be9650923d441e928b79c11008b23d",
       "version_major": 2,
       "version_minor": 0
      },
      "text/plain": [
       "Evaluating:   0%|          | 0/39 [00:00<?, ?it/s]"
      ]
     },
     "metadata": {},
     "output_type": "display_data"
    },
    {
     "name": "stdout",
     "output_type": "stream",
     "text": [
      "Validation @ 133: {'loss': 0.36405765526509204, 'accuracy': 0.5612314343452454, 'baseline': 0.7294951677322388}\n"
     ]
    },
    {
     "data": {
      "application/vnd.jupyter.widget-view+json": {
       "model_id": "c62e37697daa4e97bc9834c676c40616",
       "version_major": 2,
       "version_minor": 0
      },
      "text/plain": [
       "Epoch 134:   0%|          | 0/363 [00:00<?, ?it/s]"
      ]
     },
     "metadata": {},
     "output_type": "display_data"
    },
    {
     "name": "stdout",
     "output_type": "stream",
     "text": [
      "Training @ 134: {'loss': 0.11564052656490707, 'accuracy': 0.8595149517059326, 'baseline': 0.7502912878990173}\n"
     ]
    },
    {
     "data": {
      "application/vnd.jupyter.widget-view+json": {
       "model_id": "cb4b1aca523541628ebc71efd32bd49b",
       "version_major": 2,
       "version_minor": 0
      },
      "text/plain": [
       "Evaluating:   0%|          | 0/39 [00:00<?, ?it/s]"
      ]
     },
     "metadata": {},
     "output_type": "display_data"
    },
    {
     "name": "stdout",
     "output_type": "stream",
     "text": [
      "Validation @ 134: {'loss': 0.3649532737587476, 'accuracy': 0.5610050559043884, 'baseline': 0.732840359210968}\n"
     ]
    },
    {
     "data": {
      "application/vnd.jupyter.widget-view+json": {
       "model_id": "9086fe7de751492d9a27c822f70b20f8",
       "version_major": 2,
       "version_minor": 0
      },
      "text/plain": [
       "Epoch 135:   0%|          | 0/363 [00:00<?, ?it/s]"
      ]
     },
     "metadata": {},
     "output_type": "display_data"
    },
    {
     "name": "stdout",
     "output_type": "stream",
     "text": [
      "Training @ 135: {'loss': 0.11505621695948495, 'accuracy': 0.8606504201889038, 'baseline': 0.7502912878990173}\n"
     ]
    },
    {
     "data": {
      "application/vnd.jupyter.widget-view+json": {
       "model_id": "6351f2a3208245ce8b5e2d76ef6ae16b",
       "version_major": 2,
       "version_minor": 0
      },
      "text/plain": [
       "Evaluating:   0%|          | 0/39 [00:00<?, ?it/s]"
      ]
     },
     "metadata": {},
     "output_type": "display_data"
    },
    {
     "name": "stdout",
     "output_type": "stream",
     "text": [
      "Validation @ 135: {'loss': 0.36583603274255855, 'accuracy': 0.5606780648231506, 'baseline': 0.7336200475692749}\n"
     ]
    },
    {
     "data": {
      "application/vnd.jupyter.widget-view+json": {
       "model_id": "ec4bf3526d6a4e609ef8b9c05885d263",
       "version_major": 2,
       "version_minor": 0
      },
      "text/plain": [
       "Epoch 136:   0%|          | 0/363 [00:00<?, ?it/s]"
      ]
     },
     "metadata": {},
     "output_type": "display_data"
    },
    {
     "name": "stdout",
     "output_type": "stream",
     "text": [
      "Training @ 136: {'loss': 0.11449039950324705, 'accuracy': 0.8617132902145386, 'baseline': 0.7502912878990173}\n"
     ]
    },
    {
     "data": {
      "application/vnd.jupyter.widget-view+json": {
       "model_id": "0d5423ed22914e1ab38749d6ee137fab",
       "version_major": 2,
       "version_minor": 0
      },
      "text/plain": [
       "Evaluating:   0%|          | 0/39 [00:00<?, ?it/s]"
      ]
     },
     "metadata": {},
     "output_type": "display_data"
    },
    {
     "name": "stdout",
     "output_type": "stream",
     "text": [
      "Validation @ 136: {'loss': 0.36670250359721857, 'accuracy': 0.5606529116630554, 'baseline': 0.7316079139709473}\n"
     ]
    },
    {
     "data": {
      "application/vnd.jupyter.widget-view+json": {
       "model_id": "ed6d18ea76274483b28218587e049c98",
       "version_major": 2,
       "version_minor": 0
      },
      "text/plain": [
       "Epoch 137:   0%|          | 0/363 [00:00<?, ?it/s]"
      ]
     },
     "metadata": {},
     "output_type": "display_data"
    },
    {
     "name": "stdout",
     "output_type": "stream",
     "text": [
      "Training @ 137: {'loss': 0.11397755549622698, 'accuracy': 0.8629376292228699, 'baseline': 0.7502912878990173}\n"
     ]
    },
    {
     "data": {
      "application/vnd.jupyter.widget-view+json": {
       "model_id": "6664afabc32d4c668bae9e7690c009b5",
       "version_major": 2,
       "version_minor": 0
      },
      "text/plain": [
       "Evaluating:   0%|          | 0/39 [00:00<?, ?it/s]"
      ]
     },
     "metadata": {},
     "output_type": "display_data"
    },
    {
     "name": "stdout",
     "output_type": "stream",
     "text": [
      "Validation @ 137: {'loss': 0.36757317367023756, 'accuracy': 0.5607535243034363, 'baseline': 0.7253451943397522}\n"
     ]
    },
    {
     "data": {
      "application/vnd.jupyter.widget-view+json": {
       "model_id": "1b63108057344ad3ab83da763c31d11e",
       "version_major": 2,
       "version_minor": 0
      },
      "text/plain": [
       "Epoch 138:   0%|          | 0/363 [00:00<?, ?it/s]"
      ]
     },
     "metadata": {},
     "output_type": "display_data"
    },
    {
     "name": "stdout",
     "output_type": "stream",
     "text": [
      "Training @ 138: {'loss': 0.11348834428535838, 'accuracy': 0.8638632297515869, 'baseline': 0.7502912878990173}\n"
     ]
    },
    {
     "data": {
      "application/vnd.jupyter.widget-view+json": {
       "model_id": "c9e545ea22964afa9027949768d22600",
       "version_major": 2,
       "version_minor": 0
      },
      "text/plain": [
       "Evaluating:   0%|          | 0/39 [00:00<?, ?it/s]"
      ]
     },
     "metadata": {},
     "output_type": "display_data"
    },
    {
     "name": "stdout",
     "output_type": "stream",
     "text": [
      "Validation @ 138: {'loss': 0.3684504527476158, 'accuracy': 0.5605774521827698, 'baseline': 0.7273321747779846}\n"
     ]
    },
    {
     "data": {
      "application/vnd.jupyter.widget-view+json": {
       "model_id": "dd99d1a2f03d4950b1d198ed60fe7f2e",
       "version_major": 2,
       "version_minor": 0
      },
      "text/plain": [
       "Epoch 139:   0%|          | 0/363 [00:00<?, ?it/s]"
      ]
     },
     "metadata": {},
     "output_type": "display_data"
    },
    {
     "name": "stdout",
     "output_type": "stream",
     "text": [
      "Training @ 139: {'loss': 0.11305293207977743, 'accuracy': 0.864788830280304, 'baseline': 0.7502912878990173}\n"
     ]
    },
    {
     "data": {
      "application/vnd.jupyter.widget-view+json": {
       "model_id": "a78c8036fb5040da9b3c848ad42a43c9",
       "version_major": 2,
       "version_minor": 0
      },
      "text/plain": [
       "Evaluating:   0%|          | 0/39 [00:00<?, ?it/s]"
      ]
     },
     "metadata": {},
     "output_type": "display_data"
    },
    {
     "name": "stdout",
     "output_type": "stream",
     "text": [
      "Validation @ 139: {'loss': 0.36932015882318187, 'accuracy': 0.560275673866272, 'baseline': 0.7340978980064392}\n"
     ]
    },
    {
     "data": {
      "application/vnd.jupyter.widget-view+json": {
       "model_id": "45b11fe6428e49e48cfea180b447bc22",
       "version_major": 2,
       "version_minor": 0
      },
      "text/plain": [
       "Epoch 140:   0%|          | 0/363 [00:00<?, ?it/s]"
      ]
     },
     "metadata": {},
     "output_type": "display_data"
    },
    {
     "name": "stdout",
     "output_type": "stream",
     "text": [
      "Training @ 140: {'loss': 0.11264197278789345, 'accuracy': 0.8656310439109802, 'baseline': 0.7502912878990173}\n"
     ]
    },
    {
     "data": {
      "application/vnd.jupyter.widget-view+json": {
       "model_id": "d9805d85c38a4a8591d28de6bdf638c7",
       "version_major": 2,
       "version_minor": 0
      },
      "text/plain": [
       "Evaluating:   0%|          | 0/39 [00:00<?, ?it/s]"
      ]
     },
     "metadata": {},
     "output_type": "display_data"
    },
    {
     "name": "stdout",
     "output_type": "stream",
     "text": [
      "Validation @ 140: {'loss': 0.37014787541737293, 'accuracy': 0.5605774521827698, 'baseline': 0.7390276193618774}\n"
     ]
    },
    {
     "data": {
      "application/vnd.jupyter.widget-view+json": {
       "model_id": "782b9cb87fcc400f81989ee57cbe3492",
       "version_major": 2,
       "version_minor": 0
      },
      "text/plain": [
       "Epoch 141:   0%|          | 0/363 [00:00<?, ?it/s]"
      ]
     },
     "metadata": {},
     "output_type": "display_data"
    },
    {
     "name": "stdout",
     "output_type": "stream",
     "text": [
      "Training @ 141: {'loss': 0.11228396195736158, 'accuracy': 0.8663118481636047, 'baseline': 0.7502912878990173}\n"
     ]
    },
    {
     "data": {
      "application/vnd.jupyter.widget-view+json": {
       "model_id": "2a1ac72dc913429e9984efb86964844c",
       "version_major": 2,
       "version_minor": 0
      },
      "text/plain": [
       "Evaluating:   0%|          | 0/39 [00:00<?, ?it/s]"
      ]
     },
     "metadata": {},
     "output_type": "display_data"
    },
    {
     "name": "stdout",
     "output_type": "stream",
     "text": [
      "Validation @ 141: {'loss': 0.3708888168940197, 'accuracy': 0.5607786774635315, 'baseline': 0.7391282320022583}\n"
     ]
    },
    {
     "data": {
      "application/vnd.jupyter.widget-view+json": {
       "model_id": "b20e924bf5be4f79be158b4b6a092661",
       "version_major": 2,
       "version_minor": 0
      },
      "text/plain": [
       "Epoch 142:   0%|          | 0/363 [00:00<?, ?it/s]"
      ]
     },
     "metadata": {},
     "output_type": "display_data"
    },
    {
     "name": "stdout",
     "output_type": "stream",
     "text": [
      "Training @ 142: {'loss': 0.1119470455561554, 'accuracy': 0.8670652508735657, 'baseline': 0.7502912878990173}\n"
     ]
    },
    {
     "data": {
      "application/vnd.jupyter.widget-view+json": {
       "model_id": "b509478484cf46bf913429ec79bdf35f",
       "version_major": 2,
       "version_minor": 0
      },
      "text/plain": [
       "Evaluating:   0%|          | 0/39 [00:00<?, ?it/s]"
      ]
     },
     "metadata": {},
     "output_type": "display_data"
    },
    {
     "name": "stdout",
     "output_type": "stream",
     "text": [
      "Validation @ 142: {'loss': 0.37149518223642847, 'accuracy': 0.5607283711433411, 'baseline': 0.7304509282112122}\n"
     ]
    },
    {
     "data": {
      "application/vnd.jupyter.widget-view+json": {
       "model_id": "3ccfb67ea9604428a3184cb6e7d97e68",
       "version_major": 2,
       "version_minor": 0
      },
      "text/plain": [
       "Epoch 143:   0%|          | 0/363 [00:00<?, ?it/s]"
      ]
     },
     "metadata": {},
     "output_type": "display_data"
    },
    {
     "name": "stdout",
     "output_type": "stream",
     "text": [
      "Training @ 143: {'loss': 0.11166983168622517, 'accuracy': 0.8676706552505493, 'baseline': 0.7502912878990173}\n"
     ]
    },
    {
     "data": {
      "application/vnd.jupyter.widget-view+json": {
       "model_id": "a7bead9ee20a4a7d88b40a9aa83af3d2",
       "version_major": 2,
       "version_minor": 0
      },
      "text/plain": [
       "Evaluating:   0%|          | 0/39 [00:00<?, ?it/s]"
      ]
     },
     "metadata": {},
     "output_type": "display_data"
    },
    {
     "name": "stdout",
     "output_type": "stream",
     "text": [
      "Validation @ 143: {'loss': 0.3720123889561153, 'accuracy': 0.5611811280250549, 'baseline': 0.7445358037948608}\n"
     ]
    },
    {
     "data": {
      "application/vnd.jupyter.widget-view+json": {
       "model_id": "ff74a5b4ca914d92ab34183626a2edc5",
       "version_major": 2,
       "version_minor": 0
      },
      "text/plain": [
       "Epoch 144:   0%|          | 0/363 [00:00<?, ?it/s]"
      ]
     },
     "metadata": {},
     "output_type": "display_data"
    },
    {
     "name": "stdout",
     "output_type": "stream",
     "text": [
      "Training @ 144: {'loss': 0.11142426239528994, 'accuracy': 0.8681899905204773, 'baseline': 0.7502912878990173}\n"
     ]
    },
    {
     "data": {
      "application/vnd.jupyter.widget-view+json": {
       "model_id": "54f287d7b48c4f03ba563f173fce3fa0",
       "version_major": 2,
       "version_minor": 0
      },
      "text/plain": [
       "Evaluating:   0%|          | 0/39 [00:00<?, ?it/s]"
      ]
     },
     "metadata": {},
     "output_type": "display_data"
    },
    {
     "name": "stdout",
     "output_type": "stream",
     "text": [
      "Validation @ 144: {'loss': 0.37242708778791517, 'accuracy': 0.5617595911026001, 'baseline': 0.7294449210166931}\n"
     ]
    },
    {
     "data": {
      "application/vnd.jupyter.widget-view+json": {
       "model_id": "091f17138f364262a2436e9e81e34e6c",
       "version_major": 2,
       "version_minor": 0
      },
      "text/plain": [
       "Epoch 145:   0%|          | 0/363 [00:00<?, ?it/s]"
      ]
     },
     "metadata": {},
     "output_type": "display_data"
    },
    {
     "name": "stdout",
     "output_type": "stream",
     "text": [
      "Training @ 145: {'loss': 0.11123960193100184, 'accuracy': 0.8685182332992554, 'baseline': 0.7502912878990173}\n"
     ]
    },
    {
     "data": {
      "application/vnd.jupyter.widget-view+json": {
       "model_id": "7e113a0534364720b094f8e9cd38faeb",
       "version_major": 2,
       "version_minor": 0
      },
      "text/plain": [
       "Evaluating:   0%|          | 0/39 [00:00<?, ?it/s]"
      ]
     },
     "metadata": {},
     "output_type": "display_data"
    },
    {
     "name": "stdout",
     "output_type": "stream",
     "text": [
      "Validation @ 145: {'loss': 0.3727665782887774, 'accuracy': 0.56231290102005, 'baseline': 0.7307527661323547}\n"
     ]
    },
    {
     "data": {
      "application/vnd.jupyter.widget-view+json": {
       "model_id": "924b075671ee418ba8f83f7c244f9754",
       "version_major": 2,
       "version_minor": 0
      },
      "text/plain": [
       "Epoch 146:   0%|          | 0/363 [00:00<?, ?it/s]"
      ]
     },
     "metadata": {},
     "output_type": "display_data"
    },
    {
     "name": "stdout",
     "output_type": "stream",
     "text": [
      "Training @ 146: {'loss': 0.1110950994898459, 'accuracy': 0.8686931729316711, 'baseline': 0.7502912878990173}\n"
     ]
    },
    {
     "data": {
      "application/vnd.jupyter.widget-view+json": {
       "model_id": "fc375d51b8b04b2caae0bb54bba81581",
       "version_major": 2,
       "version_minor": 0
      },
      "text/plain": [
       "Evaluating:   0%|          | 0/39 [00:00<?, ?it/s]"
      ]
     },
     "metadata": {},
     "output_type": "display_data"
    },
    {
     "name": "stdout",
     "output_type": "stream",
     "text": [
      "Validation @ 146: {'loss': 0.3730313909406402, 'accuracy': 0.5624386668205261, 'baseline': 0.7244900465011597}\n"
     ]
    },
    {
     "data": {
      "application/vnd.jupyter.widget-view+json": {
       "model_id": "9b82ed1ea8e14682b65b001820a52eb1",
       "version_major": 2,
       "version_minor": 0
      },
      "text/plain": [
       "Epoch 147:   0%|          | 0/363 [00:00<?, ?it/s]"
      ]
     },
     "metadata": {},
     "output_type": "display_data"
    },
    {
     "name": "stdout",
     "output_type": "stream",
     "text": [
      "Training @ 147: {'loss': 0.11102471411530741, 'accuracy': 0.8688411712646484, 'baseline': 0.7502912878990173}\n"
     ]
    },
    {
     "data": {
      "application/vnd.jupyter.widget-view+json": {
       "model_id": "10692e781f6843898cc8f6d0b8be34f7",
       "version_major": 2,
       "version_minor": 0
      },
      "text/plain": [
       "Evaluating:   0%|          | 0/39 [00:00<?, ?it/s]"
      ]
     },
     "metadata": {},
     "output_type": "display_data"
    },
    {
     "name": "stdout",
     "output_type": "stream",
     "text": [
      "Validation @ 147: {'loss': 0.37324872637164436, 'accuracy': 0.5632435083389282, 'baseline': 0.7358585596084595}\n"
     ]
    },
    {
     "data": {
      "application/vnd.jupyter.widget-view+json": {
       "model_id": "6fea87d0bec84ea6b657509f7b5c485d",
       "version_major": 2,
       "version_minor": 0
      },
      "text/plain": [
       "Epoch 148:   0%|          | 0/363 [00:00<?, ?it/s]"
      ]
     },
     "metadata": {},
     "output_type": "display_data"
    },
    {
     "name": "stdout",
     "output_type": "stream",
     "text": [
      "Training @ 148: {'loss': 0.11100272399027396, 'accuracy': 0.8690510392189026, 'baseline': 0.7502912878990173}\n"
     ]
    },
    {
     "data": {
      "application/vnd.jupyter.widget-view+json": {
       "model_id": "69c407ecb2c74a078a6190813d6fcd41",
       "version_major": 2,
       "version_minor": 0
      },
      "text/plain": [
       "Evaluating:   0%|          | 0/39 [00:00<?, ?it/s]"
      ]
     },
     "metadata": {},
     "output_type": "display_data"
    },
    {
     "name": "stdout",
     "output_type": "stream",
     "text": [
      "Validation @ 148: {'loss': 0.3733692030982954, 'accuracy': 0.5632435083389282, 'baseline': 0.7289921641349792}\n"
     ]
    },
    {
     "data": {
      "application/vnd.jupyter.widget-view+json": {
       "model_id": "e4f1e7d676054f75a86dd1edae237cb1",
       "version_major": 2,
       "version_minor": 0
      },
      "text/plain": [
       "Epoch 149:   0%|          | 0/363 [00:00<?, ?it/s]"
      ]
     },
     "metadata": {},
     "output_type": "display_data"
    },
    {
     "name": "stdout",
     "output_type": "stream",
     "text": [
      "Training @ 149: {'loss': 0.11107363327652636, 'accuracy': 0.8690348863601685, 'baseline': 0.7502912878990173}\n"
     ]
    },
    {
     "data": {
      "application/vnd.jupyter.widget-view+json": {
       "model_id": "c97c42ac656247fd8bd724ab6bcfd3d9",
       "version_major": 2,
       "version_minor": 0
      },
      "text/plain": [
       "Evaluating:   0%|          | 0/39 [00:00<?, ?it/s]"
      ]
     },
     "metadata": {},
     "output_type": "display_data"
    },
    {
     "name": "stdout",
     "output_type": "stream",
     "text": [
      "Validation @ 149: {'loss': 0.3733795018563877, 'accuracy': 0.5636962652206421, 'baseline': 0.7352045774459839}\n"
     ]
    },
    {
     "data": {
      "application/vnd.jupyter.widget-view+json": {
       "model_id": "4ec9077765fc4699a1730ce96cc49beb",
       "version_major": 2,
       "version_minor": 0
      },
      "text/plain": [
       "Epoch 150:   0%|          | 0/363 [00:00<?, ?it/s]"
      ]
     },
     "metadata": {},
     "output_type": "display_data"
    },
    {
     "name": "stdout",
     "output_type": "stream",
     "text": [
      "Training @ 150: {'loss': 0.11125779679590365, 'accuracy': 0.8687388896942139, 'baseline': 0.7502912878990173}\n"
     ]
    },
    {
     "data": {
      "application/vnd.jupyter.widget-view+json": {
       "model_id": "8036586f96ac485390e39030b78161a5",
       "version_major": 2,
       "version_minor": 0
      },
      "text/plain": [
       "Evaluating:   0%|          | 0/39 [00:00<?, ?it/s]"
      ]
     },
     "metadata": {},
     "output_type": "display_data"
    },
    {
     "name": "stdout",
     "output_type": "stream",
     "text": [
      "Validation @ 150: {'loss': 0.37320726445261576, 'accuracy': 0.5641741156578064, 'baseline': 0.7402852177619934}\n"
     ]
    },
    {
     "data": {
      "application/vnd.jupyter.widget-view+json": {
       "model_id": "b5f59ada6ae1480e8a56967835f9e008",
       "version_major": 2,
       "version_minor": 0
      },
      "text/plain": [
       "Epoch 151:   0%|          | 0/363 [00:00<?, ?it/s]"
      ]
     },
     "metadata": {},
     "output_type": "display_data"
    },
    {
     "name": "stdout",
     "output_type": "stream",
     "text": [
      "Training @ 151: {'loss': 0.11165657358138766, 'accuracy': 0.8680473566055298, 'baseline': 0.7502912878990173}\n"
     ]
    },
    {
     "data": {
      "application/vnd.jupyter.widget-view+json": {
       "model_id": "0e203fa47891425ebec3f3a4fe68bf81",
       "version_major": 2,
       "version_minor": 0
      },
      "text/plain": [
       "Evaluating:   0%|          | 0/39 [00:00<?, ?it/s]"
      ]
     },
     "metadata": {},
     "output_type": "display_data"
    },
    {
     "name": "stdout",
     "output_type": "stream",
     "text": [
      "Validation @ 151: {'loss': 0.37254131337044366, 'accuracy': 0.5651801824569702, 'baseline': 0.7340978980064392}\n"
     ]
    },
    {
     "data": {
      "application/vnd.jupyter.widget-view+json": {
       "model_id": "1e5d89d535a2426a8109a4e93c4441a6",
       "version_major": 2,
       "version_minor": 0
      },
      "text/plain": [
       "Epoch 152:   0%|          | 0/363 [00:00<?, ?it/s]"
      ]
     },
     "metadata": {},
     "output_type": "display_data"
    },
    {
     "name": "stdout",
     "output_type": "stream",
     "text": [
      "Training @ 152: {'loss': 0.11251529562580545, 'accuracy': 0.8663683533668518, 'baseline': 0.7502912878990173}\n"
     ]
    },
    {
     "data": {
      "application/vnd.jupyter.widget-view+json": {
       "model_id": "e39e46f0e53042dcad8196c8074b25c8",
       "version_major": 2,
       "version_minor": 0
      },
      "text/plain": [
       "Evaluating:   0%|          | 0/39 [00:00<?, ?it/s]"
      ]
     },
     "metadata": {},
     "output_type": "display_data"
    },
    {
     "name": "stdout",
     "output_type": "stream",
     "text": [
      "Validation @ 152: {'loss': 0.3701733235244393, 'accuracy': 0.5685002207756042, 'baseline': 0.738298237323761}\n"
     ]
    },
    {
     "data": {
      "application/vnd.jupyter.widget-view+json": {
       "model_id": "7234c3a791d44d1581c4a6bcf25c5249",
       "version_major": 2,
       "version_minor": 0
      },
      "text/plain": [
       "Epoch 153:   0%|          | 0/363 [00:00<?, ?it/s]"
      ]
     },
     "metadata": {},
     "output_type": "display_data"
    },
    {
     "name": "stdout",
     "output_type": "stream",
     "text": [
      "Training @ 153: {'loss': 0.11364358983571803, 'accuracy': 0.8638336062431335, 'baseline': 0.7502912878990173}\n"
     ]
    },
    {
     "data": {
      "application/vnd.jupyter.widget-view+json": {
       "model_id": "1ef4c6b2b55d43a79c64417e107fe2ee",
       "version_major": 2,
       "version_minor": 0
      },
      "text/plain": [
       "Evaluating:   0%|          | 0/39 [00:00<?, ?it/s]"
      ]
     },
     "metadata": {},
     "output_type": "display_data"
    },
    {
     "name": "stdout",
     "output_type": "stream",
     "text": [
      "Validation @ 153: {'loss': 0.3706655045701193, 'accuracy': 0.5673683881759644, 'baseline': 0.7366634011268616}\n"
     ]
    },
    {
     "data": {
      "application/vnd.jupyter.widget-view+json": {
       "model_id": "9e289ef076e54c7eb4499ad986a38024",
       "version_major": 2,
       "version_minor": 0
      },
      "text/plain": [
       "Epoch 154:   0%|          | 0/363 [00:00<?, ?it/s]"
      ]
     },
     "metadata": {},
     "output_type": "display_data"
    },
    {
     "name": "stdout",
     "output_type": "stream",
     "text": [
      "Training @ 154: {'loss': 0.1153273895156702, 'accuracy': 0.860588550567627, 'baseline': 0.7502912878990173}\n"
     ]
    },
    {
     "data": {
      "application/vnd.jupyter.widget-view+json": {
       "model_id": "ddf547f3bdad404aa2bfc8ceef2f764a",
       "version_major": 2,
       "version_minor": 0
      },
      "text/plain": [
       "Evaluating:   0%|          | 0/39 [00:00<?, ?it/s]"
      ]
     },
     "metadata": {},
     "output_type": "display_data"
    },
    {
     "name": "stdout",
     "output_type": "stream",
     "text": [
      "Validation @ 154: {'loss': 0.37737138747941074, 'accuracy': 0.5635956525802612, 'baseline': 0.7364621758460999}\n"
     ]
    },
    {
     "data": {
      "application/vnd.jupyter.widget-view+json": {
       "model_id": "55d95310d475461e99eb7244e9767436",
       "version_major": 2,
       "version_minor": 0
      },
      "text/plain": [
       "Epoch 155:   0%|          | 0/363 [00:00<?, ?it/s]"
      ]
     },
     "metadata": {},
     "output_type": "display_data"
    },
    {
     "name": "stdout",
     "output_type": "stream",
     "text": [
      "Training @ 155: {'loss': 0.1175381333415899, 'accuracy': 0.8565093278884888, 'baseline': 0.7502912878990173}\n"
     ]
    },
    {
     "data": {
      "application/vnd.jupyter.widget-view+json": {
       "model_id": "d8210b104e3847fd9b5f9713187c551a",
       "version_major": 2,
       "version_minor": 0
      },
      "text/plain": [
       "Evaluating:   0%|          | 0/39 [00:00<?, ?it/s]"
      ]
     },
     "metadata": {},
     "output_type": "display_data"
    },
    {
     "name": "stdout",
     "output_type": "stream",
     "text": [
      "Validation @ 155: {'loss': 0.37872491682309456, 'accuracy': 0.5622877478599548, 'baseline': 0.7331170439720154}\n"
     ]
    },
    {
     "data": {
      "application/vnd.jupyter.widget-view+json": {
       "model_id": "ace43d5967a444349ce95a3525fc0e24",
       "version_major": 2,
       "version_minor": 0
      },
      "text/plain": [
       "Epoch 156:   0%|          | 0/363 [00:00<?, ?it/s]"
      ]
     },
     "metadata": {},
     "output_type": "display_data"
    },
    {
     "name": "stdout",
     "output_type": "stream",
     "text": [
      "Training @ 156: {'loss': 0.11942543405693802, 'accuracy': 0.8530382513999939, 'baseline': 0.7502912878990173}\n"
     ]
    },
    {
     "data": {
      "application/vnd.jupyter.widget-view+json": {
       "model_id": "faf7d5bd9a804231be6e03b435807045",
       "version_major": 2,
       "version_minor": 0
      },
      "text/plain": [
       "Evaluating:   0%|          | 0/39 [00:00<?, ?it/s]"
      ]
     },
     "metadata": {},
     "output_type": "display_data"
    },
    {
     "name": "stdout",
     "output_type": "stream",
     "text": [
      "Validation @ 156: {'loss': 0.37722980078489576, 'accuracy': 0.56289142370224, 'baseline': 0.7397570013999939}\n"
     ]
    },
    {
     "data": {
      "application/vnd.jupyter.widget-view+json": {
       "model_id": "20c8ea61bcbb4ab68ed3426af9a4fe7b",
       "version_major": 2,
       "version_minor": 0
      },
      "text/plain": [
       "Epoch 157:   0%|          | 0/363 [00:00<?, ?it/s]"
      ]
     },
     "metadata": {},
     "output_type": "display_data"
    },
    {
     "name": "stdout",
     "output_type": "stream",
     "text": [
      "Training @ 157: {'loss': 0.11789377179167218, 'accuracy': 0.8555890917778015, 'baseline': 0.7502912878990173}\n"
     ]
    },
    {
     "data": {
      "application/vnd.jupyter.widget-view+json": {
       "model_id": "1c3c33b31fdb4da2abb2baad6154acfc",
       "version_major": 2,
       "version_minor": 0
      },
      "text/plain": [
       "Evaluating:   0%|          | 0/39 [00:00<?, ?it/s]"
      ]
     },
     "metadata": {},
     "output_type": "display_data"
    },
    {
     "name": "stdout",
     "output_type": "stream",
     "text": [
      "Validation @ 157: {'loss': 0.37409555117619037, 'accuracy': 0.5645262598991394, 'baseline': 0.7339470386505127}\n"
     ]
    },
    {
     "data": {
      "application/vnd.jupyter.widget-view+json": {
       "model_id": "a7498f5b34404d1e8768e6723c7e6ce4",
       "version_major": 2,
       "version_minor": 0
      },
      "text/plain": [
       "Epoch 158:   0%|          | 0/363 [00:00<?, ?it/s]"
      ]
     },
     "metadata": {},
     "output_type": "display_data"
    },
    {
     "name": "stdout",
     "output_type": "stream",
     "text": [
      "Training @ 158: {'loss': 0.11644776917848856, 'accuracy': 0.8582180142402649, 'baseline': 0.7502912878990173}\n"
     ]
    },
    {
     "data": {
      "application/vnd.jupyter.widget-view+json": {
       "model_id": "3df32b9ed5d245df8e01a6ee6390ab23",
       "version_major": 2,
       "version_minor": 0
      },
      "text/plain": [
       "Evaluating:   0%|          | 0/39 [00:00<?, ?it/s]"
      ]
     },
     "metadata": {},
     "output_type": "display_data"
    },
    {
     "name": "stdout",
     "output_type": "stream",
     "text": [
      "Validation @ 158: {'loss': 0.37228295839214537, 'accuracy': 0.5664377808570862, 'baseline': 0.7138509154319763}\n"
     ]
    },
    {
     "data": {
      "application/vnd.jupyter.widget-view+json": {
       "model_id": "e18a0cea548847d792c741b047685474",
       "version_major": 2,
       "version_minor": 0
      },
      "text/plain": [
       "Epoch 159:   0%|          | 0/363 [00:00<?, ?it/s]"
      ]
     },
     "metadata": {},
     "output_type": "display_data"
    },
    {
     "name": "stdout",
     "output_type": "stream",
     "text": [
      "Training @ 159: {'loss': 0.11533266863899558, 'accuracy': 0.8603006601333618, 'baseline': 0.7502912878990173}\n"
     ]
    },
    {
     "data": {
      "application/vnd.jupyter.widget-view+json": {
       "model_id": "f5048ace48c54bac9ba248bbf1cfd2fa",
       "version_major": 2,
       "version_minor": 0
      },
      "text/plain": [
       "Evaluating:   0%|          | 0/39 [00:00<?, ?it/s]"
      ]
     },
     "metadata": {},
     "output_type": "display_data"
    },
    {
     "name": "stdout",
     "output_type": "stream",
     "text": [
      "Validation @ 159: {'loss': 0.3715757809026749, 'accuracy': 0.5664880871772766, 'baseline': 0.736713707447052}\n"
     ]
    },
    {
     "data": {
      "application/vnd.jupyter.widget-view+json": {
       "model_id": "6337406863094d8ca2369c72a39b9840",
       "version_major": 2,
       "version_minor": 0
      },
      "text/plain": [
       "Epoch 160:   0%|          | 0/363 [00:00<?, ?it/s]"
      ]
     },
     "metadata": {},
     "output_type": "display_data"
    },
    {
     "name": "stdout",
     "output_type": "stream",
     "text": [
      "Training @ 160: {'loss': 0.11440691494951591, 'accuracy': 0.8618289828300476, 'baseline': 0.7502912878990173}\n"
     ]
    },
    {
     "data": {
      "application/vnd.jupyter.widget-view+json": {
       "model_id": "2a6d686de9f84a0fa50518ff4d409ffd",
       "version_major": 2,
       "version_minor": 0
      },
      "text/plain": [
       "Evaluating:   0%|          | 0/39 [00:00<?, ?it/s]"
      ]
     },
     "metadata": {},
     "output_type": "display_data"
    },
    {
     "name": "stdout",
     "output_type": "stream",
     "text": [
      "Validation @ 160: {'loss': 0.3714903882039217, 'accuracy': 0.5667144656181335, 'baseline': 0.7315073013305664}\n"
     ]
    },
    {
     "data": {
      "application/vnd.jupyter.widget-view+json": {
       "model_id": "274490a4297f461f86b7a08e9b7f8b4e",
       "version_major": 2,
       "version_minor": 0
      },
      "text/plain": [
       "Epoch 161:   0%|          | 0/363 [00:00<?, ?it/s]"
      ]
     },
     "metadata": {},
     "output_type": "display_data"
    },
    {
     "name": "stdout",
     "output_type": "stream",
     "text": [
      "Training @ 161: {'loss': 0.11355037430033967, 'accuracy': 0.8636963963508606, 'baseline': 0.7502912878990173}\n"
     ]
    },
    {
     "data": {
      "application/vnd.jupyter.widget-view+json": {
       "model_id": "eb993166ef6c47b781b655bb373d0015",
       "version_major": 2,
       "version_minor": 0
      },
      "text/plain": [
       "Evaluating:   0%|          | 0/39 [00:00<?, ?it/s]"
      ]
     },
     "metadata": {},
     "output_type": "display_data"
    },
    {
     "name": "stdout",
     "output_type": "stream",
     "text": [
      "Validation @ 161: {'loss': 0.3717532732469095, 'accuracy': 0.5666893124580383, 'baseline': 0.7364370226860046}\n"
     ]
    },
    {
     "data": {
      "application/vnd.jupyter.widget-view+json": {
       "model_id": "bc5744462395440d83d534efa41c5ebe",
       "version_major": 2,
       "version_minor": 0
      },
      "text/plain": [
       "Epoch 162:   0%|          | 0/363 [00:00<?, ?it/s]"
      ]
     },
     "metadata": {},
     "output_type": "display_data"
    },
    {
     "name": "stdout",
     "output_type": "stream",
     "text": [
      "Training @ 162: {'loss': 0.11280269715923515, 'accuracy': 0.8650525212287903, 'baseline': 0.7502912878990173}\n"
     ]
    },
    {
     "data": {
      "application/vnd.jupyter.widget-view+json": {
       "model_id": "1fca6a34c670455fb2039c81aa596a1d",
       "version_major": 2,
       "version_minor": 0
      },
      "text/plain": [
       "Evaluating:   0%|          | 0/39 [00:00<?, ?it/s]"
      ]
     },
     "metadata": {},
     "output_type": "display_data"
    },
    {
     "name": "stdout",
     "output_type": "stream",
     "text": [
      "Validation @ 162: {'loss': 0.3722166032069028, 'accuracy': 0.5663371682167053, 'baseline': 0.7385246157646179}\n"
     ]
    },
    {
     "data": {
      "application/vnd.jupyter.widget-view+json": {
       "model_id": "c0d2b08beae0414883407bc04a098eb2",
       "version_major": 2,
       "version_minor": 0
      },
      "text/plain": [
       "Epoch 163:   0%|          | 0/363 [00:00<?, ?it/s]"
      ]
     },
     "metadata": {},
     "output_type": "display_data"
    },
    {
     "name": "stdout",
     "output_type": "stream",
     "text": [
      "Training @ 163: {'loss': 0.11206932712608811, 'accuracy': 0.866478681564331, 'baseline': 0.7502912878990173}\n"
     ]
    },
    {
     "data": {
      "application/vnd.jupyter.widget-view+json": {
       "model_id": "a1dc11882b28469a9082afc609c3f5a4",
       "version_major": 2,
       "version_minor": 0
      },
      "text/plain": [
       "Evaluating:   0%|          | 0/39 [00:00<?, ?it/s]"
      ]
     },
     "metadata": {},
     "output_type": "display_data"
    },
    {
     "name": "stdout",
     "output_type": "stream",
     "text": [
      "Validation @ 163: {'loss': 0.3728195269990997, 'accuracy': 0.5657838582992554, 'baseline': 0.7314318418502808}\n"
     ]
    },
    {
     "data": {
      "application/vnd.jupyter.widget-view+json": {
       "model_id": "329c3044ecd948c1b3f5e5a2eeb3b7cc",
       "version_major": 2,
       "version_minor": 0
      },
      "text/plain": [
       "Epoch 164:   0%|          | 0/363 [00:00<?, ?it/s]"
      ]
     },
     "metadata": {},
     "output_type": "display_data"
    },
    {
     "name": "stdout",
     "output_type": "stream",
     "text": [
      "Training @ 164: {'loss': 0.11142579757346767, 'accuracy': 0.8675845861434937, 'baseline': 0.7502912878990173}\n"
     ]
    },
    {
     "data": {
      "application/vnd.jupyter.widget-view+json": {
       "model_id": "55cd980b8a8f477daf4d83f7a74b3252",
       "version_major": 2,
       "version_minor": 0
      },
      "text/plain": [
       "Evaluating:   0%|          | 0/39 [00:00<?, ?it/s]"
      ]
     },
     "metadata": {},
     "output_type": "display_data"
    },
    {
     "name": "stdout",
     "output_type": "stream",
     "text": [
      "Validation @ 164: {'loss': 0.3735431481768642, 'accuracy': 0.5652304887771606, 'baseline': 0.7420458197593689}\n"
     ]
    },
    {
     "data": {
      "application/vnd.jupyter.widget-view+json": {
       "model_id": "297b8c643228480696a93288beb9d777",
       "version_major": 2,
       "version_minor": 0
      },
      "text/plain": [
       "Epoch 165:   0%|          | 0/363 [00:00<?, ?it/s]"
      ]
     },
     "metadata": {},
     "output_type": "display_data"
    },
    {
     "name": "stdout",
     "output_type": "stream",
     "text": [
      "Training @ 165: {'loss': 0.1108018273876509, 'accuracy': 0.8688384294509888, 'baseline': 0.7502912878990173}\n"
     ]
    },
    {
     "data": {
      "application/vnd.jupyter.widget-view+json": {
       "model_id": "ca60fd1dbe8346fb9e1ec2f3e3dba1b0",
       "version_major": 2,
       "version_minor": 0
      },
      "text/plain": [
       "Evaluating:   0%|          | 0/39 [00:00<?, ?it/s]"
      ]
     },
     "metadata": {},
     "output_type": "display_data"
    },
    {
     "name": "stdout",
     "output_type": "stream",
     "text": [
      "Validation @ 165: {'loss': 0.3743652399569295, 'accuracy': 0.5651298761367798, 'baseline': 0.7266279458999634}\n"
     ]
    },
    {
     "data": {
      "application/vnd.jupyter.widget-view+json": {
       "model_id": "db4a509533d24d5b81ac1400e780e3a6",
       "version_major": 2,
       "version_minor": 0
      },
      "text/plain": [
       "Epoch 166:   0%|          | 0/363 [00:00<?, ?it/s]"
      ]
     },
     "metadata": {},
     "output_type": "display_data"
    },
    {
     "name": "stdout",
     "output_type": "stream",
     "text": [
      "Training @ 166: {'loss': 0.11026142168896946, 'accuracy': 0.8699793219566345, 'baseline': 0.7502912878990173}\n"
     ]
    },
    {
     "data": {
      "application/vnd.jupyter.widget-view+json": {
       "model_id": "47d120739cd0412b8e268c342ef7be0e",
       "version_major": 2,
       "version_minor": 0
      },
      "text/plain": [
       "Evaluating:   0%|          | 0/39 [00:00<?, ?it/s]"
      ]
     },
     "metadata": {},
     "output_type": "display_data"
    },
    {
     "name": "stdout",
     "output_type": "stream",
     "text": [
      "Validation @ 166: {'loss': 0.37524466848492743, 'accuracy': 0.564249575138092, 'baseline': 0.7296712398529053}\n"
     ]
    },
    {
     "data": {
      "application/vnd.jupyter.widget-view+json": {
       "model_id": "eb73c09e936740328920701ac7cdff46",
       "version_major": 2,
       "version_minor": 0
      },
      "text/plain": [
       "Epoch 167:   0%|          | 0/363 [00:00<?, ?it/s]"
      ]
     },
     "metadata": {},
     "output_type": "display_data"
    },
    {
     "name": "stdout",
     "output_type": "stream",
     "text": [
      "Training @ 167: {'loss': 0.10975602439382412, 'accuracy': 0.8709937930107117, 'baseline': 0.7502912878990173}\n"
     ]
    },
    {
     "data": {
      "application/vnd.jupyter.widget-view+json": {
       "model_id": "d9baef3f04024bc1a88a5cb176718112",
       "version_major": 2,
       "version_minor": 0
      },
      "text/plain": [
       "Evaluating:   0%|          | 0/39 [00:00<?, ?it/s]"
      ]
     },
     "metadata": {},
     "output_type": "display_data"
    },
    {
     "name": "stdout",
     "output_type": "stream",
     "text": [
      "Validation @ 167: {'loss': 0.3761649326566761, 'accuracy': 0.5636962652206421, 'baseline': 0.7368143200874329}\n"
     ]
    },
    {
     "data": {
      "application/vnd.jupyter.widget-view+json": {
       "model_id": "e8f1276f92a84aca837b635b4dd48147",
       "version_major": 2,
       "version_minor": 0
      },
      "text/plain": [
       "Epoch 168:   0%|          | 0/363 [00:00<?, ?it/s]"
      ]
     },
     "metadata": {},
     "output_type": "display_data"
    },
    {
     "name": "stdout",
     "output_type": "stream",
     "text": [
      "Training @ 168: {'loss': 0.10934276783055456, 'accuracy': 0.8717767596244812, 'baseline': 0.7502912878990173}\n"
     ]
    },
    {
     "data": {
      "application/vnd.jupyter.widget-view+json": {
       "model_id": "d7800461e66d4393a9e7ce395b9f3809",
       "version_major": 2,
       "version_minor": 0
      },
      "text/plain": [
       "Evaluating:   0%|          | 0/39 [00:00<?, ?it/s]"
      ]
     },
     "metadata": {},
     "output_type": "display_data"
    },
    {
     "name": "stdout",
     "output_type": "stream",
     "text": [
      "Validation @ 168: {'loss': 0.3771653977113607, 'accuracy': 0.5635453462600708, 'baseline': 0.7408385276794434}\n"
     ]
    },
    {
     "data": {
      "application/vnd.jupyter.widget-view+json": {
       "model_id": "d9d7e9e589ae4ee18ca9d93f0d3f05af",
       "version_major": 2,
       "version_minor": 0
      },
      "text/plain": [
       "Epoch 169:   0%|          | 0/363 [00:00<?, ?it/s]"
      ]
     },
     "metadata": {},
     "output_type": "display_data"
    },
    {
     "name": "stdout",
     "output_type": "stream",
     "text": [
      "Training @ 169: {'loss': 0.10902170902259248, 'accuracy': 0.8724091053009033, 'baseline': 0.7502912878990173}\n"
     ]
    },
    {
     "data": {
      "application/vnd.jupyter.widget-view+json": {
       "model_id": "f9bd7f1eb8e340cbba698b4e1cb08768",
       "version_major": 2,
       "version_minor": 0
      },
      "text/plain": [
       "Evaluating:   0%|          | 0/39 [00:00<?, ?it/s]"
      ]
     },
     "metadata": {},
     "output_type": "display_data"
    },
    {
     "name": "stdout",
     "output_type": "stream",
     "text": [
      "Validation @ 169: {'loss': 0.37829458625906265, 'accuracy': 0.5627908110618591, 'baseline': 0.7320355176925659}\n"
     ]
    },
    {
     "data": {
      "application/vnd.jupyter.widget-view+json": {
       "model_id": "3663569d619d4992ab620d693715f524",
       "version_major": 2,
       "version_minor": 0
      },
      "text/plain": [
       "Epoch 170:   0%|          | 0/363 [00:00<?, ?it/s]"
      ]
     },
     "metadata": {},
     "output_type": "display_data"
    },
    {
     "name": "stdout",
     "output_type": "stream",
     "text": [
      "Training @ 170: {'loss': 0.10886446590359476, 'accuracy': 0.8727266192436218, 'baseline': 0.7502912878990173}\n"
     ]
    },
    {
     "data": {
      "application/vnd.jupyter.widget-view+json": {
       "model_id": "51388cdb60ff40c29f74bfd42d0671ab",
       "version_major": 2,
       "version_minor": 0
      },
      "text/plain": [
       "Evaluating:   0%|          | 0/39 [00:00<?, ?it/s]"
      ]
     },
     "metadata": {},
     "output_type": "display_data"
    },
    {
     "name": "stdout",
     "output_type": "stream",
     "text": [
      "Validation @ 170: {'loss': 0.37967270525316316, 'accuracy': 0.5617847442626953, 'baseline': 0.7320858240127563}\n"
     ]
    },
    {
     "data": {
      "application/vnd.jupyter.widget-view+json": {
       "model_id": "3e94754a715d4805860992864e78e502",
       "version_major": 2,
       "version_minor": 0
      },
      "text/plain": [
       "Epoch 171:   0%|          | 0/363 [00:00<?, ?it/s]"
      ]
     },
     "metadata": {},
     "output_type": "display_data"
    },
    {
     "name": "stdout",
     "output_type": "stream",
     "text": [
      "Training @ 171: {'loss': 0.10896787395746586, 'accuracy': 0.8725517392158508, 'baseline': 0.7502912878990173}\n"
     ]
    },
    {
     "data": {
      "application/vnd.jupyter.widget-view+json": {
       "model_id": "ef4317ff694d40c9aef514fcce20074e",
       "version_major": 2,
       "version_minor": 0
      },
      "text/plain": [
       "Evaluating:   0%|          | 0/39 [00:00<?, ?it/s]"
      ]
     },
     "metadata": {},
     "output_type": "display_data"
    },
    {
     "name": "stdout",
     "output_type": "stream",
     "text": [
      "Validation @ 171: {'loss': 0.3814525474616677, 'accuracy': 0.5612565875053406, 'baseline': 0.7180261015892029}\n"
     ]
    },
    {
     "data": {
      "application/vnd.jupyter.widget-view+json": {
       "model_id": "b6022894685c4650971f307f4f2b4677",
       "version_major": 2,
       "version_minor": 0
      },
      "text/plain": [
       "Epoch 172:   0%|          | 0/363 [00:00<?, ?it/s]"
      ]
     },
     "metadata": {},
     "output_type": "display_data"
    },
    {
     "name": "stdout",
     "output_type": "stream",
     "text": [
      "Training @ 172: {'loss': 0.10978504028522788, 'accuracy': 0.8706358671188354, 'baseline': 0.7502912878990173}\n"
     ]
    },
    {
     "data": {
      "application/vnd.jupyter.widget-view+json": {
       "model_id": "39534eb38b884722afe88d282a52a8b5",
       "version_major": 2,
       "version_minor": 0
      },
      "text/plain": [
       "Evaluating:   0%|          | 0/39 [00:00<?, ?it/s]"
      ]
     },
     "metadata": {},
     "output_type": "display_data"
    },
    {
     "name": "stdout",
     "output_type": "stream",
     "text": [
      "Validation @ 172: {'loss': 0.38451438058042986, 'accuracy': 0.5595462322235107, 'baseline': 0.7367891669273376}\n"
     ]
    },
    {
     "data": {
      "application/vnd.jupyter.widget-view+json": {
       "model_id": "275c7c92990c4130bae53536ffbafc18",
       "version_major": 2,
       "version_minor": 0
      },
      "text/plain": [
       "Epoch 173:   0%|          | 0/363 [00:00<?, ?it/s]"
      ]
     },
     "metadata": {},
     "output_type": "display_data"
    },
    {
     "name": "stdout",
     "output_type": "stream",
     "text": [
      "Training @ 173: {'loss': 0.11176707382649179, 'accuracy': 0.8661638498306274, 'baseline': 0.7502912878990173}\n"
     ]
    },
    {
     "data": {
      "application/vnd.jupyter.widget-view+json": {
       "model_id": "43695f37d27846ac8e7b84dda170d5e9",
       "version_major": 2,
       "version_minor": 0
      },
      "text/plain": [
       "Evaluating:   0%|          | 0/39 [00:00<?, ?it/s]"
      ]
     },
     "metadata": {},
     "output_type": "display_data"
    },
    {
     "name": "stdout",
     "output_type": "stream",
     "text": [
      "Validation @ 173: {'loss': 0.38791213784797945, 'accuracy': 0.5564526319503784, 'baseline': 0.7385497689247131}\n"
     ]
    },
    {
     "data": {
      "application/vnd.jupyter.widget-view+json": {
       "model_id": "3690bfeb0047439dbcba0a63d068ba7a",
       "version_major": 2,
       "version_minor": 0
      },
      "text/plain": [
       "Epoch 174:   0%|          | 0/363 [00:00<?, ?it/s]"
      ]
     },
     "metadata": {},
     "output_type": "display_data"
    },
    {
     "name": "stdout",
     "output_type": "stream",
     "text": [
      "Training @ 174: {'loss': 0.11199025528163585, 'accuracy': 0.86544269323349, 'baseline': 0.7502912878990173}\n"
     ]
    },
    {
     "data": {
      "application/vnd.jupyter.widget-view+json": {
       "model_id": "903d70c05cdb46ba87bf4d321878ac51",
       "version_major": 2,
       "version_minor": 0
      },
      "text/plain": [
       "Evaluating:   0%|          | 0/39 [00:00<?, ?it/s]"
      ]
     },
     "metadata": {},
     "output_type": "display_data"
    },
    {
     "name": "stdout",
     "output_type": "stream",
     "text": [
      "Validation @ 174: {'loss': 0.3848819668614896, 'accuracy': 0.5588420033454895, 'baseline': 0.7376694679260254}\n"
     ]
    },
    {
     "data": {
      "application/vnd.jupyter.widget-view+json": {
       "model_id": "4d0c5a15fbde4c7bad2978a51cb7a344",
       "version_major": 2,
       "version_minor": 0
      },
      "text/plain": [
       "Epoch 175:   0%|          | 0/363 [00:00<?, ?it/s]"
      ]
     },
     "metadata": {},
     "output_type": "display_data"
    },
    {
     "name": "stdout",
     "output_type": "stream",
     "text": [
      "Training @ 175: {'loss': 0.11031242368937333, 'accuracy': 0.8687308430671692, 'baseline': 0.7502912878990173}\n"
     ]
    },
    {
     "data": {
      "application/vnd.jupyter.widget-view+json": {
       "model_id": "492dfb01f8c24e78a7e642dc144e83ce",
       "version_major": 2,
       "version_minor": 0
      },
      "text/plain": [
       "Evaluating:   0%|          | 0/39 [00:00<?, ?it/s]"
      ]
     },
     "metadata": {},
     "output_type": "display_data"
    },
    {
     "name": "stdout",
     "output_type": "stream",
     "text": [
      "Validation @ 175: {'loss': 0.3835012424792402, 'accuracy': 0.5598229169845581, 'baseline': 0.7317588329315186}\n"
     ]
    },
    {
     "data": {
      "application/vnd.jupyter.widget-view+json": {
       "model_id": "1c655cd52490408e84137e6268981788",
       "version_major": 2,
       "version_minor": 0
      },
      "text/plain": [
       "Epoch 176:   0%|          | 0/363 [00:00<?, ?it/s]"
      ]
     },
     "metadata": {},
     "output_type": "display_data"
    },
    {
     "name": "stdout",
     "output_type": "stream",
     "text": [
      "Training @ 176: {'loss': 0.10892707831380219, 'accuracy': 0.8715265393257141, 'baseline': 0.7502912878990173}\n"
     ]
    },
    {
     "data": {
      "application/vnd.jupyter.widget-view+json": {
       "model_id": "abd7ca6ffbf54382b9caf6d06e63ae5a",
       "version_major": 2,
       "version_minor": 0
      },
      "text/plain": [
       "Evaluating:   0%|          | 0/39 [00:00<?, ?it/s]"
      ]
     },
     "metadata": {},
     "output_type": "display_data"
    },
    {
     "name": "stdout",
     "output_type": "stream",
     "text": [
      "Validation @ 176: {'loss': 0.3831996021840968, 'accuracy': 0.5610302090644836, 'baseline': 0.7336200475692749}\n"
     ]
    },
    {
     "data": {
      "application/vnd.jupyter.widget-view+json": {
       "model_id": "65c055291dd7413ba69164be58c958f1",
       "version_major": 2,
       "version_minor": 0
      },
      "text/plain": [
       "Epoch 177:   0%|          | 0/363 [00:00<?, ?it/s]"
      ]
     },
     "metadata": {},
     "output_type": "display_data"
    },
    {
     "name": "stdout",
     "output_type": "stream",
     "text": [
      "Training @ 177: {'loss': 0.1078612685349821, 'accuracy': 0.8737679719924927, 'baseline': 0.7502912878990173}\n"
     ]
    },
    {
     "data": {
      "application/vnd.jupyter.widget-view+json": {
       "model_id": "9036e8de63dd421a890fe7a3f491d317",
       "version_major": 2,
       "version_minor": 0
      },
      "text/plain": [
       "Evaluating:   0%|          | 0/39 [00:00<?, ?it/s]"
      ]
     },
     "metadata": {},
     "output_type": "display_data"
    },
    {
     "name": "stdout",
     "output_type": "stream",
     "text": [
      "Validation @ 177: {'loss': 0.383327754735407, 'accuracy': 0.5608792901039124, 'baseline': 0.7413918972015381}\n"
     ]
    },
    {
     "data": {
      "application/vnd.jupyter.widget-view+json": {
       "model_id": "654e74bed16f43bbae2b8affea8e5dce",
       "version_major": 2,
       "version_minor": 0
      },
      "text/plain": [
       "Epoch 178:   0%|          | 0/363 [00:00<?, ?it/s]"
      ]
     },
     "metadata": {},
     "output_type": "display_data"
    },
    {
     "name": "stdout",
     "output_type": "stream",
     "text": [
      "Training @ 178: {'loss': 0.10691625892021869, 'accuracy': 0.8757752776145935, 'baseline': 0.7502912878990173}\n"
     ]
    },
    {
     "data": {
      "application/vnd.jupyter.widget-view+json": {
       "model_id": "fdb2704030fd4a7aabc35786aac769ad",
       "version_major": 2,
       "version_minor": 0
      },
      "text/plain": [
       "Evaluating:   0%|          | 0/39 [00:00<?, ?it/s]"
      ]
     },
     "metadata": {},
     "output_type": "display_data"
    },
    {
     "name": "stdout",
     "output_type": "stream",
     "text": [
      "Validation @ 178: {'loss': 0.38368911147207563, 'accuracy': 0.5608541369438171, 'baseline': 0.7399582266807556}\n"
     ]
    },
    {
     "data": {
      "application/vnd.jupyter.widget-view+json": {
       "model_id": "70367a888c7541bbb17524b634f084d2",
       "version_major": 2,
       "version_minor": 0
      },
      "text/plain": [
       "Epoch 179:   0%|          | 0/363 [00:00<?, ?it/s]"
      ]
     },
     "metadata": {},
     "output_type": "display_data"
    },
    {
     "name": "stdout",
     "output_type": "stream",
     "text": [
      "Training @ 179: {'loss': 0.10606156994094904, 'accuracy': 0.8772928714752197, 'baseline': 0.7502912878990173}\n"
     ]
    },
    {
     "data": {
      "application/vnd.jupyter.widget-view+json": {
       "model_id": "124faae97f894722b46fd4c4e143c5cc",
       "version_major": 2,
       "version_minor": 0
      },
      "text/plain": [
       "Evaluating:   0%|          | 0/39 [00:00<?, ?it/s]"
      ]
     },
     "metadata": {},
     "output_type": "display_data"
    },
    {
     "name": "stdout",
     "output_type": "stream",
     "text": [
      "Validation @ 179: {'loss': 0.38420643033556523, 'accuracy': 0.5609295964241028, 'baseline': 0.7220754623413086}\n"
     ]
    },
    {
     "data": {
      "application/vnd.jupyter.widget-view+json": {
       "model_id": "8a6d6b8a38d5462d8566681b3e6aef17",
       "version_major": 2,
       "version_minor": 0
      },
      "text/plain": [
       "Epoch 180:   0%|          | 0/363 [00:00<?, ?it/s]"
      ]
     },
     "metadata": {},
     "output_type": "display_data"
    },
    {
     "name": "stdout",
     "output_type": "stream",
     "text": [
      "Training @ 180: {'loss': 0.10525953975342084, 'accuracy': 0.8787620067596436, 'baseline': 0.7502912878990173}\n"
     ]
    },
    {
     "data": {
      "application/vnd.jupyter.widget-view+json": {
       "model_id": "bafbf290b6bf48a4a9ad65b9a2dea685",
       "version_major": 2,
       "version_minor": 0
      },
      "text/plain": [
       "Evaluating:   0%|          | 0/39 [00:00<?, ?it/s]"
      ]
     },
     "metadata": {},
     "output_type": "display_data"
    },
    {
     "name": "stdout",
     "output_type": "stream",
     "text": [
      "Validation @ 180: {'loss': 0.3848280936922567, 'accuracy': 0.5608792901039124, 'baseline': 0.7335697412490845}\n"
     ]
    },
    {
     "data": {
      "application/vnd.jupyter.widget-view+json": {
       "model_id": "61d9dee16117441e89cc5e1d70c113dd",
       "version_major": 2,
       "version_minor": 0
      },
      "text/plain": [
       "Epoch 181:   0%|          | 0/363 [00:00<?, ?it/s]"
      ]
     },
     "metadata": {},
     "output_type": "display_data"
    },
    {
     "name": "stdout",
     "output_type": "stream",
     "text": [
      "Training @ 181: {'loss': 0.10451827511146822, 'accuracy': 0.8800105452537537, 'baseline': 0.7502912878990173}\n"
     ]
    },
    {
     "data": {
      "application/vnd.jupyter.widget-view+json": {
       "model_id": "6c0380678c1849fbb206df5314a31750",
       "version_major": 2,
       "version_minor": 0
      },
      "text/plain": [
       "Evaluating:   0%|          | 0/39 [00:00<?, ?it/s]"
      ]
     },
     "metadata": {},
     "output_type": "display_data"
    },
    {
     "name": "stdout",
     "output_type": "stream",
     "text": [
      "Validation @ 181: {'loss': 0.3855383053263439, 'accuracy': 0.5604265332221985, 'baseline': 0.73533034324646}\n"
     ]
    },
    {
     "data": {
      "application/vnd.jupyter.widget-view+json": {
       "model_id": "97a4333fedc94864b40fbf06341c8b92",
       "version_major": 2,
       "version_minor": 0
      },
      "text/plain": [
       "Epoch 182:   0%|          | 0/363 [00:00<?, ?it/s]"
      ]
     },
     "metadata": {},
     "output_type": "display_data"
    },
    {
     "name": "stdout",
     "output_type": "stream",
     "text": [
      "Training @ 182: {'loss': 0.10383438041366076, 'accuracy': 0.8811352849006653, 'baseline': 0.7502912878990173}\n"
     ]
    },
    {
     "data": {
      "application/vnd.jupyter.widget-view+json": {
       "model_id": "12f759db8d014ae8b5f379683cee37f0",
       "version_major": 2,
       "version_minor": 0
      },
      "text/plain": [
       "Evaluating:   0%|          | 0/39 [00:00<?, ?it/s]"
      ]
     },
     "metadata": {},
     "output_type": "display_data"
    },
    {
     "name": "stdout",
     "output_type": "stream",
     "text": [
      "Validation @ 182: {'loss': 0.3863043866139182, 'accuracy': 0.560275673866272, 'baseline': 0.7363364100456238}\n"
     ]
    },
    {
     "data": {
      "application/vnd.jupyter.widget-view+json": {
       "model_id": "3a7480469ca14a9e9bd6650a3348e082",
       "version_major": 2,
       "version_minor": 0
      },
      "text/plain": [
       "Epoch 183:   0%|          | 0/363 [00:00<?, ?it/s]"
      ]
     },
     "metadata": {},
     "output_type": "display_data"
    },
    {
     "name": "stdout",
     "output_type": "stream",
     "text": [
      "Training @ 183: {'loss': 0.10321597917951841, 'accuracy': 0.882219672203064, 'baseline': 0.7502912878990173}\n"
     ]
    },
    {
     "data": {
      "application/vnd.jupyter.widget-view+json": {
       "model_id": "f065fccb682b494bb35b8bd37c20dd3c",
       "version_major": 2,
       "version_minor": 0
      },
      "text/plain": [
       "Evaluating:   0%|          | 0/39 [00:00<?, ?it/s]"
      ]
     },
     "metadata": {},
     "output_type": "display_data"
    },
    {
     "name": "stdout",
     "output_type": "stream",
     "text": [
      "Validation @ 183: {'loss': 0.38712113986324986, 'accuracy': 0.5600241422653198, 'baseline': 0.7242133617401123}\n"
     ]
    },
    {
     "data": {
      "application/vnd.jupyter.widget-view+json": {
       "model_id": "cf8a836e932a4693802ea6520f1f5251",
       "version_major": 2,
       "version_minor": 0
      },
      "text/plain": [
       "Epoch 184:   0%|          | 0/363 [00:00<?, ?it/s]"
      ]
     },
     "metadata": {},
     "output_type": "display_data"
    },
    {
     "name": "stdout",
     "output_type": "stream",
     "text": [
      "Training @ 184: {'loss': 0.10265474071862994, 'accuracy': 0.8831990957260132, 'baseline': 0.7502912878990173}\n"
     ]
    },
    {
     "data": {
      "application/vnd.jupyter.widget-view+json": {
       "model_id": "40f235bda3714f7e9c47ad59ceeded3d",
       "version_major": 2,
       "version_minor": 0
      },
      "text/plain": [
       "Evaluating:   0%|          | 0/39 [00:00<?, ?it/s]"
      ]
     },
     "metadata": {},
     "output_type": "display_data"
    },
    {
     "name": "stdout",
     "output_type": "stream",
     "text": [
      "Validation @ 184: {'loss': 0.38795102548918864, 'accuracy': 0.5601750612258911, 'baseline': 0.7340978980064392}\n"
     ]
    },
    {
     "data": {
      "application/vnd.jupyter.widget-view+json": {
       "model_id": "d87c56eaf6c84656937b414ddf7fd7d2",
       "version_major": 2,
       "version_minor": 0
      },
      "text/plain": [
       "Epoch 185:   0%|          | 0/363 [00:00<?, ?it/s]"
      ]
     },
     "metadata": {},
     "output_type": "display_data"
    },
    {
     "name": "stdout",
     "output_type": "stream",
     "text": [
      "Training @ 185: {'loss': 0.10214733839925397, 'accuracy': 0.8841139674186707, 'baseline': 0.7502912878990173}\n"
     ]
    },
    {
     "data": {
      "application/vnd.jupyter.widget-view+json": {
       "model_id": "78243ca1929f4bbfb03f2c7e26713cf3",
       "version_major": 2,
       "version_minor": 0
      },
      "text/plain": [
       "Evaluating:   0%|          | 0/39 [00:00<?, ?it/s]"
      ]
     },
     "metadata": {},
     "output_type": "display_data"
    },
    {
     "name": "stdout",
     "output_type": "stream",
     "text": [
      "Validation @ 185: {'loss': 0.3887791731972585, 'accuracy': 0.5602002143859863, 'baseline': 0.7408385276794434}\n"
     ]
    },
    {
     "data": {
      "application/vnd.jupyter.widget-view+json": {
       "model_id": "bb0b7583d0b34d419d0d2af18ec3b458",
       "version_major": 2,
       "version_minor": 0
      },
      "text/plain": [
       "Epoch 186:   0%|          | 0/363 [00:00<?, ?it/s]"
      ]
     },
     "metadata": {},
     "output_type": "display_data"
    },
    {
     "name": "stdout",
     "output_type": "stream",
     "text": [
      "Training @ 186: {'loss': 0.10168979124719608, 'accuracy': 0.8849023580551147, 'baseline': 0.7502912878990173}\n"
     ]
    },
    {
     "data": {
      "application/vnd.jupyter.widget-view+json": {
       "model_id": "7555cfa8a0ef4cd281a59922de2e560a",
       "version_major": 2,
       "version_minor": 0
      },
      "text/plain": [
       "Evaluating:   0%|          | 0/39 [00:00<?, ?it/s]"
      ]
     },
     "metadata": {},
     "output_type": "display_data"
    },
    {
     "name": "stdout",
     "output_type": "stream",
     "text": [
      "Validation @ 186: {'loss': 0.38957150439197963, 'accuracy': 0.5603259801864624, 'baseline': 0.7341733574867249}\n"
     ]
    },
    {
     "data": {
      "application/vnd.jupyter.widget-view+json": {
       "model_id": "4cb4040ec4904a2cb4bb874ea37d6f03",
       "version_major": 2,
       "version_minor": 0
      },
      "text/plain": [
       "Epoch 187:   0%|          | 0/363 [00:00<?, ?it/s]"
      ]
     },
     "metadata": {},
     "output_type": "display_data"
    },
    {
     "name": "stdout",
     "output_type": "stream",
     "text": [
      "Training @ 187: {'loss': 0.1012683552156767, 'accuracy': 0.885744571685791, 'baseline': 0.7502912878990173}\n"
     ]
    },
    {
     "data": {
      "application/vnd.jupyter.widget-view+json": {
       "model_id": "81aea0b636d248d796b017683a1d72c2",
       "version_major": 2,
       "version_minor": 0
      },
      "text/plain": [
       "Evaluating:   0%|          | 0/39 [00:00<?, ?it/s]"
      ]
     },
     "metadata": {},
     "output_type": "display_data"
    },
    {
     "name": "stdout",
     "output_type": "stream",
     "text": [
      "Validation @ 187: {'loss': 0.3903362001800127, 'accuracy': 0.5604768395423889, 'baseline': 0.7268794178962708}\n"
     ]
    },
    {
     "data": {
      "application/vnd.jupyter.widget-view+json": {
       "model_id": "fa538c28c5b6471c831233f7642bfacb",
       "version_major": 2,
       "version_minor": 0
      },
      "text/plain": [
       "Epoch 188:   0%|          | 0/363 [00:00<?, ?it/s]"
      ]
     },
     "metadata": {},
     "output_type": "display_data"
    },
    {
     "name": "stdout",
     "output_type": "stream",
     "text": [
      "Training @ 188: {'loss': 0.10088875467485481, 'accuracy': 0.8865517973899841, 'baseline': 0.7502912878990173}\n"
     ]
    },
    {
     "data": {
      "application/vnd.jupyter.widget-view+json": {
       "model_id": "6ef56d840e7f437fbcb77747556f2bf8",
       "version_major": 2,
       "version_minor": 0
      },
      "text/plain": [
       "Evaluating:   0%|          | 0/39 [00:00<?, ?it/s]"
      ]
     },
     "metadata": {},
     "output_type": "display_data"
    },
    {
     "name": "stdout",
     "output_type": "stream",
     "text": [
      "Validation @ 188: {'loss': 0.39104726959238495, 'accuracy': 0.5605271458625793, 'baseline': 0.7319097518920898}\n"
     ]
    },
    {
     "data": {
      "application/vnd.jupyter.widget-view+json": {
       "model_id": "216fb5bb4d9944f8b36abfa2276c9693",
       "version_major": 2,
       "version_minor": 0
      },
      "text/plain": [
       "Epoch 189:   0%|          | 0/363 [00:00<?, ?it/s]"
      ]
     },
     "metadata": {},
     "output_type": "display_data"
    },
    {
     "name": "stdout",
     "output_type": "stream",
     "text": [
      "Training @ 189: {'loss': 0.10053687603435761, 'accuracy': 0.8871841430664062, 'baseline': 0.7502912878990173}\n"
     ]
    },
    {
     "data": {
      "application/vnd.jupyter.widget-view+json": {
       "model_id": "cff23b2b76f64d33ad8e0bed777de68c",
       "version_major": 2,
       "version_minor": 0
      },
      "text/plain": [
       "Evaluating:   0%|          | 0/39 [00:00<?, ?it/s]"
      ]
     },
     "metadata": {},
     "output_type": "display_data"
    },
    {
     "name": "stdout",
     "output_type": "stream",
     "text": [
      "Validation @ 189: {'loss': 0.39172003442512116, 'accuracy': 0.5607032179832458, 'baseline': 0.7375940084457397}\n"
     ]
    },
    {
     "data": {
      "application/vnd.jupyter.widget-view+json": {
       "model_id": "aaf0e9cae6a5438d8dc5109e9bba1a88",
       "version_major": 2,
       "version_minor": 0
      },
      "text/plain": [
       "Epoch 190:   0%|          | 0/363 [00:00<?, ?it/s]"
      ]
     },
     "metadata": {},
     "output_type": "display_data"
    },
    {
     "name": "stdout",
     "output_type": "stream",
     "text": [
      "Training @ 190: {'loss': 0.10022054860970542, 'accuracy': 0.8877330422401428, 'baseline': 0.7502912878990173}\n"
     ]
    },
    {
     "data": {
      "application/vnd.jupyter.widget-view+json": {
       "model_id": "bc2acc6f9bc34e69b297e3d41bd4d5c6",
       "version_major": 2,
       "version_minor": 0
      },
      "text/plain": [
       "Evaluating:   0%|          | 0/39 [00:00<?, ?it/s]"
      ]
     },
     "metadata": {},
     "output_type": "display_data"
    },
    {
     "name": "stdout",
     "output_type": "stream",
     "text": [
      "Validation @ 190: {'loss': 0.39233590790169376, 'accuracy': 0.5608038306236267, 'baseline': 0.731456995010376}\n"
     ]
    },
    {
     "data": {
      "application/vnd.jupyter.widget-view+json": {
       "model_id": "48aba7a954b14ace8b29b85d5797fe60",
       "version_major": 2,
       "version_minor": 0
      },
      "text/plain": [
       "Epoch 191:   0%|          | 0/363 [00:00<?, ?it/s]"
      ]
     },
     "metadata": {},
     "output_type": "display_data"
    },
    {
     "name": "stdout",
     "output_type": "stream",
     "text": [
      "Training @ 191: {'loss': 0.09993287056817932, 'accuracy': 0.8883599638938904, 'baseline': 0.7502912878990173}\n"
     ]
    },
    {
     "data": {
      "application/vnd.jupyter.widget-view+json": {
       "model_id": "cfdfb01ee3f14f908f7126aa255f6ec2",
       "version_major": 2,
       "version_minor": 0
      },
      "text/plain": [
       "Evaluating:   0%|          | 0/39 [00:00<?, ?it/s]"
      ]
     },
     "metadata": {},
     "output_type": "display_data"
    },
    {
     "name": "stdout",
     "output_type": "stream",
     "text": [
      "Validation @ 191: {'loss': 0.3929106329019534, 'accuracy': 0.5608792901039124, 'baseline': 0.7263261079788208}\n"
     ]
    },
    {
     "data": {
      "application/vnd.jupyter.widget-view+json": {
       "model_id": "08281ffddb974056be75e7d0b0177628",
       "version_major": 2,
       "version_minor": 0
      },
      "text/plain": [
       "Epoch 192:   0%|          | 0/363 [00:00<?, ?it/s]"
      ]
     },
     "metadata": {},
     "output_type": "display_data"
    },
    {
     "name": "stdout",
     "output_type": "stream",
     "text": [
      "Training @ 192: {'loss': 0.09968481494439625, 'accuracy': 0.8888524174690247, 'baseline': 0.7502912878990173}\n"
     ]
    },
    {
     "data": {
      "application/vnd.jupyter.widget-view+json": {
       "model_id": "6e21ba9264b44234b051dac70c9496e4",
       "version_major": 2,
       "version_minor": 0
      },
      "text/plain": [
       "Evaluating:   0%|          | 0/39 [00:00<?, ?it/s]"
      ]
     },
     "metadata": {},
     "output_type": "display_data"
    },
    {
     "name": "stdout",
     "output_type": "stream",
     "text": [
      "Validation @ 192: {'loss': 0.3934411938182545, 'accuracy': 0.5612817406654358, 'baseline': 0.7382227778434753}\n"
     ]
    },
    {
     "data": {
      "application/vnd.jupyter.widget-view+json": {
       "model_id": "af0f0cd61d9f40c3bbba9133f4b8bce0",
       "version_major": 2,
       "version_minor": 0
      },
      "text/plain": [
       "Epoch 193:   0%|          | 0/363 [00:00<?, ?it/s]"
      ]
     },
     "metadata": {},
     "output_type": "display_data"
    },
    {
     "name": "stdout",
     "output_type": "stream",
     "text": [
      "Training @ 193: {'loss': 0.09946183688634753, 'accuracy': 0.8891187906265259, 'baseline': 0.7502912878990173}\n"
     ]
    },
    {
     "data": {
      "application/vnd.jupyter.widget-view+json": {
       "model_id": "800b0e2b6dc44836ac6f7b0d06b7886f",
       "version_major": 2,
       "version_minor": 0
      },
      "text/plain": [
       "Evaluating:   0%|          | 0/39 [00:00<?, ?it/s]"
      ]
     },
     "metadata": {},
     "output_type": "display_data"
    },
    {
     "name": "stdout",
     "output_type": "stream",
     "text": [
      "Validation @ 193: {'loss': 0.39393588260204826, 'accuracy': 0.5611559748649597, 'baseline': 0.729319155216217}\n"
     ]
    },
    {
     "data": {
      "application/vnd.jupyter.widget-view+json": {
       "model_id": "d52ac1d467e2409c849f0b3e7df1a2f6",
       "version_major": 2,
       "version_minor": 0
      },
      "text/plain": [
       "Epoch 194:   0%|          | 0/363 [00:00<?, ?it/s]"
      ]
     },
     "metadata": {},
     "output_type": "display_data"
    },
    {
     "name": "stdout",
     "output_type": "stream",
     "text": [
      "Training @ 194: {'loss': 0.09927959043078197, 'accuracy': 0.8895008563995361, 'baseline': 0.7502912878990173}\n"
     ]
    },
    {
     "data": {
      "application/vnd.jupyter.widget-view+json": {
       "model_id": "d454e132393843e0a2300359b67f81f3",
       "version_major": 2,
       "version_minor": 0
      },
      "text/plain": [
       "Evaluating:   0%|          | 0/39 [00:00<?, ?it/s]"
      ]
     },
     "metadata": {},
     "output_type": "display_data"
    },
    {
     "name": "stdout",
     "output_type": "stream",
     "text": [
      "Validation @ 194: {'loss': 0.39437160548101463, 'accuracy': 0.5617092847824097, 'baseline': 0.7283382415771484}\n"
     ]
    },
    {
     "data": {
      "application/vnd.jupyter.widget-view+json": {
       "model_id": "ca340fab833f4a9fa4d5f6db35a99adb",
       "version_major": 2,
       "version_minor": 0
      },
      "text/plain": [
       "Epoch 195:   0%|          | 0/363 [00:00<?, ?it/s]"
      ]
     },
     "metadata": {},
     "output_type": "display_data"
    },
    {
     "name": "stdout",
     "output_type": "stream",
     "text": [
      "Training @ 195: {'loss': 0.09914235820058015, 'accuracy': 0.8898937106132507, 'baseline': 0.7502912878990173}\n"
     ]
    },
    {
     "data": {
      "application/vnd.jupyter.widget-view+json": {
       "model_id": "492ad38ee3344ab7883256d1e0b91b26",
       "version_major": 2,
       "version_minor": 0
      },
      "text/plain": [
       "Evaluating:   0%|          | 0/39 [00:00<?, ?it/s]"
      ]
     },
     "metadata": {},
     "output_type": "display_data"
    },
    {
     "name": "stdout",
     "output_type": "stream",
     "text": [
      "Validation @ 195: {'loss': 0.39477225160370283, 'accuracy': 0.5622625946998596, 'baseline': 0.7373424768447876}\n"
     ]
    },
    {
     "data": {
      "application/vnd.jupyter.widget-view+json": {
       "model_id": "03d73adf9b4a4af392fc305dd6f593cf",
       "version_major": 2,
       "version_minor": 0
      },
      "text/plain": [
       "Epoch 196:   0%|          | 0/363 [00:00<?, ?it/s]"
      ]
     },
     "metadata": {},
     "output_type": "display_data"
    },
    {
     "name": "stdout",
     "output_type": "stream",
     "text": [
      "Training @ 196: {'loss': 0.09906271024419978, 'accuracy': 0.8901224136352539, 'baseline': 0.7502912878990173}\n"
     ]
    },
    {
     "data": {
      "application/vnd.jupyter.widget-view+json": {
       "model_id": "8e4058be194547f6a186875a99d544d2",
       "version_major": 2,
       "version_minor": 0
      },
      "text/plain": [
       "Evaluating:   0%|          | 0/39 [00:00<?, ?it/s]"
      ]
     },
     "metadata": {},
     "output_type": "display_data"
    },
    {
     "name": "stdout",
     "output_type": "stream",
     "text": [
      "Validation @ 196: {'loss': 0.3950427320907556, 'accuracy': 0.5628411173820496, 'baseline': 0.7291179299354553}\n"
     ]
    },
    {
     "data": {
      "application/vnd.jupyter.widget-view+json": {
       "model_id": "af5b2cf4a5d5475ebf83e231d0b67ef4",
       "version_major": 2,
       "version_minor": 0
      },
      "text/plain": [
       "Epoch 197:   0%|          | 0/363 [00:00<?, ?it/s]"
      ]
     },
     "metadata": {},
     "output_type": "display_data"
    },
    {
     "name": "stdout",
     "output_type": "stream",
     "text": [
      "Training @ 197: {'loss': 0.09906299283936645, 'accuracy': 0.8900901675224304, 'baseline': 0.7502912878990173}\n"
     ]
    },
    {
     "data": {
      "application/vnd.jupyter.widget-view+json": {
       "model_id": "6d08805c0f274dfbbe8ce092ff59111e",
       "version_major": 2,
       "version_minor": 0
      },
      "text/plain": [
       "Evaluating:   0%|          | 0/39 [00:00<?, ?it/s]"
      ]
     },
     "metadata": {},
     "output_type": "display_data"
    },
    {
     "name": "stdout",
     "output_type": "stream",
     "text": [
      "Validation @ 197: {'loss': 0.3951500876251968, 'accuracy': 0.5635956525802612, 'baseline': 0.7343494296073914}\n"
     ]
    },
    {
     "data": {
      "application/vnd.jupyter.widget-view+json": {
       "model_id": "07830952448d4dc0b633924f3785a2ae",
       "version_major": 2,
       "version_minor": 0
      },
      "text/plain": [
       "Epoch 198:   0%|          | 0/363 [00:00<?, ?it/s]"
      ]
     },
     "metadata": {},
     "output_type": "display_data"
    },
    {
     "name": "stdout",
     "output_type": "stream",
     "text": [
      "Training @ 198: {'loss': 0.09917719800850021, 'accuracy': 0.889926016330719, 'baseline': 0.7502912878990173}\n"
     ]
    },
    {
     "data": {
      "application/vnd.jupyter.widget-view+json": {
       "model_id": "323350c9f94040b290be19e0f6da9645",
       "version_major": 2,
       "version_minor": 0
      },
      "text/plain": [
       "Evaluating:   0%|          | 0/39 [00:00<?, ?it/s]"
      ]
     },
     "metadata": {},
     "output_type": "display_data"
    },
    {
     "name": "stdout",
     "output_type": "stream",
     "text": [
      "Validation @ 198: {'loss': 0.3950978807482658, 'accuracy': 0.564475953578949, 'baseline': 0.7319852113723755}\n"
     ]
    },
    {
     "data": {
      "application/vnd.jupyter.widget-view+json": {
       "model_id": "58e40c5a58734a55a99c63c6c46a3b03",
       "version_major": 2,
       "version_minor": 0
      },
      "text/plain": [
       "Epoch 199:   0%|          | 0/363 [00:00<?, ?it/s]"
      ]
     },
     "metadata": {},
     "output_type": "display_data"
    },
    {
     "name": "stdout",
     "output_type": "stream",
     "text": [
      "Training @ 199: {'loss': 0.09950962205793679, 'accuracy': 0.8892425298690796, 'baseline': 0.7502912878990173}\n"
     ]
    },
    {
     "data": {
      "application/vnd.jupyter.widget-view+json": {
       "model_id": "f0ceb8350d7a4935a44e34be8ac9925b",
       "version_major": 2,
       "version_minor": 0
      },
      "text/plain": [
       "Evaluating:   0%|          | 0/39 [00:00<?, ?it/s]"
      ]
     },
     "metadata": {},
     "output_type": "display_data"
    },
    {
     "name": "stdout",
     "output_type": "stream",
     "text": [
      "Validation @ 199: {'loss': 0.39495378102514206, 'accuracy': 0.5649538636207581, 'baseline': 0.7425236701965332}\n"
     ]
    },
    {
     "data": {
      "application/vnd.jupyter.widget-view+json": {
       "model_id": "7e9f04c2bd7542d2988a4eb7adebb7c7",
       "version_major": 2,
       "version_minor": 0
      },
      "text/plain": [
       "Epoch 200:   0%|          | 0/363 [00:00<?, ?it/s]"
      ]
     },
     "metadata": {},
     "output_type": "display_data"
    },
    {
     "name": "stdout",
     "output_type": "stream",
     "text": [
      "Training @ 200: {'loss': 0.10038216791309446, 'accuracy': 0.8878083825111389, 'baseline': 0.7502912878990173}\n"
     ]
    },
    {
     "data": {
      "application/vnd.jupyter.widget-view+json": {
       "model_id": "87317052ce0b4ba1ab3d2e70854da8e3",
       "version_major": 2,
       "version_minor": 0
      },
      "text/plain": [
       "Evaluating:   0%|          | 0/39 [00:00<?, ?it/s]"
      ]
     },
     "metadata": {},
     "output_type": "display_data"
    },
    {
     "name": "stdout",
     "output_type": "stream",
     "text": [
      "Validation @ 200: {'loss': 0.3937053849096614, 'accuracy': 0.5661610960960388, 'baseline': 0.7291682362556458}\n"
     ]
    }
   ],
   "source": [
    "import tqdm.notebook as tqdm_notebook\n",
    "\n",
    "# note: if we want to get a massive speedup,\n",
    "# we can probably use a sparse optimization scheme somehow\n",
    "optim = torch.optim.Adam([\n",
    "    *deepfm.parameters(),\n",
    "    *user_embedding_table.parameters()\n",
    "], lr=0.001)\n",
    "\n",
    "# determine how to give a reward\n",
    "# we will just give a reward if the user rated the movie >= 7/10\n",
    "\n",
    "loss_type = \"mse\"\n",
    "reward_rating_cutoff = 7\n",
    "\n",
    "avg_reward_per_movie_numer = torch.zeros(len(train_movie_ids), device=device)\n",
    "avg_reward_per_movie_denom = torch.zeros(len(train_movie_ids), device=device)\n",
    "\n",
    "# iterate over ratings in random batches\n",
    "indexes = torch.randperm(len(train_ratings))\n",
    "batch_size = 1024\n",
    "\n",
    "# Store the reward history.\n",
    "epochs = 200\n",
    "loss_history = []\n",
    "accuracy_history = []\n",
    "baseline_history = [] # note(michael): should be a constant but i'm logging it every time for my sanity\n",
    "\n",
    "for epoch in range(epochs):\n",
    "    epoch_loss_total = 0\n",
    "    epoch_corrects = 0\n",
    "    epoch_correct_baseline = 0\n",
    "    epoch_seen = 0\n",
    "    for batch_start in (pbar := tqdm_notebook.tqdm(range(0, len(indexes), batch_size), desc='Epoch ' + str(epoch + 1))):\n",
    "        batch = train_ratings.iloc[indexes[batch_start:batch_start + batch_size]]\n",
    "\n",
    "        movie_slugs = [str(x) for x in batch['movie_id'].values]\n",
    "        train_user_ids = batch['user_id'].values\n",
    "        ratings_ = batch['rating_val'].values\n",
    "\n",
    "        user_indices = torch.tensor([user_id_to_index[user_id] for user_id in train_user_ids], device=device)\n",
    "        user_vectors = user_embedding_table(user_indices)\n",
    "        movie_vectors = movie_metadata_table(movie_slugs).to(device)\n",
    "        movie_average_ratings = movie_vectors[:, 2].to(device)\n",
    "        \n",
    "        assert not movie_vectors.isnan().any(), \"NaN movie vectors found.\"\n",
    "\n",
    "        # add a bias if the average movie rating is greater than 7\n",
    "        predictions = torch.sigmoid(deepfm(movie_vectors.float(), user_vectors.float()).squeeze(-1)) # + 1.0 * (movie_vectors[..., 2] > 7))\n",
    "        rewards = torch.tensor(ratings_ >= reward_rating_cutoff, device=device, dtype=torch.float32)\n",
    "\n",
    "        assert not torch.any(rewards.isnan())\n",
    "\n",
    "        if loss_type == 'mse':\n",
    "            # resembles learning q function\n",
    "            loss = F.mse_loss(predictions, rewards)\n",
    "        elif loss_type == 'binary_crossentropy':\n",
    "            # loosely resembles policy gradient\n",
    "            loss = F.binary_cross_entropy_with_logits(predictions, rewards.float())\n",
    "\n",
    "        optim.zero_grad()\n",
    "        loss.backward()\n",
    "        optim.step()\n",
    "        \n",
    "        epoch_corrects += ((predictions >= 0.5) == rewards).sum()\n",
    "        \n",
    "        movie_pos_in_tracking_vector = [train_movie_ids.index(slug) for slug in movie_slugs]\n",
    "        avg_reward_per_movie_numer[movie_pos_in_tracking_vector] += rewards\n",
    "        avg_reward_per_movie_denom[movie_pos_in_tracking_vector] += 1\n",
    "        baseline_reward_predictions = (avg_reward_per_movie_numer/avg_reward_per_movie_denom)[movie_pos_in_tracking_vector]\n",
    "        baseline_corrects = (baseline_reward_predictions >= 0.5) == rewards\n",
    "        # baseline_corrects = (movie_average_ratings > reward_rating_cutoff) == rewards\n",
    "        epoch_correct_baseline += baseline_corrects.sum()\n",
    "        epoch_loss_total += loss.item() * len(user_indices)\n",
    "        epoch_seen += len(user_indices)\n",
    "\n",
    "        pbar.set_postfix(loss=epoch_loss_total / epoch_seen, accuracy=(epoch_corrects / epoch_seen).item(), baseline=(epoch_correct_baseline / epoch_seen).item())\n",
    "    \n",
    "    loss_history.append(epoch_loss_total / epoch_seen)\n",
    "    accuracy_history.append((epoch_corrects / epoch_seen).item())\n",
    "    baseline_history.append((epoch_correct_baseline / epoch_seen).item())\n",
    "    \n",
    "    print(f\"Training @ {epoch+1}:\", dict(loss=epoch_loss_total / epoch_seen, accuracy=(epoch_corrects / epoch_seen).item(), baseline=(epoch_correct_baseline / epoch_seen).item()))\n",
    "    evaluate(test_ratings, test_movie_ids, epoch+1)\n"
   ]
  },
  {
   "cell_type": "markdown",
   "id": "de5fc5d3-c008-4d8b-b9ab-6756b73ad25f",
   "metadata": {},
   "source": [
    "## calculate validation results"
   ]
  },
  {
   "cell_type": "code",
   "execution_count": 11,
   "id": "97a85441-bec0-4eea-aeaf-ae9276bedf3c",
   "metadata": {
    "tags": []
   },
   "outputs": [],
   "source": [
    "def evaluate(test_ratings, test_movie_ids, epoch_num):\n",
    "    epoch_correct_baseline = 0\n",
    "    epoch_corrects = 0\n",
    "    epoch_seen = 0\n",
    "    epoch_loss_total = 0\n",
    "    indexes = torch.randperm(len(test_ratings))\n",
    "    \n",
    "    avg_reward_per_movie_numer = torch.zeros(len(test_movie_ids), device=device)\n",
    "    avg_reward_per_movie_denom = torch.zeros(len(test_movie_ids), device=device)\n",
    "    \n",
    "    for batch_start in (pbar := tqdm_notebook.tqdm(range(0, len(indexes), batch_size), desc='Evaluating')):\n",
    "        batch = test_ratings.iloc[indexes[batch_start:batch_start + batch_size]]\n",
    "\n",
    "        movie_slugs = [str(x) for x in batch['movie_id'].values]\n",
    "        user_ids = batch['user_id'].values\n",
    "        ratings_ = batch['rating_val'].values\n",
    "\n",
    "        with torch.no_grad():\n",
    "            user_indices = torch.tensor([user_id_to_index[user_id] for user_id in user_ids], device=device)\n",
    "            user_vectors = user_embedding_table(user_indices)\n",
    "            movie_vectors = movie_metadata_table(movie_slugs).to(device)\n",
    "            movie_average_ratings = movie_vectors[:, 2].to(device)\n",
    "\n",
    "            assert not movie_vectors.isnan().any(), \"NaN movie vectors found.\"\n",
    "\n",
    "            predictions = torch.sigmoid(deepfm(movie_vectors.float(), user_vectors.float()).squeeze(-1))\n",
    "            rewards = torch.tensor(ratings_ >= reward_rating_cutoff, device=device, dtype=torch.float32)\n",
    "            \n",
    "            # calculate loss, but do not use for optimization!!\n",
    "            if loss_type == 'mse':\n",
    "                # resembles learning q function\n",
    "                loss = F.mse_loss(predictions, rewards)\n",
    "            elif loss_type == 'binary_crossentropy':\n",
    "                # loosely resembles policy gradient\n",
    "                loss = F.binary_cross_entropy_with_logits(predictions, rewards.float())\n",
    "\n",
    "        epoch_corrects += ((predictions >= 0.5) == rewards).sum()\n",
    "\n",
    "        movie_pos_in_tracking_vector = [test_movie_ids.index(slug) for slug in movie_slugs]\n",
    "        avg_reward_per_movie_numer[movie_pos_in_tracking_vector] += rewards\n",
    "        avg_reward_per_movie_denom[movie_pos_in_tracking_vector] += 1\n",
    "        baseline_reward_predictions = (avg_reward_per_movie_numer/avg_reward_per_movie_denom)[movie_pos_in_tracking_vector]\n",
    "        baseline_corrects = (baseline_reward_predictions >= 0.5) == rewards\n",
    "        # baseline_corrects = (movie_average_ratings > reward_rating_cutoff) == rewards\n",
    "        epoch_correct_baseline += baseline_corrects.sum()\n",
    "        epoch_loss_total += loss.item() * len(user_indices)\n",
    "        epoch_seen += len(user_indices)\n",
    "\n",
    "        pbar.set_postfix(loss=epoch_loss_total / epoch_seen, accuracy=(epoch_corrects / epoch_seen).item(), baseline=(epoch_correct_baseline / epoch_seen).item())\n",
    "        \n",
    "    # print data explicitly in case tqdm messes up\n",
    "    print(f\"Validation @ {epoch_num}:\", dict(loss=epoch_loss_total / epoch_seen, accuracy=(epoch_corrects / epoch_seen).item(), baseline=(epoch_correct_baseline / epoch_seen).item()))\n"
   ]
  },
  {
   "cell_type": "code",
   "execution_count": 66,
   "id": "64342803-47b4-4285-8b13-b90ec57dc4f6",
   "metadata": {
    "tags": []
   },
   "outputs": [
    {
     "data": {
      "application/vnd.jupyter.widget-view+json": {
       "model_id": "4022b479561f42fbbcdc4546bc030b3e",
       "version_major": 2,
       "version_minor": 0
      },
      "text/plain": [
       "Evaluating:   0%|          | 0/39 [00:00<?, ?it/s]"
      ]
     },
     "metadata": {},
     "output_type": "display_data"
    },
    {
     "name": "stdout",
     "output_type": "stream",
     "text": [
      "Validation @ 100: {'loss': 0.2795397595012238, 'accuracy': 0.521793782711029, 'baseline': 0.7370909452438354}\n"
     ]
    }
   ],
   "source": [
    "evaluate(test_ratings, test_movie_ids, 100)"
   ]
  },
  {
   "cell_type": "code",
   "execution_count": 28,
   "id": "7385c4be-ecae-4498-a7b7-a75f2bcb2679",
   "metadata": {},
   "outputs": [
    {
     "data": {
      "text/plain": [
       "0.11914060991449937"
      ]
     },
     "execution_count": 28,
     "metadata": {},
     "output_type": "execute_result"
    }
   ],
   "source": [
    "epoch_loss_total/epoch_seen"
   ]
  },
  {
   "cell_type": "code",
   "execution_count": 29,
   "id": "05543eae-57ae-4d0a-ae53-c62c137bbdc1",
   "metadata": {
    "tags": []
   },
   "outputs": [
    {
     "data": {
      "text/plain": [
       "tensor(0.8453, device='cuda:0')"
      ]
     },
     "execution_count": 29,
     "metadata": {},
     "output_type": "execute_result"
    }
   ],
   "source": [
    "epoch_corrects/epoch_seen"
   ]
  },
  {
   "cell_type": "code",
   "execution_count": 31,
   "id": "234b5200-b72c-4fbb-aa3c-78a471b34a6b",
   "metadata": {
    "tags": []
   },
   "outputs": [
    {
     "data": {
      "text/plain": [
       "tensor(0.7505, device='cuda:0')"
      ]
     },
     "execution_count": 31,
     "metadata": {},
     "output_type": "execute_result"
    }
   ],
   "source": [
    "epoch_correct_baseline/epoch_seen"
   ]
  },
  {
   "cell_type": "code",
   "execution_count": null,
   "id": "4b9d2cae-5d27-432d-90e0-6c4fbd7f667c",
   "metadata": {},
   "outputs": [],
   "source": []
  }
 ],
 "metadata": {
  "kernelspec": {
   "display_name": "rvt",
   "language": "python",
   "name": "rvt"
  },
  "language_info": {
   "codemirror_mode": {
    "name": "ipython",
    "version": 3
   },
   "file_extension": ".py",
   "mimetype": "text/x-python",
   "name": "python",
   "nbconvert_exporter": "python",
   "pygments_lexer": "ipython3",
   "version": "3.8.18"
  }
 },
 "nbformat": 4,
 "nbformat_minor": 5
}
