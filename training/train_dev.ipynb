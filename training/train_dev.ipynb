{
 "cells": [
  {
   "cell_type": "code",
   "execution_count": 1,
   "id": "a97779f9-0cdb-4fef-a5a4-5906b0db4dc5",
   "metadata": {
    "tags": []
   },
   "outputs": [],
   "source": [
    "%load_ext autoreload\n",
    "%autoreload 2"
   ]
  },
  {
   "cell_type": "code",
   "execution_count": 2,
   "id": "7bf301c8-d010-4fdf-bfc5-8e1b176f39c3",
   "metadata": {
    "tags": []
   },
   "outputs": [],
   "source": [
    "import torch\n",
    "import torch.nn as nn\n",
    "import torch.nn.functional as F\n",
    "import pandas as pd\n",
    "\n",
    "from movie_metadata_table import MovieMetadataTable\n",
    "\n",
    "import sys\n",
    "sys.path.append(\"../algorithms\")\n",
    "from deepfm import DeepFM # type: ignore"
   ]
  },
  {
   "cell_type": "code",
   "execution_count": 3,
   "id": "b657abeb-9235-4923-be78-0f8a0aed7e3b",
   "metadata": {
    "tags": []
   },
   "outputs": [],
   "source": [
    "movie_metadata_table = MovieMetadataTable(\n",
    "    movie_ids_file=\"../data/movie_ids.json\",\n",
    "    movie_data_vectorized_file=\"../data/vectorizing/movie_data_vectorized.csv\",\n",
    "    nlp_vectors_file=\"../data/vectorizing/nlp_vectors.pt\",\n",
    ")"
   ]
  },
  {
   "cell_type": "code",
   "execution_count": 29,
   "id": "4c60aa91-fa52-4ae8-b08f-8ea75d975ed1",
   "metadata": {
    "tags": []
   },
   "outputs": [],
   "source": [
    "import json\n",
    "import random\n",
    "\n",
    "random.seed(8888)\n",
    "\n",
    "# get movie ids, clipping off movie ids that are not in the movie tensor\n",
    "all_movie_ids = json.load(open(\"../data/movie_ids.json\"))[:movie_metadata_table.movie_tensor.shape[0]]\n",
    "random.shuffle(all_movie_ids)\n",
    "\n",
    "ratings = pd.read_csv(\"../data/ratings_export.csv\")\n",
    "\n",
    "train_user_ids = None\n",
    "train_movie_ids = all_movie_ids[:30]\n",
    "\n",
    "if train_user_ids is not None:\n",
    "    ratings = ratings[ratings['user_id'].isin(train_user_ids)]\n",
    "\n",
    "if train_movie_ids is not None:\n",
    "    ratings = ratings[ratings['movie_id'].isin(train_movie_ids)]\n",
    "\n",
    "all_user_ids = ratings['user_id'].unique()\n",
    "all_movie_slugs = ratings['movie_id'].unique()\n",
    "\n",
    "device = \"cuda\" if torch.cuda.is_available() else \"cpu\"\n",
    "user_vector_size = 64\n",
    "user_id_to_index = {user_id: i for i, user_id in enumerate(all_user_ids)}"
   ]
  },
  {
   "cell_type": "code",
   "execution_count": 19,
   "id": "16229b9a-f043-42c0-ac04-e9c1dbe9b81f",
   "metadata": {
    "tags": []
   },
   "outputs": [
    {
     "name": "stdout",
     "output_type": "stream",
     "text": [
      "285961 torch.Size([270422, 231])\n"
     ]
    }
   ],
   "source": [
    "print(len(movie_metadata_table.movie_ids), movie_metadata_table.movie_tensor.shape)"
   ]
  },
  {
   "cell_type": "code",
   "execution_count": 52,
   "id": "a87184dc-405e-4e6e-a5c6-f5a185c10c81",
   "metadata": {
    "tags": []
   },
   "outputs": [],
   "source": [
    "user_embedding_table = nn.Embedding(len(all_user_ids), user_vector_size).to(device)\n",
    "deepfm = DeepFM(\n",
    "    movie_metadata_table.movie_vector_size,\n",
    "    user_vector_size,\n",
    "    num_dense_movie_embeddings=8,\n",
    "    num_dense_user_embeddings=4,\n",
    "    dense_embedding_size=16,\n",
    "    mlp_sizes=[16, 16, 1],\n",
    ").to(device)"
   ]
  },
  {
   "cell_type": "code",
   "execution_count": 53,
   "id": "9ec2115e-73b9-4fff-9f78-a32f948e7bd7",
   "metadata": {
    "tags": []
   },
   "outputs": [
    {
     "name": "stderr",
     "output_type": "stream",
     "text": [
      "100%|██████████| 96/96 [00:00<00:00, 228.54it/s, accuracy=0.509, baseline=0.669, loss=52.7]\n",
      "100%|██████████| 96/96 [00:00<00:00, 230.34it/s, accuracy=0.54, baseline=0.711, loss=1.64] \n",
      "100%|██████████| 96/96 [00:00<00:00, 222.42it/s, accuracy=0.559, baseline=0.711, loss=1.29]\n",
      "100%|██████████| 96/96 [00:00<00:00, 230.29it/s, accuracy=0.558, baseline=0.711, loss=1.29]\n",
      "100%|██████████| 96/96 [00:00<00:00, 222.39it/s, accuracy=0.57, baseline=0.711, loss=1.45] \n",
      "100%|██████████| 96/96 [00:00<00:00, 230.62it/s, accuracy=0.548, baseline=0.711, loss=2.34]\n",
      "100%|██████████| 96/96 [00:00<00:00, 200.60it/s, accuracy=0.558, baseline=0.711, loss=2.59]\n",
      "100%|██████████| 96/96 [00:00<00:00, 207.98it/s, accuracy=0.542, baseline=0.711, loss=3.8] \n",
      "100%|██████████| 96/96 [00:00<00:00, 228.85it/s, accuracy=0.549, baseline=0.711, loss=2.42]\n",
      "100%|██████████| 96/96 [00:00<00:00, 222.63it/s, accuracy=0.577, baseline=0.711, loss=1.39]\n",
      "100%|██████████| 96/96 [00:00<00:00, 230.58it/s, accuracy=0.593, baseline=0.711, loss=0.958]\n",
      "100%|██████████| 96/96 [00:00<00:00, 220.54it/s, accuracy=0.608, baseline=0.711, loss=0.834]\n",
      "100%|██████████| 96/96 [00:00<00:00, 229.57it/s, accuracy=0.605, baseline=0.711, loss=0.967]\n",
      "100%|██████████| 96/96 [00:00<00:00, 220.71it/s, accuracy=0.583, baseline=0.711, loss=1.2] \n",
      "100%|██████████| 96/96 [00:00<00:00, 230.49it/s, accuracy=0.593, baseline=0.711, loss=1.5] \n",
      "100%|██████████| 96/96 [00:00<00:00, 230.24it/s, accuracy=0.574, baseline=0.711, loss=1.21]\n",
      "100%|██████████| 96/96 [00:00<00:00, 222.69it/s, accuracy=0.605, baseline=0.711, loss=0.752]\n",
      "100%|██████████| 96/96 [00:00<00:00, 208.10it/s, accuracy=0.626, baseline=0.711, loss=0.573]\n",
      "100%|██████████| 96/96 [00:00<00:00, 222.75it/s, accuracy=0.638, baseline=0.711, loss=0.513]\n",
      "100%|██████████| 96/96 [00:00<00:00, 208.77it/s, accuracy=0.626, baseline=0.711, loss=0.581]\n",
      "100%|██████████| 96/96 [00:00<00:00, 222.04it/s, accuracy=0.613, baseline=0.711, loss=0.803]\n",
      "100%|██████████| 96/96 [00:00<00:00, 230.71it/s, accuracy=0.61, baseline=0.711, loss=0.845] \n",
      "100%|██████████| 96/96 [00:00<00:00, 220.07it/s, accuracy=0.629, baseline=0.711, loss=0.724]\n",
      "100%|██████████| 96/96 [00:00<00:00, 229.64it/s, accuracy=0.651, baseline=0.711, loss=0.424]\n",
      "100%|██████████| 96/96 [00:00<00:00, 230.30it/s, accuracy=0.656, baseline=0.711, loss=0.409]\n",
      "100%|██████████| 96/96 [00:00<00:00, 222.33it/s, accuracy=0.634, baseline=0.711, loss=0.473]\n",
      "100%|██████████| 96/96 [00:00<00:00, 230.75it/s, accuracy=0.628, baseline=0.711, loss=0.438]\n",
      "100%|██████████| 96/96 [00:00<00:00, 221.40it/s, accuracy=0.619, baseline=0.711, loss=0.492]\n",
      "100%|██████████| 96/96 [00:00<00:00, 229.75it/s, accuracy=0.626, baseline=0.711, loss=0.478]\n",
      "100%|██████████| 96/96 [00:00<00:00, 201.15it/s, accuracy=0.643, baseline=0.711, loss=0.443]\n",
      "100%|██████████| 96/96 [00:00<00:00, 207.87it/s, accuracy=0.643, baseline=0.711, loss=0.385]\n",
      "100%|██████████| 96/96 [00:00<00:00, 230.72it/s, accuracy=0.651, baseline=0.711, loss=0.397]\n",
      "100%|██████████| 96/96 [00:00<00:00, 222.31it/s, accuracy=0.662, baseline=0.711, loss=0.445]\n",
      "100%|██████████| 96/96 [00:00<00:00, 229.36it/s, accuracy=0.671, baseline=0.711, loss=0.35] \n",
      "100%|██████████| 96/96 [00:00<00:00, 221.51it/s, accuracy=0.708, baseline=0.711, loss=0.269]\n",
      "100%|██████████| 96/96 [00:00<00:00, 230.50it/s, accuracy=0.713, baseline=0.711, loss=0.29] \n",
      "100%|██████████| 96/96 [00:00<00:00, 221.03it/s, accuracy=0.711, baseline=0.711, loss=0.319]\n",
      "100%|██████████| 96/96 [00:00<00:00, 230.48it/s, accuracy=0.701, baseline=0.711, loss=0.312]\n",
      "100%|██████████| 96/96 [00:00<00:00, 230.54it/s, accuracy=0.689, baseline=0.711, loss=0.352]\n",
      "100%|██████████| 96/96 [00:00<00:00, 222.44it/s, accuracy=0.686, baseline=0.711, loss=0.324]\n",
      "100%|██████████| 96/96 [00:00<00:00, 230.02it/s, accuracy=0.69, baseline=0.711, loss=0.324] \n",
      "100%|██████████| 96/96 [00:00<00:00, 201.41it/s, accuracy=0.697, baseline=0.711, loss=0.277]\n",
      "100%|██████████| 96/96 [00:00<00:00, 207.70it/s, accuracy=0.72, baseline=0.711, loss=0.236] \n",
      "100%|██████████| 96/96 [00:00<00:00, 221.18it/s, accuracy=0.741, baseline=0.711, loss=0.211]\n",
      "100%|██████████| 96/96 [00:00<00:00, 230.44it/s, accuracy=0.759, baseline=0.711, loss=0.2]  \n",
      "100%|██████████| 96/96 [00:00<00:00, 219.02it/s, accuracy=0.76, baseline=0.711, loss=0.208] \n",
      "100%|██████████| 96/96 [00:00<00:00, 229.00it/s, accuracy=0.741, baseline=0.711, loss=0.225]\n",
      "100%|██████████| 96/96 [00:00<00:00, 230.45it/s, accuracy=0.728, baseline=0.711, loss=0.226]\n",
      "100%|██████████| 96/96 [00:00<00:00, 222.46it/s, accuracy=0.728, baseline=0.711, loss=0.213]\n",
      "100%|██████████| 96/96 [00:00<00:00, 230.52it/s, accuracy=0.762, baseline=0.711, loss=0.195]\n",
      "100%|██████████| 96/96 [00:00<00:00, 222.13it/s, accuracy=0.784, baseline=0.711, loss=0.172]\n",
      "100%|██████████| 96/96 [00:00<00:00, 229.85it/s, accuracy=0.79, baseline=0.711, loss=0.181] \n",
      "100%|██████████| 96/96 [00:00<00:00, 204.14it/s, accuracy=0.793, baseline=0.711, loss=0.17] \n",
      "100%|██████████| 96/96 [00:00<00:00, 224.77it/s, accuracy=0.803, baseline=0.711, loss=0.169]\n",
      "100%|██████████| 96/96 [00:00<00:00, 205.61it/s, accuracy=0.796, baseline=0.711, loss=0.164]\n",
      "100%|██████████| 96/96 [00:00<00:00, 222.82it/s, accuracy=0.815, baseline=0.711, loss=0.163]\n",
      "100%|██████████| 96/96 [00:00<00:00, 229.76it/s, accuracy=0.828, baseline=0.711, loss=0.15] \n",
      "100%|██████████| 96/96 [00:00<00:00, 222.48it/s, accuracy=0.827, baseline=0.711, loss=0.166]\n",
      "100%|██████████| 96/96 [00:00<00:00, 229.86it/s, accuracy=0.831, baseline=0.711, loss=0.152]\n",
      "100%|██████████| 96/96 [00:00<00:00, 221.34it/s, accuracy=0.829, baseline=0.711, loss=0.157]\n",
      "100%|██████████| 96/96 [00:00<00:00, 230.21it/s, accuracy=0.835, baseline=0.711, loss=0.151]\n",
      "100%|██████████| 96/96 [00:00<00:00, 229.83it/s, accuracy=0.824, baseline=0.711, loss=0.154]\n",
      "100%|██████████| 96/96 [00:00<00:00, 222.41it/s, accuracy=0.834, baseline=0.711, loss=0.153]\n",
      "100%|██████████| 96/96 [00:00<00:00, 230.41it/s, accuracy=0.801, baseline=0.711, loss=0.187]\n",
      "100%|██████████| 96/96 [00:00<00:00, 201.15it/s, accuracy=0.801, baseline=0.711, loss=0.194]\n",
      "100%|██████████| 96/96 [00:00<00:00, 234.09it/s, accuracy=0.799, baseline=0.711, loss=0.183]\n",
      "100%|██████████| 96/96 [00:00<00:00, 194.14it/s, accuracy=0.845, baseline=0.711, loss=0.158]\n",
      "100%|██████████| 96/96 [00:00<00:00, 229.28it/s, accuracy=0.824, baseline=0.711, loss=0.182]\n",
      "100%|██████████| 96/96 [00:00<00:00, 219.90it/s, accuracy=0.793, baseline=0.711, loss=0.204]\n",
      "100%|██████████| 96/96 [00:00<00:00, 230.96it/s, accuracy=0.777, baseline=0.711, loss=0.247]\n",
      "100%|██████████| 96/96 [00:00<00:00, 230.56it/s, accuracy=0.69, baseline=0.711, loss=0.438] \n",
      "100%|██████████| 96/96 [00:00<00:00, 222.96it/s, accuracy=0.559, baseline=0.711, loss=41.8] \n",
      "100%|██████████| 96/96 [00:00<00:00, 230.57it/s, accuracy=0.545, baseline=0.711, loss=41.7]\n",
      "100%|██████████| 96/96 [00:00<00:00, 223.31it/s, accuracy=0.535, baseline=0.711, loss=6.13]\n",
      "100%|██████████| 96/96 [00:00<00:00, 230.61it/s, accuracy=0.615, baseline=0.711, loss=1.43]\n",
      "100%|██████████| 96/96 [00:00<00:00, 220.76it/s, accuracy=0.715, baseline=0.711, loss=0.343]\n",
      "100%|██████████| 96/96 [00:00<00:00, 206.18it/s, accuracy=0.735, baseline=0.711, loss=0.261]\n",
      "100%|██████████| 96/96 [00:00<00:00, 206.30it/s, accuracy=0.749, baseline=0.711, loss=0.232]\n",
      "100%|██████████| 96/96 [00:00<00:00, 221.24it/s, accuracy=0.762, baseline=0.711, loss=0.216]\n",
      "100%|██████████| 96/96 [00:00<00:00, 228.56it/s, accuracy=0.765, baseline=0.711, loss=0.207]\n",
      "100%|██████████| 96/96 [00:00<00:00, 222.01it/s, accuracy=0.766, baseline=0.711, loss=0.202]\n",
      "100%|██████████| 96/96 [00:00<00:00, 230.34it/s, accuracy=0.766, baseline=0.711, loss=0.201]\n",
      "100%|██████████| 96/96 [00:00<00:00, 221.17it/s, accuracy=0.773, baseline=0.711, loss=0.203]\n",
      "100%|██████████| 96/96 [00:00<00:00, 230.90it/s, accuracy=0.773, baseline=0.711, loss=0.21] \n",
      "100%|██████████| 96/96 [00:00<00:00, 230.37it/s, accuracy=0.777, baseline=0.711, loss=0.219]\n",
      "100%|██████████| 96/96 [00:00<00:00, 222.74it/s, accuracy=0.773, baseline=0.711, loss=0.232]\n",
      "100%|██████████| 96/96 [00:00<00:00, 230.66it/s, accuracy=0.777, baseline=0.711, loss=0.244]\n",
      "100%|██████████| 96/96 [00:00<00:00, 223.01it/s, accuracy=0.784, baseline=0.711, loss=0.248]\n",
      "100%|██████████| 96/96 [00:00<00:00, 213.05it/s, accuracy=0.787, baseline=0.711, loss=0.243]\n",
      "100%|██████████| 96/96 [00:00<00:00, 203.15it/s, accuracy=0.801, baseline=0.711, loss=0.224]\n",
      "100%|██████████| 96/96 [00:00<00:00, 230.07it/s, accuracy=0.798, baseline=0.711, loss=0.223]\n",
      "100%|██████████| 96/96 [00:00<00:00, 222.55it/s, accuracy=0.801, baseline=0.711, loss=0.224]\n",
      "100%|██████████| 96/96 [00:00<00:00, 226.12it/s, accuracy=0.788, baseline=0.711, loss=0.231]\n",
      "100%|██████████| 96/96 [00:00<00:00, 230.51it/s, accuracy=0.784, baseline=0.711, loss=0.25] \n",
      "100%|██████████| 96/96 [00:00<00:00, 222.55it/s, accuracy=0.774, baseline=0.711, loss=0.33] \n",
      "100%|██████████| 96/96 [00:00<00:00, 230.66it/s, accuracy=0.748, baseline=0.711, loss=0.397]\n",
      "100%|██████████| 96/96 [00:00<00:00, 222.33it/s, accuracy=0.767, baseline=0.711, loss=0.296]\n",
      "100%|██████████| 96/96 [00:00<00:00, 230.59it/s, accuracy=0.811, baseline=0.711, loss=0.231]\n",
      "100%|██████████| 96/96 [00:00<00:00, 221.80it/s, accuracy=0.815, baseline=0.711, loss=0.206]\n",
      "100%|██████████| 96/96 [00:00<00:00, 209.15it/s, accuracy=0.81, baseline=0.711, loss=0.22]  \n"
     ]
    }
   ],
   "source": [
    "import tqdm\n",
    "\n",
    "# note: if we want to get a massive speedup,\n",
    "# we can probably use a sparse optimization scheme somehow\n",
    "optim = torch.optim.Adam([\n",
    "    *deepfm.parameters(),\n",
    "    *user_embedding_table.parameters()\n",
    "], lr=0.001)\n",
    "\n",
    "# determine how to give a reward\n",
    "# we will just give a reward if the user rated the movie >= 7/10\n",
    "\n",
    "loss_type = \"mse\"\n",
    "reward_rating_cutoff = 7\n",
    "\n",
    "avg_reward_per_movie_numer = torch.zeros(len(train_movie_ids), device=device)\n",
    "avg_reward_per_movie_denom = torch.zeros(len(train_movie_ids), device=device)\n",
    "\n",
    "# iterate over ratings in random batches\n",
    "indexes = torch.randperm(len(ratings))\n",
    "batch_size = 16\n",
    "\n",
    "for epoch in range(100):\n",
    "    epoch_loss_total = 0\n",
    "    epoch_corrects = 0\n",
    "    epoch_correct_baseline = 0\n",
    "    epoch_seen = 0\n",
    "    for batch_start in (pbar := tqdm.tqdm(range(0, len(indexes), batch_size))):\n",
    "        batch = ratings.iloc[indexes[batch_start:batch_start + batch_size]]\n",
    "\n",
    "        movie_slugs = [str(x) for x in batch['movie_id'].values]\n",
    "        train_user_ids = batch['user_id'].values\n",
    "        ratings_ = batch['rating_val'].values\n",
    "\n",
    "        user_indices = torch.tensor([user_id_to_index[user_id] for user_id in train_user_ids], device=device)\n",
    "        user_vectors = user_embedding_table(user_indices)\n",
    "        movie_vectors = movie_metadata_table(movie_slugs).to(device)\n",
    "        movie_average_ratings = movie_vectors[:, 2].to(device)\n",
    "\n",
    "        predictions = deepfm(movie_vectors.float(), user_vectors.float()).squeeze(-1)\n",
    "        rewards = torch.tensor(ratings_ >= reward_rating_cutoff, device=device, dtype=torch.float32)\n",
    "\n",
    "        assert not torch.any(rewards.isnan())\n",
    "\n",
    "        if loss_type == 'mse':\n",
    "            # resembles learning q function\n",
    "            loss = F.mse_loss(predictions, rewards)\n",
    "        elif loss_type == 'binary_crossentropy':\n",
    "            # loosely resembles policy gradient\n",
    "            loss = F.binary_cross_entropy_with_logits(predictions, rewards.float())\n",
    "\n",
    "        optim.zero_grad()\n",
    "        loss.backward()\n",
    "        optim.step()\n",
    "        \n",
    "        epoch_corrects += ((predictions >= 0.5) == rewards).sum()\n",
    "        \n",
    "        movie_pos_in_tracking_vector = [train_movie_ids.index(slug) for slug in movie_slugs]\n",
    "        avg_reward_per_movie_numer[movie_pos_in_tracking_vector] += rewards\n",
    "        avg_reward_per_movie_denom[movie_pos_in_tracking_vector] += 1\n",
    "        baseline_reward_predictions = (avg_reward_per_movie_numer/avg_reward_per_movie_denom)[movie_pos_in_tracking_vector]\n",
    "        baseline_corrects = (baseline_reward_predictions >= 0.5) == rewards\n",
    "        epoch_correct_baseline += baseline_corrects.sum()\n",
    "        epoch_loss_total += loss.item() * len(user_indices)\n",
    "        epoch_seen += len(user_indices)\n",
    "\n",
    "        pbar.set_postfix(loss=epoch_loss_total / epoch_seen, accuracy=(epoch_corrects / epoch_seen).item(), baseline=(epoch_correct_baseline / epoch_seen).item())\n"
   ]
  },
  {
   "cell_type": "code",
   "execution_count": null,
   "id": "03d15244-c3cf-4c0d-b12c-5ec6871eac12",
   "metadata": {},
   "outputs": [],
   "source": []
  }
 ],
 "metadata": {
  "kernelspec": {
   "display_name": "rvt",
   "language": "python",
   "name": "rvt"
  },
  "language_info": {
   "codemirror_mode": {
    "name": "ipython",
    "version": 3
   },
   "file_extension": ".py",
   "mimetype": "text/x-python",
   "name": "python",
   "nbconvert_exporter": "python",
   "pygments_lexer": "ipython3",
   "version": "3.8.18"
  }
 },
 "nbformat": 4,
 "nbformat_minor": 5
}
